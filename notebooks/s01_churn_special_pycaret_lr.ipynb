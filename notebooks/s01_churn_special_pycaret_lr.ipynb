{
 "cells": [
  {
   "cell_type": "markdown",
   "metadata": {},
   "source": [
    "<a id=\"top\"></a>"
   ]
  },
  {
   "cell_type": "markdown",
   "metadata": {},
   "source": [
    "<div class=\"alert alert-block alert-success\">\n",
    "<b>Kernel Author:</b>  <br>\n",
    "<a href=\"https://bhishanpdl.github.io/\" , target=\"_blank\">Bhishan Poudel, Ph.D Astrophysics</a> .\n",
    "</div>"
   ]
  },
  {
   "cell_type": "markdown",
   "metadata": {},
   "source": [
    "<a id=\"data-desc\"></a>\n",
    "\n",
    "<h1> Modelling Customer Churn using pycaret</h1>\n",
    "\n",
    "<a href=\"#top\" class=\"btn btn-primary btn-sm\" role=\"button\" aria-pressed=\"true\" style=\"color:white\" data-toggle=\"popover\" title=\"go to TOC\">Go to Top</a>\n",
    "\n",
    "References\n",
    "- [github:pycaret](https://github.com/pycaret)\n",
    "- [TWS: PyCaret 2.2 is here — What’s new?](https://towardsdatascience.com/pycaret-2-2-is-here-whats-new-ad7612ca63b)\n",
    "- [pycaret-demo-queens/PyCaret 2 Classification.ipynb](https://github.com/pycaret/pycaret-demo-queens/blob/main/PyCaret%202%20Classification.ipynb)"
   ]
  },
  {
   "cell_type": "markdown",
   "metadata": {},
   "source": [
    "<a id=\"lib\"></a>\n",
    "\n",
    "<h1> Load the libraries </h1>\n",
    "\n",
    "<a href=\"#top\" class=\"btn btn-primary btn-sm\" role=\"button\" aria-pressed=\"true\" style=\"color:white\" data-toggle=\"popover\" title=\"go to TOC\">Go to Top</a>"
   ]
  },
  {
   "cell_type": "code",
   "execution_count": 1,
   "metadata": {
    "ExecuteTime": {
     "end_time": "2020-12-18T21:50:51.199152Z",
     "start_time": "2020-12-18T21:50:51.195838Z"
    }
   },
   "outputs": [],
   "source": [
    "import time\n",
    "\n",
    "time_start_notebook = time.time()"
   ]
  },
  {
   "cell_type": "code",
   "execution_count": 2,
   "metadata": {
    "ExecuteTime": {
     "end_time": "2020-12-18T21:50:52.201930Z",
     "start_time": "2020-12-18T21:50:51.203960Z"
    }
   },
   "outputs": [
    {
     "name": "stdout",
     "output_type": "stream",
     "text": [
      "pandas    : 1.1.5\n",
      "sys       : 3.8.5 (default, Sep  4 2020, 02:22:02) \n",
      "[Clang 10.0.0 ]\n",
      "seaborn   : 0.11.0\n",
      "numpy     : 1.19.4\n",
      "pycaret   : 2.2.2\n",
      "matplotlib: 3.3.3\n",
      "\n"
     ]
    }
   ],
   "source": [
    "import numpy as np\n",
    "import pandas as pd\n",
    "import seaborn as sns\n",
    "import os,sys,time\n",
    "import matplotlib.pyplot as plt\n",
    "sns.set()\n",
    "\n",
    "from tqdm import tqdm_notebook as tqdm\n",
    "\n",
    "SEED = 100\n",
    "pd.set_option('max_columns',100)\n",
    "pd.set_option('max_colwidth',200)\n",
    "pd.set_option('plotting.backend','matplotlib') # matplotlib, bokeh, altair, plotly\n",
    "\n",
    "# special\n",
    "import pycaret\n",
    "\n",
    "%load_ext watermark\n",
    "%watermark -iv"
   ]
  },
  {
   "cell_type": "code",
   "execution_count": 3,
   "metadata": {
    "ExecuteTime": {
     "end_time": "2020-12-18T21:50:52.215875Z",
     "start_time": "2020-12-18T21:50:52.204803Z"
    }
   },
   "outputs": [],
   "source": [
    "%%capture\n",
    "import sys\n",
    "ENV_COLAB = 'google.colab' in sys.modules\n",
    "\n",
    "if ENV_COLAB:\n",
    "    # usual imports\n",
    "    !pip install watermark\n",
    "    !pip install scikit-plot\n",
    "\n",
    "    # HPO for pycaret\n",
    "    !pip install tune-sklearn\n",
    "    !pip install optuna # hyperopt is already in colab\n",
    "\n",
    "    # gpu version of lightgbm for pycaret\n",
    "    !pip uninstall lightgbm -y\n",
    "    !pip install lightgbm --install-option=--gpu --install-option=\"--opencl-include-dir=/usr/local/cuda/include/\" --install-option=\"--opencl-library=/usr/local/cuda/lib64/libOpenCL.so\"\n",
    "\n",
    "    # regular pycaret without gpu \n",
    "    !pip install pycaret-nightly[full]\n",
    "\n",
    "    # ipywidget\n",
    "    !pip install ipywidgets\n",
    "    !jupyter nbextension enable --py widgetsnbextension\n",
    "\n",
    "    from pycaret.utils import enable_colab\n",
    "    enable_colab()\n",
    "\n",
    "    print('Environment: Google Colab')"
   ]
  },
  {
   "cell_type": "markdown",
   "metadata": {},
   "source": [
    "<a id=\"useful\" ></a>\n",
    "\n",
    "<h1> Useful Scripts </h1> \n",
    "\n",
    "<a href=\"#top\" class=\"btn btn-primary btn-sm\" role=\"button\" aria-pressed=\"true\" style=\"color:white\" data-toggle=\"popover\" title=\"go to TOC\">Go to Top</a>"
   ]
  },
  {
   "cell_type": "code",
   "execution_count": 4,
   "metadata": {
    "ExecuteTime": {
     "end_time": "2020-12-18T21:50:52.226529Z",
     "start_time": "2020-12-18T21:50:52.221778Z"
    }
   },
   "outputs": [],
   "source": [
    "def show_methods(obj, ncols=4,contains=None):\n",
    "    lst = [i for i in dir(obj) if i[0]!='_' ]\n",
    "    if contains is not None:\n",
    "        lst = [i for i in lst if contains in i]\n",
    "    df = pd.DataFrame(np.array_split(lst,ncols)).T.fillna('')\n",
    "    return df"
   ]
  },
  {
   "cell_type": "code",
   "execution_count": 5,
   "metadata": {
    "ExecuteTime": {
     "end_time": "2020-12-18T21:50:52.239012Z",
     "start_time": "2020-12-18T21:50:52.230419Z"
    }
   },
   "outputs": [],
   "source": [
    "def compare_new_models(name,desc,mean_row,df_eval=None,sort='Recall',show=True):\n",
    "    \"\"\"Create dataframe from output of pycaret new model.\n",
    "    Parameters\n",
    "    -----------\n",
    "    name: str\n",
    "        Name of the model. eg. xgboost\n",
    "    desc: str\n",
    "        Description of the model. e.g tuned,calibrated\n",
    "    mean_arr: np.ndarray\n",
    "        The mean row.\n",
    "        e.g. \n",
    "        df_res = pyc.pull()\n",
    "        mean_row = df_res.loc['Mean']\n",
    "    df_eval: Pandas Dataframe\n",
    "        Template pandas dataframe\n",
    "    sort: str\n",
    "       One of following string: Accuracy, AUC, Recall, Precision, F1, Kappa\n",
    "    Returns:\n",
    "       Pandas Dataframe.\n",
    "\n",
    "    \"\"\"\n",
    "    \n",
    "    if not isinstance(df_eval, pd.DataFrame):\n",
    "        df_eval = pd.DataFrame({'Model': [],\n",
    "                                'Description':[],\n",
    "                                'Accuracy':[],\n",
    "                                'AUC':[],\n",
    "                                'Recall':[],\n",
    "                                'Precision':[],\n",
    "                                'F1':[],\n",
    "                                'Kappa':[],\n",
    "                                'MCC': [],\n",
    "                                'LogLoss': []\n",
    "                               })\n",
    "\n",
    "    acc,auc,rec,pre,f1,kap,mcc,logloss = mean_row\n",
    "    row = [name,desc,acc,auc,rec,pre,f1,kap,mcc,logloss]\n",
    "\n",
    "    df_eval.loc[len(df_eval)] = row\n",
    "    df_eval = df_eval.drop_duplicates()\\\n",
    "                     .sort_values(sort,ascending=False)\n",
    "    df_eval.index = range(len(df_eval))\n",
    "    \n",
    "    df_style = (df_eval.style.apply(lambda ser:\n",
    "                ['background: tomato'\n",
    "                 if ser.name == sort else ''\n",
    "                 for _ in ser]))\n",
    "    \n",
    "    if show:\n",
    "        display(df_style)\n",
    "    \n",
    "    return df_eval"
   ]
  },
  {
   "cell_type": "markdown",
   "metadata": {},
   "source": [
    "<a id=\"load-data\" ></a>\n",
    "\n",
    "<h1> Load the Data </h1> \n",
    "\n",
    "<a href=\"#top\" class=\"btn btn-primary btn-sm\" role=\"button\" aria-pressed=\"true\" style=\"color:white\" data-toggle=\"popover\" title=\"go to TOC\">Go to Top</a>"
   ]
  },
  {
   "cell_type": "code",
   "execution_count": 6,
   "metadata": {
    "ExecuteTime": {
     "end_time": "2020-12-18T21:50:52.245638Z",
     "start_time": "2020-12-18T21:50:52.242173Z"
    }
   },
   "outputs": [],
   "source": [
    "path_data_train = '../data/processed/train_cleaned.csv'\n",
    "path_data_test = '../data/processed/test_cleaned.csv'\n",
    "\n",
    "if ENV_COLAB:\n",
    "    path_data_train = 'https://raw.githubusercontent.com/bhishanpdl/Datasets/master/Projects/Telco_Customer_Churn/processed/train_cleaned.csv'\n",
    "    path_data_test = 'https://raw.githubusercontent.com/bhishanpdl/Datasets/master/Projects/Telco_Customer_Churn/processed/test_cleaned.csv'"
   ]
  },
  {
   "cell_type": "code",
   "execution_count": 7,
   "metadata": {
    "ExecuteTime": {
     "end_time": "2020-12-18T21:50:52.325178Z",
     "start_time": "2020-12-18T21:50:52.248382Z"
    }
   },
   "outputs": [
    {
     "name": "stdout",
     "output_type": "stream",
     "text": [
      "(5634, 39)\n",
      "(1409, 39)\n"
     ]
    },
    {
     "data": {
      "text/html": [
       "<div>\n",
       "<style scoped>\n",
       "    .dataframe tbody tr th:only-of-type {\n",
       "        vertical-align: middle;\n",
       "    }\n",
       "\n",
       "    .dataframe tbody tr th {\n",
       "        vertical-align: top;\n",
       "    }\n",
       "\n",
       "    .dataframe thead th {\n",
       "        text-align: right;\n",
       "    }\n",
       "</style>\n",
       "<table border=\"1\" class=\"dataframe\">\n",
       "  <thead>\n",
       "    <tr style=\"text-align: right;\">\n",
       "      <th></th>\n",
       "      <th>Gender</th>\n",
       "      <th>SeniorCitizen</th>\n",
       "      <th>Partner</th>\n",
       "      <th>Dependents</th>\n",
       "      <th>Tenure</th>\n",
       "      <th>PhoneService</th>\n",
       "      <th>MultipleLines</th>\n",
       "      <th>InternetService</th>\n",
       "      <th>OnlineSecurity</th>\n",
       "      <th>OnlineBackup</th>\n",
       "      <th>DeviceProtection</th>\n",
       "      <th>TechSupport</th>\n",
       "      <th>StreamingTV</th>\n",
       "      <th>StreamingMovies</th>\n",
       "      <th>Contract</th>\n",
       "      <th>PaperlessBilling</th>\n",
       "      <th>PaymentMethod</th>\n",
       "      <th>MonthlyCharges</th>\n",
       "      <th>TotalCharges</th>\n",
       "      <th>Churn</th>\n",
       "      <th>Contract_Month-to-month</th>\n",
       "      <th>NoSeniorCitizen_Contract_Month-to-month</th>\n",
       "      <th>PaymentMethod0_Contract_Month-to-month0</th>\n",
       "      <th>InternetService_Fiber optic</th>\n",
       "      <th>StreamingTV_NoInternetService</th>\n",
       "      <th>No_OB_DP_TS</th>\n",
       "      <th>TotalServices</th>\n",
       "      <th>SenCit_Dependents</th>\n",
       "      <th>Partner_Dependents</th>\n",
       "      <th>SenCit_Partner</th>\n",
       "      <th>SenCit_Contract</th>\n",
       "      <th>SenCit_TechSupport</th>\n",
       "      <th>SenCit_PayMeth</th>\n",
       "      <th>Contract_mean_totCharges</th>\n",
       "      <th>Contract_totCharges_diff</th>\n",
       "      <th>PayMeth_mean_monthCharges</th>\n",
       "      <th>PayMeth_monthCharges_diff</th>\n",
       "      <th>Tenure_cat</th>\n",
       "      <th>MonthlyCharges_cat</th>\n",
       "    </tr>\n",
       "  </thead>\n",
       "  <tbody>\n",
       "    <tr>\n",
       "      <th>0</th>\n",
       "      <td>0</td>\n",
       "      <td>0</td>\n",
       "      <td>1</td>\n",
       "      <td>0</td>\n",
       "      <td>36</td>\n",
       "      <td>1</td>\n",
       "      <td>2</td>\n",
       "      <td>1</td>\n",
       "      <td>2</td>\n",
       "      <td>2</td>\n",
       "      <td>2</td>\n",
       "      <td>2</td>\n",
       "      <td>0</td>\n",
       "      <td>2</td>\n",
       "      <td>2</td>\n",
       "      <td>1</td>\n",
       "      <td>1</td>\n",
       "      <td>106.05</td>\n",
       "      <td>3834.40</td>\n",
       "      <td>0</td>\n",
       "      <td>1</td>\n",
       "      <td>0</td>\n",
       "      <td>0</td>\n",
       "      <td>0</td>\n",
       "      <td>1</td>\n",
       "      <td>1</td>\n",
       "      <td>2</td>\n",
       "      <td>0</td>\n",
       "      <td>1</td>\n",
       "      <td>1</td>\n",
       "      <td>2</td>\n",
       "      <td>2</td>\n",
       "      <td>1</td>\n",
       "      <td>3683.643192</td>\n",
       "      <td>150.756808</td>\n",
       "      <td>66.703657</td>\n",
       "      <td>39.346343</td>\n",
       "      <td>3</td>\n",
       "      <td>0</td>\n",
       "    </tr>\n",
       "    <tr>\n",
       "      <th>1</th>\n",
       "      <td>1</td>\n",
       "      <td>0</td>\n",
       "      <td>0</td>\n",
       "      <td>0</td>\n",
       "      <td>10</td>\n",
       "      <td>1</td>\n",
       "      <td>0</td>\n",
       "      <td>0</td>\n",
       "      <td>2</td>\n",
       "      <td>0</td>\n",
       "      <td>0</td>\n",
       "      <td>2</td>\n",
       "      <td>2</td>\n",
       "      <td>0</td>\n",
       "      <td>0</td>\n",
       "      <td>0</td>\n",
       "      <td>1</td>\n",
       "      <td>62.25</td>\n",
       "      <td>612.95</td>\n",
       "      <td>0</td>\n",
       "      <td>0</td>\n",
       "      <td>1</td>\n",
       "      <td>0</td>\n",
       "      <td>1</td>\n",
       "      <td>1</td>\n",
       "      <td>1</td>\n",
       "      <td>1</td>\n",
       "      <td>0</td>\n",
       "      <td>0</td>\n",
       "      <td>0</td>\n",
       "      <td>0</td>\n",
       "      <td>2</td>\n",
       "      <td>1</td>\n",
       "      <td>1370.923131</td>\n",
       "      <td>-757.973131</td>\n",
       "      <td>66.703657</td>\n",
       "      <td>-4.453657</td>\n",
       "      <td>0</td>\n",
       "      <td>0</td>\n",
       "    </tr>\n",
       "    <tr>\n",
       "      <th>5632</th>\n",
       "      <td>0</td>\n",
       "      <td>0</td>\n",
       "      <td>1</td>\n",
       "      <td>1</td>\n",
       "      <td>68</td>\n",
       "      <td>1</td>\n",
       "      <td>2</td>\n",
       "      <td>1</td>\n",
       "      <td>0</td>\n",
       "      <td>2</td>\n",
       "      <td>0</td>\n",
       "      <td>2</td>\n",
       "      <td>2</td>\n",
       "      <td>2</td>\n",
       "      <td>2</td>\n",
       "      <td>1</td>\n",
       "      <td>1</td>\n",
       "      <td>103.75</td>\n",
       "      <td>7039.45</td>\n",
       "      <td>0</td>\n",
       "      <td>1</td>\n",
       "      <td>0</td>\n",
       "      <td>0</td>\n",
       "      <td>0</td>\n",
       "      <td>1</td>\n",
       "      <td>1</td>\n",
       "      <td>2</td>\n",
       "      <td>1</td>\n",
       "      <td>2</td>\n",
       "      <td>1</td>\n",
       "      <td>2</td>\n",
       "      <td>2</td>\n",
       "      <td>1</td>\n",
       "      <td>3683.643192</td>\n",
       "      <td>3355.806808</td>\n",
       "      <td>66.703657</td>\n",
       "      <td>37.046343</td>\n",
       "      <td>5</td>\n",
       "      <td>0</td>\n",
       "    </tr>\n",
       "    <tr>\n",
       "      <th>5633</th>\n",
       "      <td>1</td>\n",
       "      <td>0</td>\n",
       "      <td>0</td>\n",
       "      <td>0</td>\n",
       "      <td>69</td>\n",
       "      <td>1</td>\n",
       "      <td>2</td>\n",
       "      <td>2</td>\n",
       "      <td>1</td>\n",
       "      <td>1</td>\n",
       "      <td>1</td>\n",
       "      <td>1</td>\n",
       "      <td>1</td>\n",
       "      <td>1</td>\n",
       "      <td>2</td>\n",
       "      <td>0</td>\n",
       "      <td>1</td>\n",
       "      <td>23.95</td>\n",
       "      <td>1713.10</td>\n",
       "      <td>0</td>\n",
       "      <td>1</td>\n",
       "      <td>0</td>\n",
       "      <td>0</td>\n",
       "      <td>1</td>\n",
       "      <td>0</td>\n",
       "      <td>1</td>\n",
       "      <td>7</td>\n",
       "      <td>0</td>\n",
       "      <td>0</td>\n",
       "      <td>0</td>\n",
       "      <td>2</td>\n",
       "      <td>1</td>\n",
       "      <td>1</td>\n",
       "      <td>3683.643192</td>\n",
       "      <td>-1970.543192</td>\n",
       "      <td>66.703657</td>\n",
       "      <td>-42.753657</td>\n",
       "      <td>5</td>\n",
       "      <td>0</td>\n",
       "    </tr>\n",
       "  </tbody>\n",
       "</table>\n",
       "</div>"
      ],
      "text/plain": [
       "      Gender  SeniorCitizen  Partner  Dependents  Tenure  PhoneService  \\\n",
       "0          0              0        1           0      36             1   \n",
       "1          1              0        0           0      10             1   \n",
       "5632       0              0        1           1      68             1   \n",
       "5633       1              0        0           0      69             1   \n",
       "\n",
       "      MultipleLines  InternetService  OnlineSecurity  OnlineBackup  \\\n",
       "0                 2                1               2             2   \n",
       "1                 0                0               2             0   \n",
       "5632              2                1               0             2   \n",
       "5633              2                2               1             1   \n",
       "\n",
       "      DeviceProtection  TechSupport  StreamingTV  StreamingMovies  Contract  \\\n",
       "0                    2            2            0                2         2   \n",
       "1                    0            2            2                0         0   \n",
       "5632                 0            2            2                2         2   \n",
       "5633                 1            1            1                1         2   \n",
       "\n",
       "      PaperlessBilling  PaymentMethod  MonthlyCharges  TotalCharges  Churn  \\\n",
       "0                    1              1          106.05       3834.40      0   \n",
       "1                    0              1           62.25        612.95      0   \n",
       "5632                 1              1          103.75       7039.45      0   \n",
       "5633                 0              1           23.95       1713.10      0   \n",
       "\n",
       "      Contract_Month-to-month  NoSeniorCitizen_Contract_Month-to-month  \\\n",
       "0                           1                                        0   \n",
       "1                           0                                        1   \n",
       "5632                        1                                        0   \n",
       "5633                        1                                        0   \n",
       "\n",
       "      PaymentMethod0_Contract_Month-to-month0  InternetService_Fiber optic  \\\n",
       "0                                           0                            0   \n",
       "1                                           0                            1   \n",
       "5632                                        0                            0   \n",
       "5633                                        0                            1   \n",
       "\n",
       "      StreamingTV_NoInternetService  No_OB_DP_TS  TotalServices  \\\n",
       "0                                 1            1              2   \n",
       "1                                 1            1              1   \n",
       "5632                              1            1              2   \n",
       "5633                              0            1              7   \n",
       "\n",
       "      SenCit_Dependents  Partner_Dependents  SenCit_Partner  SenCit_Contract  \\\n",
       "0                     0                   1               1                2   \n",
       "1                     0                   0               0                0   \n",
       "5632                  1                   2               1                2   \n",
       "5633                  0                   0               0                2   \n",
       "\n",
       "      SenCit_TechSupport  SenCit_PayMeth  Contract_mean_totCharges  \\\n",
       "0                      2               1               3683.643192   \n",
       "1                      2               1               1370.923131   \n",
       "5632                   2               1               3683.643192   \n",
       "5633                   1               1               3683.643192   \n",
       "\n",
       "      Contract_totCharges_diff  PayMeth_mean_monthCharges  \\\n",
       "0                   150.756808                  66.703657   \n",
       "1                  -757.973131                  66.703657   \n",
       "5632               3355.806808                  66.703657   \n",
       "5633              -1970.543192                  66.703657   \n",
       "\n",
       "      PayMeth_monthCharges_diff  Tenure_cat  MonthlyCharges_cat  \n",
       "0                     39.346343           3                   0  \n",
       "1                     -4.453657           0                   0  \n",
       "5632                  37.046343           5                   0  \n",
       "5633                 -42.753657           5                   0  "
      ]
     },
     "execution_count": 7,
     "metadata": {},
     "output_type": "execute_result"
    }
   ],
   "source": [
    "df_train = pd.read_csv(path_data_train)\n",
    "df_test = pd.read_csv(path_data_test)\n",
    "\n",
    "print(df_train.shape)\n",
    "print(df_test.shape)\n",
    "df_train.head(2).append(df_train.tail(2))"
   ]
  },
  {
   "cell_type": "code",
   "execution_count": 8,
   "metadata": {
    "ExecuteTime": {
     "end_time": "2020-12-18T21:50:52.336448Z",
     "start_time": "2020-12-18T21:50:52.327478Z"
    }
   },
   "outputs": [],
   "source": [
    "target_name = 'Churn'"
   ]
  },
  {
   "cell_type": "markdown",
   "metadata": {},
   "source": [
    "<a id=\"eda\" ></a>\n",
    "\n",
    "<h1> Data Processing  </h1> \n",
    "\n",
    "<a href=\"#top\" class=\"btn btn-primary btn-sm\" role=\"button\" aria-pressed=\"true\" style=\"color:white\" data-toggle=\"popover\" title=\"go to TOC\">Go to Top</a>"
   ]
  },
  {
   "cell_type": "code",
   "execution_count": 9,
   "metadata": {
    "ExecuteTime": {
     "end_time": "2020-12-18T21:50:52.353161Z",
     "start_time": "2020-12-18T21:50:52.342972Z"
    }
   },
   "outputs": [
    {
     "data": {
      "text/plain": [
       "0"
      ]
     },
     "execution_count": 9,
     "metadata": {},
     "output_type": "execute_result"
    }
   ],
   "source": [
    "# check for nans\n",
    "df_train.isna().sum().sum()"
   ]
  },
  {
   "cell_type": "markdown",
   "metadata": {},
   "source": [
    "<a id=\"\" ></a>\n",
    "\n",
    "<h1>  Modelling Pycaret </h1> \n",
    "\n",
    "<a href=\"#top\" class=\"btn btn-primary btn-sm\" role=\"button\" aria-pressed=\"true\" style=\"color:white\" data-toggle=\"popover\" title=\"go to TOC\">Go to Top</a>"
   ]
  },
  {
   "cell_type": "code",
   "execution_count": 10,
   "metadata": {
    "ExecuteTime": {
     "end_time": "2020-12-18T21:50:53.256559Z",
     "start_time": "2020-12-18T21:50:52.356780Z"
    }
   },
   "outputs": [],
   "source": [
    "import pycaret\n",
    "import pycaret.classification as pyc"
   ]
  },
  {
   "cell_type": "markdown",
   "metadata": {},
   "source": [
    "<a id=\"\" ></a>\n",
    "\n",
    "<h1>  Pycaret Setup</h1> \n",
    "\n",
    "<a href=\"#top\" class=\"btn btn-primary btn-sm\" role=\"button\" aria-pressed=\"true\" style=\"color:white\" data-toggle=\"popover\" title=\"go to TOC\">Go to Top</a>\n",
    "\n",
    "```python\n",
    "pyc.setup(\n",
    "    data: pandas.core.frame.DataFrame,\n",
    "    target: str,\n",
    "    train_size                    = 0.7,\n",
    "    test_data                     = None,\n",
    "    preprocess                    = True,\n",
    "    imputation_type               = 'simple',\n",
    "    iterative_imputation_iters    = 5,\n",
    "    categorical_features          = None,\n",
    "    categorical_imputation        = 'constant',\n",
    "    categorical_iterative_imputer = 'lightgbm',\n",
    "    ordinal_features              = None,\n",
    "    high_cardinality_features     = None,\n",
    "    high_cardinality_method       = 'frequency',\n",
    "    numeric_features              = None,\n",
    "    numeric_imputation            = 'mean',\n",
    "    numeric_iterative_imputer     = 'lightgbm',\n",
    "    date_features                 = None,\n",
    "    ignore_features               = None,\n",
    "    normalize                     = False,\n",
    "    normalize_method              = 'zscore',\n",
    "    transformation                = False,\n",
    "    transformation_method         = 'yeo-johnson',\n",
    "    handle_unknown_categorical    = True,\n",
    "    unknown_categorical_method    = 'least_frequent',\n",
    "    pca                           = False,\n",
    "    pca_method                    = 'linear',\n",
    "    pca_components                = None,\n",
    "    ignore_low_variance           = False,\n",
    "    combine_rare_levels           = False,\n",
    "    rare_level_threshold          = 0.1,\n",
    "    bin_numeric_features          = None,\n",
    "    remove_outliers               = False,\n",
    "    outliers_threshold            = 0.05,\n",
    "    remove_multicollinearity      = False,\n",
    "    multicollinearity_threshold   = 0.9,\n",
    "    remove_perfect_collinearity   = True,\n",
    "    create_clusters               = False,\n",
    "    cluster_iter                  = 20,\n",
    "    polynomial_features           = False,\n",
    "    polynomial_degree             = 2,\n",
    "    trigonometry_features         = False,\n",
    "    polynomial_threshold          = 0.1,\n",
    "    group_features                = None,\n",
    "    group_names                   = None,\n",
    "    feature_selection             = False,\n",
    "    feature_selection_threshold   = 0.8,\n",
    "    feature_selection_method      = 'classic',\n",
    "    feature_interaction           = False,\n",
    "    feature_ratio                 = False,\n",
    "    interaction_threshold         = 0.01,\n",
    "    fix_imbalance                 = False,\n",
    "    fix_imbalance_method          = None,\n",
    "    data_split_shuffle            = True,\n",
    "    data_split_stratify           = False,\n",
    "    fold_strategy                 = 'stratifiedkfold',\n",
    "    fold                          = 10,\n",
    "    fold_shuffle                  = False,\n",
    "    fold_groups                   = None,\n",
    "    n_jobs                        = -1,\n",
    "    use_gpu                       = False,\n",
    "    custom_pipeline               = None,\n",
    "    html                          = True,\n",
    "    session_id                    = None,\n",
    "    log_experiment                = False,\n",
    "    experiment_name               = None,\n",
    "    log_plots                     = False,\n",
    "    log_profile                   = False,\n",
    "    log_data                      = False,\n",
    "    silent                        = False,\n",
    "    verbose                       = True,\n",
    "    profile                       = False,\n",
    "    profile_kwargs                = None,\n",
    ")\n",
    "\n",
    "```"
   ]
  },
  {
   "cell_type": "code",
   "execution_count": 11,
   "metadata": {
    "ExecuteTime": {
     "end_time": "2020-12-18T21:50:53.269544Z",
     "start_time": "2020-12-18T21:50:53.259106Z"
    }
   },
   "outputs": [
    {
     "data": {
      "text/plain": [
       "(5634, 39)"
      ]
     },
     "execution_count": 11,
     "metadata": {},
     "output_type": "execute_result"
    }
   ],
   "source": [
    "df_train.shape"
   ]
  },
  {
   "cell_type": "code",
   "execution_count": 12,
   "metadata": {
    "ExecuteTime": {
     "end_time": "2020-12-18T21:50:53.289974Z",
     "start_time": "2020-12-18T21:50:53.271645Z"
    }
   },
   "outputs": [
    {
     "data": {
      "text/html": [
       "<div>\n",
       "<style scoped>\n",
       "    .dataframe tbody tr th:only-of-type {\n",
       "        vertical-align: middle;\n",
       "    }\n",
       "\n",
       "    .dataframe tbody tr th {\n",
       "        vertical-align: top;\n",
       "    }\n",
       "\n",
       "    .dataframe thead th {\n",
       "        text-align: right;\n",
       "    }\n",
       "</style>\n",
       "<table border=\"1\" class=\"dataframe\">\n",
       "  <thead>\n",
       "    <tr style=\"text-align: right;\">\n",
       "      <th></th>\n",
       "      <th>0</th>\n",
       "      <th>1</th>\n",
       "      <th>2</th>\n",
       "      <th>3</th>\n",
       "    </tr>\n",
       "  </thead>\n",
       "  <tbody>\n",
       "    <tr>\n",
       "      <th>0</th>\n",
       "      <td>Any</td>\n",
       "      <td>calibrate_model</td>\n",
       "      <td>interpret_model</td>\n",
       "      <td>pull</td>\n",
       "    </tr>\n",
       "    <tr>\n",
       "      <th>1</th>\n",
       "      <td>Dict</td>\n",
       "      <td>compare_models</td>\n",
       "      <td>io</td>\n",
       "      <td>pycaret</td>\n",
       "    </tr>\n",
       "    <tr>\n",
       "      <th>2</th>\n",
       "      <td>Display</td>\n",
       "      <td>create_model</td>\n",
       "      <td>is_in_colab</td>\n",
       "      <td>remove_metric</td>\n",
       "    </tr>\n",
       "    <tr>\n",
       "      <th>3</th>\n",
       "      <td>List</td>\n",
       "      <td>deploy_model</td>\n",
       "      <td>load_config</td>\n",
       "      <td>save_config</td>\n",
       "    </tr>\n",
       "    <tr>\n",
       "      <th>4</th>\n",
       "      <td>MLUsecase</td>\n",
       "      <td>enable_colab</td>\n",
       "      <td>load_model</td>\n",
       "      <td>save_model</td>\n",
       "    </tr>\n",
       "    <tr>\n",
       "      <th>5</th>\n",
       "      <td>Optional</td>\n",
       "      <td>ensemble_model</td>\n",
       "      <td>models</td>\n",
       "      <td>set_config</td>\n",
       "    </tr>\n",
       "    <tr>\n",
       "      <th>6</th>\n",
       "      <td>Tuple</td>\n",
       "      <td>evaluate_model</td>\n",
       "      <td>np</td>\n",
       "      <td>setup</td>\n",
       "    </tr>\n",
       "    <tr>\n",
       "      <th>7</th>\n",
       "      <td>Union</td>\n",
       "      <td>finalize_model</td>\n",
       "      <td>optimize_threshold</td>\n",
       "      <td>stack_models</td>\n",
       "    </tr>\n",
       "    <tr>\n",
       "      <th>8</th>\n",
       "      <td>add_metric</td>\n",
       "      <td>get_config</td>\n",
       "      <td>pd</td>\n",
       "      <td>traceback</td>\n",
       "    </tr>\n",
       "    <tr>\n",
       "      <th>9</th>\n",
       "      <td>automl</td>\n",
       "      <td>get_logs</td>\n",
       "      <td>plot_model</td>\n",
       "      <td>tune_model</td>\n",
       "    </tr>\n",
       "    <tr>\n",
       "      <th>10</th>\n",
       "      <td>blend_models</td>\n",
       "      <td>get_metrics</td>\n",
       "      <td>predict_model</td>\n",
       "      <td>warnings</td>\n",
       "    </tr>\n",
       "  </tbody>\n",
       "</table>\n",
       "</div>"
      ],
      "text/plain": [
       "               0                1                   2              3\n",
       "0            Any  calibrate_model     interpret_model           pull\n",
       "1           Dict   compare_models                  io        pycaret\n",
       "2        Display     create_model         is_in_colab  remove_metric\n",
       "3           List     deploy_model         load_config    save_config\n",
       "4      MLUsecase     enable_colab          load_model     save_model\n",
       "5       Optional   ensemble_model              models     set_config\n",
       "6          Tuple   evaluate_model                  np          setup\n",
       "7          Union   finalize_model  optimize_threshold   stack_models\n",
       "8     add_metric       get_config                  pd      traceback\n",
       "9         automl         get_logs          plot_model     tune_model\n",
       "10  blend_models      get_metrics       predict_model       warnings"
      ]
     },
     "execution_count": 12,
     "metadata": {},
     "output_type": "execute_result"
    }
   ],
   "source": [
    "show_methods(pyc)"
   ]
  },
  {
   "cell_type": "code",
   "execution_count": 13,
   "metadata": {
    "ExecuteTime": {
     "end_time": "2020-12-18T21:50:53.316775Z",
     "start_time": "2020-12-18T21:50:53.309028Z"
    }
   },
   "outputs": [],
   "source": [
    "USE_GPU = False\n",
    "if ENV_COLAB:\n",
    "    USE_GPU = True"
   ]
  },
  {
   "cell_type": "code",
   "execution_count": 14,
   "metadata": {
    "ExecuteTime": {
     "end_time": "2020-12-18T21:50:56.604294Z",
     "start_time": "2020-12-18T21:50:53.322092Z"
    }
   },
   "outputs": [
    {
     "data": {
      "text/html": [
       "<style  type=\"text/css\" >\n",
       "    #T_1b26a470_417b_11eb_a54f_acde48001122row19_col1 {\n",
       "            background-color:  lightgreen;\n",
       "        }</style><table id=\"T_1b26a470_417b_11eb_a54f_acde48001122\" ><thead>    <tr>        <th class=\"blank level0\" ></th>        <th class=\"col_heading level0 col0\" >Description</th>        <th class=\"col_heading level0 col1\" >Value</th>    </tr></thead><tbody>\n",
       "                <tr>\n",
       "                        <th id=\"T_1b26a470_417b_11eb_a54f_acde48001122level0_row0\" class=\"row_heading level0 row0\" >0</th>\n",
       "                        <td id=\"T_1b26a470_417b_11eb_a54f_acde48001122row0_col0\" class=\"data row0 col0\" >session_id</td>\n",
       "                        <td id=\"T_1b26a470_417b_11eb_a54f_acde48001122row0_col1\" class=\"data row0 col1\" >100</td>\n",
       "            </tr>\n",
       "            <tr>\n",
       "                        <th id=\"T_1b26a470_417b_11eb_a54f_acde48001122level0_row1\" class=\"row_heading level0 row1\" >1</th>\n",
       "                        <td id=\"T_1b26a470_417b_11eb_a54f_acde48001122row1_col0\" class=\"data row1 col0\" >Target</td>\n",
       "                        <td id=\"T_1b26a470_417b_11eb_a54f_acde48001122row1_col1\" class=\"data row1 col1\" >Churn</td>\n",
       "            </tr>\n",
       "            <tr>\n",
       "                        <th id=\"T_1b26a470_417b_11eb_a54f_acde48001122level0_row2\" class=\"row_heading level0 row2\" >2</th>\n",
       "                        <td id=\"T_1b26a470_417b_11eb_a54f_acde48001122row2_col0\" class=\"data row2 col0\" >Target Type</td>\n",
       "                        <td id=\"T_1b26a470_417b_11eb_a54f_acde48001122row2_col1\" class=\"data row2 col1\" >Binary</td>\n",
       "            </tr>\n",
       "            <tr>\n",
       "                        <th id=\"T_1b26a470_417b_11eb_a54f_acde48001122level0_row3\" class=\"row_heading level0 row3\" >3</th>\n",
       "                        <td id=\"T_1b26a470_417b_11eb_a54f_acde48001122row3_col0\" class=\"data row3 col0\" >Label Encoded</td>\n",
       "                        <td id=\"T_1b26a470_417b_11eb_a54f_acde48001122row3_col1\" class=\"data row3 col1\" >0: 0, 1: 1</td>\n",
       "            </tr>\n",
       "            <tr>\n",
       "                        <th id=\"T_1b26a470_417b_11eb_a54f_acde48001122level0_row4\" class=\"row_heading level0 row4\" >4</th>\n",
       "                        <td id=\"T_1b26a470_417b_11eb_a54f_acde48001122row4_col0\" class=\"data row4 col0\" >Original Data</td>\n",
       "                        <td id=\"T_1b26a470_417b_11eb_a54f_acde48001122row4_col1\" class=\"data row4 col1\" >(5634, 39)</td>\n",
       "            </tr>\n",
       "            <tr>\n",
       "                        <th id=\"T_1b26a470_417b_11eb_a54f_acde48001122level0_row5\" class=\"row_heading level0 row5\" >5</th>\n",
       "                        <td id=\"T_1b26a470_417b_11eb_a54f_acde48001122row5_col0\" class=\"data row5 col0\" >Missing Values</td>\n",
       "                        <td id=\"T_1b26a470_417b_11eb_a54f_acde48001122row5_col1\" class=\"data row5 col1\" >False</td>\n",
       "            </tr>\n",
       "            <tr>\n",
       "                        <th id=\"T_1b26a470_417b_11eb_a54f_acde48001122level0_row6\" class=\"row_heading level0 row6\" >6</th>\n",
       "                        <td id=\"T_1b26a470_417b_11eb_a54f_acde48001122row6_col0\" class=\"data row6 col0\" >Numeric Features</td>\n",
       "                        <td id=\"T_1b26a470_417b_11eb_a54f_acde48001122row6_col1\" class=\"data row6 col1\" >6</td>\n",
       "            </tr>\n",
       "            <tr>\n",
       "                        <th id=\"T_1b26a470_417b_11eb_a54f_acde48001122level0_row7\" class=\"row_heading level0 row7\" >7</th>\n",
       "                        <td id=\"T_1b26a470_417b_11eb_a54f_acde48001122row7_col0\" class=\"data row7 col0\" >Categorical Features</td>\n",
       "                        <td id=\"T_1b26a470_417b_11eb_a54f_acde48001122row7_col1\" class=\"data row7 col1\" >32</td>\n",
       "            </tr>\n",
       "            <tr>\n",
       "                        <th id=\"T_1b26a470_417b_11eb_a54f_acde48001122level0_row8\" class=\"row_heading level0 row8\" >8</th>\n",
       "                        <td id=\"T_1b26a470_417b_11eb_a54f_acde48001122row8_col0\" class=\"data row8 col0\" >Ordinal Features</td>\n",
       "                        <td id=\"T_1b26a470_417b_11eb_a54f_acde48001122row8_col1\" class=\"data row8 col1\" >False</td>\n",
       "            </tr>\n",
       "            <tr>\n",
       "                        <th id=\"T_1b26a470_417b_11eb_a54f_acde48001122level0_row9\" class=\"row_heading level0 row9\" >9</th>\n",
       "                        <td id=\"T_1b26a470_417b_11eb_a54f_acde48001122row9_col0\" class=\"data row9 col0\" >High Cardinality Features</td>\n",
       "                        <td id=\"T_1b26a470_417b_11eb_a54f_acde48001122row9_col1\" class=\"data row9 col1\" >False</td>\n",
       "            </tr>\n",
       "            <tr>\n",
       "                        <th id=\"T_1b26a470_417b_11eb_a54f_acde48001122level0_row10\" class=\"row_heading level0 row10\" >10</th>\n",
       "                        <td id=\"T_1b26a470_417b_11eb_a54f_acde48001122row10_col0\" class=\"data row10 col0\" >High Cardinality Method</td>\n",
       "                        <td id=\"T_1b26a470_417b_11eb_a54f_acde48001122row10_col1\" class=\"data row10 col1\" >None</td>\n",
       "            </tr>\n",
       "            <tr>\n",
       "                        <th id=\"T_1b26a470_417b_11eb_a54f_acde48001122level0_row11\" class=\"row_heading level0 row11\" >11</th>\n",
       "                        <td id=\"T_1b26a470_417b_11eb_a54f_acde48001122row11_col0\" class=\"data row11 col0\" >Transformed Train Set</td>\n",
       "                        <td id=\"T_1b26a470_417b_11eb_a54f_acde48001122row11_col1\" class=\"data row11 col1\" >(4507, 60)</td>\n",
       "            </tr>\n",
       "            <tr>\n",
       "                        <th id=\"T_1b26a470_417b_11eb_a54f_acde48001122level0_row12\" class=\"row_heading level0 row12\" >12</th>\n",
       "                        <td id=\"T_1b26a470_417b_11eb_a54f_acde48001122row12_col0\" class=\"data row12 col0\" >Transformed Test Set</td>\n",
       "                        <td id=\"T_1b26a470_417b_11eb_a54f_acde48001122row12_col1\" class=\"data row12 col1\" >(1127, 60)</td>\n",
       "            </tr>\n",
       "            <tr>\n",
       "                        <th id=\"T_1b26a470_417b_11eb_a54f_acde48001122level0_row13\" class=\"row_heading level0 row13\" >13</th>\n",
       "                        <td id=\"T_1b26a470_417b_11eb_a54f_acde48001122row13_col0\" class=\"data row13 col0\" >Shuffle Train-Test</td>\n",
       "                        <td id=\"T_1b26a470_417b_11eb_a54f_acde48001122row13_col1\" class=\"data row13 col1\" >True</td>\n",
       "            </tr>\n",
       "            <tr>\n",
       "                        <th id=\"T_1b26a470_417b_11eb_a54f_acde48001122level0_row14\" class=\"row_heading level0 row14\" >14</th>\n",
       "                        <td id=\"T_1b26a470_417b_11eb_a54f_acde48001122row14_col0\" class=\"data row14 col0\" >Stratify Train-Test</td>\n",
       "                        <td id=\"T_1b26a470_417b_11eb_a54f_acde48001122row14_col1\" class=\"data row14 col1\" >True</td>\n",
       "            </tr>\n",
       "            <tr>\n",
       "                        <th id=\"T_1b26a470_417b_11eb_a54f_acde48001122level0_row15\" class=\"row_heading level0 row15\" >15</th>\n",
       "                        <td id=\"T_1b26a470_417b_11eb_a54f_acde48001122row15_col0\" class=\"data row15 col0\" >Fold Generator</td>\n",
       "                        <td id=\"T_1b26a470_417b_11eb_a54f_acde48001122row15_col1\" class=\"data row15 col1\" >StratifiedKFold</td>\n",
       "            </tr>\n",
       "            <tr>\n",
       "                        <th id=\"T_1b26a470_417b_11eb_a54f_acde48001122level0_row16\" class=\"row_heading level0 row16\" >16</th>\n",
       "                        <td id=\"T_1b26a470_417b_11eb_a54f_acde48001122row16_col0\" class=\"data row16 col0\" >Fold Number</td>\n",
       "                        <td id=\"T_1b26a470_417b_11eb_a54f_acde48001122row16_col1\" class=\"data row16 col1\" >10</td>\n",
       "            </tr>\n",
       "            <tr>\n",
       "                        <th id=\"T_1b26a470_417b_11eb_a54f_acde48001122level0_row17\" class=\"row_heading level0 row17\" >17</th>\n",
       "                        <td id=\"T_1b26a470_417b_11eb_a54f_acde48001122row17_col0\" class=\"data row17 col0\" >CPU Jobs</td>\n",
       "                        <td id=\"T_1b26a470_417b_11eb_a54f_acde48001122row17_col1\" class=\"data row17 col1\" >-1</td>\n",
       "            </tr>\n",
       "            <tr>\n",
       "                        <th id=\"T_1b26a470_417b_11eb_a54f_acde48001122level0_row18\" class=\"row_heading level0 row18\" >18</th>\n",
       "                        <td id=\"T_1b26a470_417b_11eb_a54f_acde48001122row18_col0\" class=\"data row18 col0\" >Use GPU</td>\n",
       "                        <td id=\"T_1b26a470_417b_11eb_a54f_acde48001122row18_col1\" class=\"data row18 col1\" >False</td>\n",
       "            </tr>\n",
       "            <tr>\n",
       "                        <th id=\"T_1b26a470_417b_11eb_a54f_acde48001122level0_row19\" class=\"row_heading level0 row19\" >19</th>\n",
       "                        <td id=\"T_1b26a470_417b_11eb_a54f_acde48001122row19_col0\" class=\"data row19 col0\" >Log Experiment</td>\n",
       "                        <td id=\"T_1b26a470_417b_11eb_a54f_acde48001122row19_col1\" class=\"data row19 col1\" >True</td>\n",
       "            </tr>\n",
       "            <tr>\n",
       "                        <th id=\"T_1b26a470_417b_11eb_a54f_acde48001122level0_row20\" class=\"row_heading level0 row20\" >20</th>\n",
       "                        <td id=\"T_1b26a470_417b_11eb_a54f_acde48001122row20_col0\" class=\"data row20 col0\" >Experiment Name</td>\n",
       "                        <td id=\"T_1b26a470_417b_11eb_a54f_acde48001122row20_col1\" class=\"data row20 col1\" >clf-default-name</td>\n",
       "            </tr>\n",
       "            <tr>\n",
       "                        <th id=\"T_1b26a470_417b_11eb_a54f_acde48001122level0_row21\" class=\"row_heading level0 row21\" >21</th>\n",
       "                        <td id=\"T_1b26a470_417b_11eb_a54f_acde48001122row21_col0\" class=\"data row21 col0\" >USI</td>\n",
       "                        <td id=\"T_1b26a470_417b_11eb_a54f_acde48001122row21_col1\" class=\"data row21 col1\" >24f4</td>\n",
       "            </tr>\n",
       "            <tr>\n",
       "                        <th id=\"T_1b26a470_417b_11eb_a54f_acde48001122level0_row22\" class=\"row_heading level0 row22\" >22</th>\n",
       "                        <td id=\"T_1b26a470_417b_11eb_a54f_acde48001122row22_col0\" class=\"data row22 col0\" >Imputation Type</td>\n",
       "                        <td id=\"T_1b26a470_417b_11eb_a54f_acde48001122row22_col1\" class=\"data row22 col1\" >simple</td>\n",
       "            </tr>\n",
       "            <tr>\n",
       "                        <th id=\"T_1b26a470_417b_11eb_a54f_acde48001122level0_row23\" class=\"row_heading level0 row23\" >23</th>\n",
       "                        <td id=\"T_1b26a470_417b_11eb_a54f_acde48001122row23_col0\" class=\"data row23 col0\" >Iterative Imputation Iteration</td>\n",
       "                        <td id=\"T_1b26a470_417b_11eb_a54f_acde48001122row23_col1\" class=\"data row23 col1\" >None</td>\n",
       "            </tr>\n",
       "            <tr>\n",
       "                        <th id=\"T_1b26a470_417b_11eb_a54f_acde48001122level0_row24\" class=\"row_heading level0 row24\" >24</th>\n",
       "                        <td id=\"T_1b26a470_417b_11eb_a54f_acde48001122row24_col0\" class=\"data row24 col0\" >Numeric Imputer</td>\n",
       "                        <td id=\"T_1b26a470_417b_11eb_a54f_acde48001122row24_col1\" class=\"data row24 col1\" >mean</td>\n",
       "            </tr>\n",
       "            <tr>\n",
       "                        <th id=\"T_1b26a470_417b_11eb_a54f_acde48001122level0_row25\" class=\"row_heading level0 row25\" >25</th>\n",
       "                        <td id=\"T_1b26a470_417b_11eb_a54f_acde48001122row25_col0\" class=\"data row25 col0\" >Iterative Imputation Numeric Model</td>\n",
       "                        <td id=\"T_1b26a470_417b_11eb_a54f_acde48001122row25_col1\" class=\"data row25 col1\" >None</td>\n",
       "            </tr>\n",
       "            <tr>\n",
       "                        <th id=\"T_1b26a470_417b_11eb_a54f_acde48001122level0_row26\" class=\"row_heading level0 row26\" >26</th>\n",
       "                        <td id=\"T_1b26a470_417b_11eb_a54f_acde48001122row26_col0\" class=\"data row26 col0\" >Categorical Imputer</td>\n",
       "                        <td id=\"T_1b26a470_417b_11eb_a54f_acde48001122row26_col1\" class=\"data row26 col1\" >constant</td>\n",
       "            </tr>\n",
       "            <tr>\n",
       "                        <th id=\"T_1b26a470_417b_11eb_a54f_acde48001122level0_row27\" class=\"row_heading level0 row27\" >27</th>\n",
       "                        <td id=\"T_1b26a470_417b_11eb_a54f_acde48001122row27_col0\" class=\"data row27 col0\" >Iterative Imputation Categorical Model</td>\n",
       "                        <td id=\"T_1b26a470_417b_11eb_a54f_acde48001122row27_col1\" class=\"data row27 col1\" >None</td>\n",
       "            </tr>\n",
       "            <tr>\n",
       "                        <th id=\"T_1b26a470_417b_11eb_a54f_acde48001122level0_row28\" class=\"row_heading level0 row28\" >28</th>\n",
       "                        <td id=\"T_1b26a470_417b_11eb_a54f_acde48001122row28_col0\" class=\"data row28 col0\" >Unknown Categoricals Handling</td>\n",
       "                        <td id=\"T_1b26a470_417b_11eb_a54f_acde48001122row28_col1\" class=\"data row28 col1\" >least_frequent</td>\n",
       "            </tr>\n",
       "            <tr>\n",
       "                        <th id=\"T_1b26a470_417b_11eb_a54f_acde48001122level0_row29\" class=\"row_heading level0 row29\" >29</th>\n",
       "                        <td id=\"T_1b26a470_417b_11eb_a54f_acde48001122row29_col0\" class=\"data row29 col0\" >Normalize</td>\n",
       "                        <td id=\"T_1b26a470_417b_11eb_a54f_acde48001122row29_col1\" class=\"data row29 col1\" >False</td>\n",
       "            </tr>\n",
       "            <tr>\n",
       "                        <th id=\"T_1b26a470_417b_11eb_a54f_acde48001122level0_row30\" class=\"row_heading level0 row30\" >30</th>\n",
       "                        <td id=\"T_1b26a470_417b_11eb_a54f_acde48001122row30_col0\" class=\"data row30 col0\" >Normalize Method</td>\n",
       "                        <td id=\"T_1b26a470_417b_11eb_a54f_acde48001122row30_col1\" class=\"data row30 col1\" >None</td>\n",
       "            </tr>\n",
       "            <tr>\n",
       "                        <th id=\"T_1b26a470_417b_11eb_a54f_acde48001122level0_row31\" class=\"row_heading level0 row31\" >31</th>\n",
       "                        <td id=\"T_1b26a470_417b_11eb_a54f_acde48001122row31_col0\" class=\"data row31 col0\" >Transformation</td>\n",
       "                        <td id=\"T_1b26a470_417b_11eb_a54f_acde48001122row31_col1\" class=\"data row31 col1\" >False</td>\n",
       "            </tr>\n",
       "            <tr>\n",
       "                        <th id=\"T_1b26a470_417b_11eb_a54f_acde48001122level0_row32\" class=\"row_heading level0 row32\" >32</th>\n",
       "                        <td id=\"T_1b26a470_417b_11eb_a54f_acde48001122row32_col0\" class=\"data row32 col0\" >Transformation Method</td>\n",
       "                        <td id=\"T_1b26a470_417b_11eb_a54f_acde48001122row32_col1\" class=\"data row32 col1\" >None</td>\n",
       "            </tr>\n",
       "            <tr>\n",
       "                        <th id=\"T_1b26a470_417b_11eb_a54f_acde48001122level0_row33\" class=\"row_heading level0 row33\" >33</th>\n",
       "                        <td id=\"T_1b26a470_417b_11eb_a54f_acde48001122row33_col0\" class=\"data row33 col0\" >PCA</td>\n",
       "                        <td id=\"T_1b26a470_417b_11eb_a54f_acde48001122row33_col1\" class=\"data row33 col1\" >False</td>\n",
       "            </tr>\n",
       "            <tr>\n",
       "                        <th id=\"T_1b26a470_417b_11eb_a54f_acde48001122level0_row34\" class=\"row_heading level0 row34\" >34</th>\n",
       "                        <td id=\"T_1b26a470_417b_11eb_a54f_acde48001122row34_col0\" class=\"data row34 col0\" >PCA Method</td>\n",
       "                        <td id=\"T_1b26a470_417b_11eb_a54f_acde48001122row34_col1\" class=\"data row34 col1\" >None</td>\n",
       "            </tr>\n",
       "            <tr>\n",
       "                        <th id=\"T_1b26a470_417b_11eb_a54f_acde48001122level0_row35\" class=\"row_heading level0 row35\" >35</th>\n",
       "                        <td id=\"T_1b26a470_417b_11eb_a54f_acde48001122row35_col0\" class=\"data row35 col0\" >PCA Components</td>\n",
       "                        <td id=\"T_1b26a470_417b_11eb_a54f_acde48001122row35_col1\" class=\"data row35 col1\" >None</td>\n",
       "            </tr>\n",
       "            <tr>\n",
       "                        <th id=\"T_1b26a470_417b_11eb_a54f_acde48001122level0_row36\" class=\"row_heading level0 row36\" >36</th>\n",
       "                        <td id=\"T_1b26a470_417b_11eb_a54f_acde48001122row36_col0\" class=\"data row36 col0\" >Ignore Low Variance</td>\n",
       "                        <td id=\"T_1b26a470_417b_11eb_a54f_acde48001122row36_col1\" class=\"data row36 col1\" >False</td>\n",
       "            </tr>\n",
       "            <tr>\n",
       "                        <th id=\"T_1b26a470_417b_11eb_a54f_acde48001122level0_row37\" class=\"row_heading level0 row37\" >37</th>\n",
       "                        <td id=\"T_1b26a470_417b_11eb_a54f_acde48001122row37_col0\" class=\"data row37 col0\" >Combine Rare Levels</td>\n",
       "                        <td id=\"T_1b26a470_417b_11eb_a54f_acde48001122row37_col1\" class=\"data row37 col1\" >False</td>\n",
       "            </tr>\n",
       "            <tr>\n",
       "                        <th id=\"T_1b26a470_417b_11eb_a54f_acde48001122level0_row38\" class=\"row_heading level0 row38\" >38</th>\n",
       "                        <td id=\"T_1b26a470_417b_11eb_a54f_acde48001122row38_col0\" class=\"data row38 col0\" >Rare Level Threshold</td>\n",
       "                        <td id=\"T_1b26a470_417b_11eb_a54f_acde48001122row38_col1\" class=\"data row38 col1\" >None</td>\n",
       "            </tr>\n",
       "            <tr>\n",
       "                        <th id=\"T_1b26a470_417b_11eb_a54f_acde48001122level0_row39\" class=\"row_heading level0 row39\" >39</th>\n",
       "                        <td id=\"T_1b26a470_417b_11eb_a54f_acde48001122row39_col0\" class=\"data row39 col0\" >Numeric Binning</td>\n",
       "                        <td id=\"T_1b26a470_417b_11eb_a54f_acde48001122row39_col1\" class=\"data row39 col1\" >False</td>\n",
       "            </tr>\n",
       "            <tr>\n",
       "                        <th id=\"T_1b26a470_417b_11eb_a54f_acde48001122level0_row40\" class=\"row_heading level0 row40\" >40</th>\n",
       "                        <td id=\"T_1b26a470_417b_11eb_a54f_acde48001122row40_col0\" class=\"data row40 col0\" >Remove Outliers</td>\n",
       "                        <td id=\"T_1b26a470_417b_11eb_a54f_acde48001122row40_col1\" class=\"data row40 col1\" >False</td>\n",
       "            </tr>\n",
       "            <tr>\n",
       "                        <th id=\"T_1b26a470_417b_11eb_a54f_acde48001122level0_row41\" class=\"row_heading level0 row41\" >41</th>\n",
       "                        <td id=\"T_1b26a470_417b_11eb_a54f_acde48001122row41_col0\" class=\"data row41 col0\" >Outliers Threshold</td>\n",
       "                        <td id=\"T_1b26a470_417b_11eb_a54f_acde48001122row41_col1\" class=\"data row41 col1\" >None</td>\n",
       "            </tr>\n",
       "            <tr>\n",
       "                        <th id=\"T_1b26a470_417b_11eb_a54f_acde48001122level0_row42\" class=\"row_heading level0 row42\" >42</th>\n",
       "                        <td id=\"T_1b26a470_417b_11eb_a54f_acde48001122row42_col0\" class=\"data row42 col0\" >Remove Multicollinearity</td>\n",
       "                        <td id=\"T_1b26a470_417b_11eb_a54f_acde48001122row42_col1\" class=\"data row42 col1\" >False</td>\n",
       "            </tr>\n",
       "            <tr>\n",
       "                        <th id=\"T_1b26a470_417b_11eb_a54f_acde48001122level0_row43\" class=\"row_heading level0 row43\" >43</th>\n",
       "                        <td id=\"T_1b26a470_417b_11eb_a54f_acde48001122row43_col0\" class=\"data row43 col0\" >Multicollinearity Threshold</td>\n",
       "                        <td id=\"T_1b26a470_417b_11eb_a54f_acde48001122row43_col1\" class=\"data row43 col1\" >None</td>\n",
       "            </tr>\n",
       "            <tr>\n",
       "                        <th id=\"T_1b26a470_417b_11eb_a54f_acde48001122level0_row44\" class=\"row_heading level0 row44\" >44</th>\n",
       "                        <td id=\"T_1b26a470_417b_11eb_a54f_acde48001122row44_col0\" class=\"data row44 col0\" >Clustering</td>\n",
       "                        <td id=\"T_1b26a470_417b_11eb_a54f_acde48001122row44_col1\" class=\"data row44 col1\" >False</td>\n",
       "            </tr>\n",
       "            <tr>\n",
       "                        <th id=\"T_1b26a470_417b_11eb_a54f_acde48001122level0_row45\" class=\"row_heading level0 row45\" >45</th>\n",
       "                        <td id=\"T_1b26a470_417b_11eb_a54f_acde48001122row45_col0\" class=\"data row45 col0\" >Clustering Iteration</td>\n",
       "                        <td id=\"T_1b26a470_417b_11eb_a54f_acde48001122row45_col1\" class=\"data row45 col1\" >None</td>\n",
       "            </tr>\n",
       "            <tr>\n",
       "                        <th id=\"T_1b26a470_417b_11eb_a54f_acde48001122level0_row46\" class=\"row_heading level0 row46\" >46</th>\n",
       "                        <td id=\"T_1b26a470_417b_11eb_a54f_acde48001122row46_col0\" class=\"data row46 col0\" >Polynomial Features</td>\n",
       "                        <td id=\"T_1b26a470_417b_11eb_a54f_acde48001122row46_col1\" class=\"data row46 col1\" >False</td>\n",
       "            </tr>\n",
       "            <tr>\n",
       "                        <th id=\"T_1b26a470_417b_11eb_a54f_acde48001122level0_row47\" class=\"row_heading level0 row47\" >47</th>\n",
       "                        <td id=\"T_1b26a470_417b_11eb_a54f_acde48001122row47_col0\" class=\"data row47 col0\" >Polynomial Degree</td>\n",
       "                        <td id=\"T_1b26a470_417b_11eb_a54f_acde48001122row47_col1\" class=\"data row47 col1\" >None</td>\n",
       "            </tr>\n",
       "            <tr>\n",
       "                        <th id=\"T_1b26a470_417b_11eb_a54f_acde48001122level0_row48\" class=\"row_heading level0 row48\" >48</th>\n",
       "                        <td id=\"T_1b26a470_417b_11eb_a54f_acde48001122row48_col0\" class=\"data row48 col0\" >Trignometry Features</td>\n",
       "                        <td id=\"T_1b26a470_417b_11eb_a54f_acde48001122row48_col1\" class=\"data row48 col1\" >False</td>\n",
       "            </tr>\n",
       "            <tr>\n",
       "                        <th id=\"T_1b26a470_417b_11eb_a54f_acde48001122level0_row49\" class=\"row_heading level0 row49\" >49</th>\n",
       "                        <td id=\"T_1b26a470_417b_11eb_a54f_acde48001122row49_col0\" class=\"data row49 col0\" >Polynomial Threshold</td>\n",
       "                        <td id=\"T_1b26a470_417b_11eb_a54f_acde48001122row49_col1\" class=\"data row49 col1\" >None</td>\n",
       "            </tr>\n",
       "            <tr>\n",
       "                        <th id=\"T_1b26a470_417b_11eb_a54f_acde48001122level0_row50\" class=\"row_heading level0 row50\" >50</th>\n",
       "                        <td id=\"T_1b26a470_417b_11eb_a54f_acde48001122row50_col0\" class=\"data row50 col0\" >Group Features</td>\n",
       "                        <td id=\"T_1b26a470_417b_11eb_a54f_acde48001122row50_col1\" class=\"data row50 col1\" >False</td>\n",
       "            </tr>\n",
       "            <tr>\n",
       "                        <th id=\"T_1b26a470_417b_11eb_a54f_acde48001122level0_row51\" class=\"row_heading level0 row51\" >51</th>\n",
       "                        <td id=\"T_1b26a470_417b_11eb_a54f_acde48001122row51_col0\" class=\"data row51 col0\" >Feature Selection</td>\n",
       "                        <td id=\"T_1b26a470_417b_11eb_a54f_acde48001122row51_col1\" class=\"data row51 col1\" >False</td>\n",
       "            </tr>\n",
       "            <tr>\n",
       "                        <th id=\"T_1b26a470_417b_11eb_a54f_acde48001122level0_row52\" class=\"row_heading level0 row52\" >52</th>\n",
       "                        <td id=\"T_1b26a470_417b_11eb_a54f_acde48001122row52_col0\" class=\"data row52 col0\" >Features Selection Threshold</td>\n",
       "                        <td id=\"T_1b26a470_417b_11eb_a54f_acde48001122row52_col1\" class=\"data row52 col1\" >None</td>\n",
       "            </tr>\n",
       "            <tr>\n",
       "                        <th id=\"T_1b26a470_417b_11eb_a54f_acde48001122level0_row53\" class=\"row_heading level0 row53\" >53</th>\n",
       "                        <td id=\"T_1b26a470_417b_11eb_a54f_acde48001122row53_col0\" class=\"data row53 col0\" >Feature Interaction</td>\n",
       "                        <td id=\"T_1b26a470_417b_11eb_a54f_acde48001122row53_col1\" class=\"data row53 col1\" >False</td>\n",
       "            </tr>\n",
       "            <tr>\n",
       "                        <th id=\"T_1b26a470_417b_11eb_a54f_acde48001122level0_row54\" class=\"row_heading level0 row54\" >54</th>\n",
       "                        <td id=\"T_1b26a470_417b_11eb_a54f_acde48001122row54_col0\" class=\"data row54 col0\" >Feature Ratio</td>\n",
       "                        <td id=\"T_1b26a470_417b_11eb_a54f_acde48001122row54_col1\" class=\"data row54 col1\" >False</td>\n",
       "            </tr>\n",
       "            <tr>\n",
       "                        <th id=\"T_1b26a470_417b_11eb_a54f_acde48001122level0_row55\" class=\"row_heading level0 row55\" >55</th>\n",
       "                        <td id=\"T_1b26a470_417b_11eb_a54f_acde48001122row55_col0\" class=\"data row55 col0\" >Interaction Threshold</td>\n",
       "                        <td id=\"T_1b26a470_417b_11eb_a54f_acde48001122row55_col1\" class=\"data row55 col1\" >None</td>\n",
       "            </tr>\n",
       "            <tr>\n",
       "                        <th id=\"T_1b26a470_417b_11eb_a54f_acde48001122level0_row56\" class=\"row_heading level0 row56\" >56</th>\n",
       "                        <td id=\"T_1b26a470_417b_11eb_a54f_acde48001122row56_col0\" class=\"data row56 col0\" >Fix Imbalance</td>\n",
       "                        <td id=\"T_1b26a470_417b_11eb_a54f_acde48001122row56_col1\" class=\"data row56 col1\" >False</td>\n",
       "            </tr>\n",
       "            <tr>\n",
       "                        <th id=\"T_1b26a470_417b_11eb_a54f_acde48001122level0_row57\" class=\"row_heading level0 row57\" >57</th>\n",
       "                        <td id=\"T_1b26a470_417b_11eb_a54f_acde48001122row57_col0\" class=\"data row57 col0\" >Fix Imbalance Method</td>\n",
       "                        <td id=\"T_1b26a470_417b_11eb_a54f_acde48001122row57_col1\" class=\"data row57 col1\" >SMOTE</td>\n",
       "            </tr>\n",
       "    </tbody></table>"
      ],
      "text/plain": [
       "<pandas.io.formats.style.Styler at 0x7f91012c73a0>"
      ]
     },
     "metadata": {},
     "output_type": "display_data"
    }
   ],
   "source": [
    "exp = pyc.setup(df_train,'Churn',\n",
    "                train_size=0.8,\n",
    "                session_id=SEED,\n",
    "                use_gpu=USE_GPU,\n",
    "                preprocess = True,\n",
    "                categorical_features = None,\n",
    "                ordinal_features = None,\n",
    "                high_cardinality_features = None,\n",
    "                numeric_features = None,\n",
    "                date_features = None,\n",
    "                ignore_features = None,\n",
    "                normalize = False,\n",
    "                data_split_stratify = True,\n",
    "                silent=True,\n",
    "                profile=False,\n",
    "                log_experiment=True\n",
    "                )\n",
    "\n",
    "# use silent = True to check inferred datatypes\n",
    "# then assign numeric and categorical features yourself.\n",
    "#\n",
    "# if sampling = False, 100% of data is used and its too slow\n",
    "# if sampling = True, we need to enter number eg. 0.3 ourself.\n",
    "\n",
    "\"\"\"\n",
    "Here, we have data < 25k rows, so I have chosen not to use sampling.\n",
    "\n",
    "\"\"\";"
   ]
  },
  {
   "cell_type": "code",
   "execution_count": 15,
   "metadata": {
    "ExecuteTime": {
     "end_time": "2020-12-18T21:50:56.880600Z",
     "start_time": "2020-12-18T21:50:56.606746Z"
    }
   },
   "outputs": [
    {
     "data": {
      "text/html": [
       "<div>\n",
       "<style scoped>\n",
       "    .dataframe tbody tr th:only-of-type {\n",
       "        vertical-align: middle;\n",
       "    }\n",
       "\n",
       "    .dataframe tbody tr th {\n",
       "        vertical-align: top;\n",
       "    }\n",
       "\n",
       "    .dataframe thead th {\n",
       "        text-align: right;\n",
       "    }\n",
       "</style>\n",
       "<table border=\"1\" class=\"dataframe\">\n",
       "  <thead>\n",
       "    <tr style=\"text-align: right;\">\n",
       "      <th></th>\n",
       "      <th>Name</th>\n",
       "      <th>GPU Enabled</th>\n",
       "    </tr>\n",
       "    <tr>\n",
       "      <th>ID</th>\n",
       "      <th></th>\n",
       "      <th></th>\n",
       "    </tr>\n",
       "  </thead>\n",
       "  <tbody>\n",
       "    <tr>\n",
       "      <th>lr</th>\n",
       "      <td>Logistic Regression</td>\n",
       "      <td>False</td>\n",
       "    </tr>\n",
       "    <tr>\n",
       "      <th>knn</th>\n",
       "      <td>K Neighbors Classifier</td>\n",
       "      <td>False</td>\n",
       "    </tr>\n",
       "    <tr>\n",
       "      <th>nb</th>\n",
       "      <td>Naive Bayes</td>\n",
       "      <td>False</td>\n",
       "    </tr>\n",
       "    <tr>\n",
       "      <th>dt</th>\n",
       "      <td>Decision Tree Classifier</td>\n",
       "      <td>False</td>\n",
       "    </tr>\n",
       "    <tr>\n",
       "      <th>svm</th>\n",
       "      <td>SVM - Linear Kernel</td>\n",
       "      <td>False</td>\n",
       "    </tr>\n",
       "    <tr>\n",
       "      <th>rbfsvm</th>\n",
       "      <td>SVM - Radial Kernel</td>\n",
       "      <td>False</td>\n",
       "    </tr>\n",
       "    <tr>\n",
       "      <th>gpc</th>\n",
       "      <td>Gaussian Process Classifier</td>\n",
       "      <td>False</td>\n",
       "    </tr>\n",
       "    <tr>\n",
       "      <th>mlp</th>\n",
       "      <td>MLP Classifier</td>\n",
       "      <td>False</td>\n",
       "    </tr>\n",
       "    <tr>\n",
       "      <th>ridge</th>\n",
       "      <td>Ridge Classifier</td>\n",
       "      <td>False</td>\n",
       "    </tr>\n",
       "    <tr>\n",
       "      <th>rf</th>\n",
       "      <td>Random Forest Classifier</td>\n",
       "      <td>False</td>\n",
       "    </tr>\n",
       "    <tr>\n",
       "      <th>qda</th>\n",
       "      <td>Quadratic Discriminant Analysis</td>\n",
       "      <td>False</td>\n",
       "    </tr>\n",
       "    <tr>\n",
       "      <th>ada</th>\n",
       "      <td>Ada Boost Classifier</td>\n",
       "      <td>False</td>\n",
       "    </tr>\n",
       "    <tr>\n",
       "      <th>gbc</th>\n",
       "      <td>Gradient Boosting Classifier</td>\n",
       "      <td>False</td>\n",
       "    </tr>\n",
       "    <tr>\n",
       "      <th>lda</th>\n",
       "      <td>Linear Discriminant Analysis</td>\n",
       "      <td>False</td>\n",
       "    </tr>\n",
       "    <tr>\n",
       "      <th>et</th>\n",
       "      <td>Extra Trees Classifier</td>\n",
       "      <td>False</td>\n",
       "    </tr>\n",
       "    <tr>\n",
       "      <th>xgboost</th>\n",
       "      <td>Extreme Gradient Boosting</td>\n",
       "      <td>False</td>\n",
       "    </tr>\n",
       "    <tr>\n",
       "      <th>lightgbm</th>\n",
       "      <td>Light Gradient Boosting Machine</td>\n",
       "      <td>False</td>\n",
       "    </tr>\n",
       "    <tr>\n",
       "      <th>catboost</th>\n",
       "      <td>CatBoost Classifier</td>\n",
       "      <td>False</td>\n",
       "    </tr>\n",
       "    <tr>\n",
       "      <th>Bagging</th>\n",
       "      <td>Bagging Classifier</td>\n",
       "      <td>False</td>\n",
       "    </tr>\n",
       "    <tr>\n",
       "      <th>Stacking</th>\n",
       "      <td>Stacking Classifier</td>\n",
       "      <td>False</td>\n",
       "    </tr>\n",
       "    <tr>\n",
       "      <th>Voting</th>\n",
       "      <td>Voting Classifier</td>\n",
       "      <td>False</td>\n",
       "    </tr>\n",
       "    <tr>\n",
       "      <th>CalibratedCV</th>\n",
       "      <td>Calibrated Classifier CV</td>\n",
       "      <td>False</td>\n",
       "    </tr>\n",
       "  </tbody>\n",
       "</table>\n",
       "</div>"
      ],
      "text/plain": [
       "                                         Name  GPU Enabled\n",
       "ID                                                        \n",
       "lr                        Logistic Regression        False\n",
       "knn                    K Neighbors Classifier        False\n",
       "nb                                Naive Bayes        False\n",
       "dt                   Decision Tree Classifier        False\n",
       "svm                       SVM - Linear Kernel        False\n",
       "rbfsvm                    SVM - Radial Kernel        False\n",
       "gpc               Gaussian Process Classifier        False\n",
       "mlp                            MLP Classifier        False\n",
       "ridge                        Ridge Classifier        False\n",
       "rf                   Random Forest Classifier        False\n",
       "qda           Quadratic Discriminant Analysis        False\n",
       "ada                      Ada Boost Classifier        False\n",
       "gbc              Gradient Boosting Classifier        False\n",
       "lda              Linear Discriminant Analysis        False\n",
       "et                     Extra Trees Classifier        False\n",
       "xgboost             Extreme Gradient Boosting        False\n",
       "lightgbm      Light Gradient Boosting Machine        False\n",
       "catboost                  CatBoost Classifier        False\n",
       "Bagging                    Bagging Classifier        False\n",
       "Stacking                  Stacking Classifier        False\n",
       "Voting                      Voting Classifier        False\n",
       "CalibratedCV         Calibrated Classifier CV        False"
      ]
     },
     "execution_count": 15,
     "metadata": {},
     "output_type": "execute_result"
    }
   ],
   "source": [
    "pyc.models(internal=True)[['Name', 'GPU Enabled']]"
   ]
  },
  {
   "cell_type": "markdown",
   "metadata": {},
   "source": [
    "<a id=\"\" ></a>\n",
    "\n",
    "<h1>  Comparing Models </h1> \n",
    "\n",
    "<a href=\"#top\" class=\"btn btn-primary btn-sm\" role=\"button\" aria-pressed=\"true\" style=\"color:white\" data-toggle=\"popover\" title=\"go to TOC\">Go to Top</a>\n",
    "\n",
    "\n",
    "\n",
    "Comparing All Models\n",
    "- compare using stratified cross validation for metric evaluation.\n",
    "- shows average metrics for score grid for 10 fold cross-validation\n",
    "- default sorting is `accuracy`\n",
    "\n",
    "\n",
    "```python\n",
    "pyc.compare_models(\n",
    "    include          = None,\n",
    "    exclude          = None,\n",
    "    fold             = None,\n",
    "    round            = 4,\n",
    "    cross_validation = True,\n",
    "    sort             = 'Accuracy',\n",
    "    n_select         = 1,\n",
    "    budget_time      = None,\n",
    "    turbo            = True,\n",
    "    errors           = 'ignore',\n",
    "    fit_kwargs       = None,\n",
    "    groups           = None,\n",
    "    verbose          = True,\n",
    ") \n",
    "```\n"
   ]
  },
  {
   "cell_type": "code",
   "execution_count": 16,
   "metadata": {
    "ExecuteTime": {
     "end_time": "2020-12-18T21:50:56.951282Z",
     "start_time": "2020-12-18T21:50:56.890224Z"
    }
   },
   "outputs": [],
   "source": [
    "# pyc.compare_models?"
   ]
  },
  {
   "cell_type": "code",
   "execution_count": 17,
   "metadata": {
    "ExecuteTime": {
     "end_time": "2020-12-18T21:50:56.974100Z",
     "start_time": "2020-12-18T21:50:56.964219Z"
    }
   },
   "outputs": [
    {
     "data": {
      "text/plain": [
       "Index(['acc', 'auc', 'recall', 'precision', 'f1', 'kappa', 'mcc'], dtype='object', name='ID')"
      ]
     },
     "execution_count": 17,
     "metadata": {},
     "output_type": "execute_result"
    }
   ],
   "source": [
    "pyc.get_metrics().index"
   ]
  },
  {
   "cell_type": "code",
   "execution_count": 18,
   "metadata": {
    "ExecuteTime": {
     "end_time": "2020-12-18T21:50:57.033722Z",
     "start_time": "2020-12-18T21:50:57.000398Z"
    }
   },
   "outputs": [
    {
     "data": {
      "text/plain": [
       "Name                                                        LogLoss\n",
       "Display Name                                                LogLoss\n",
       "Score Function                <function log_loss at 0x7f90fc2734c0>\n",
       "Scorer               make_scorer(log_loss, greater_is_better=False)\n",
       "Target                                                         pred\n",
       "Args                                                             {}\n",
       "Greater is Better                                             False\n",
       "Multiclass                                                     True\n",
       "Custom                                                         True\n",
       "Name: logloss, dtype: object"
      ]
     },
     "execution_count": 18,
     "metadata": {},
     "output_type": "execute_result"
    }
   ],
   "source": [
    "# add Log Loss metric in pycaret\n",
    "from sklearn.metrics import log_loss\n",
    "pyc.add_metric('logloss', 'LogLoss', log_loss, greater_is_better=False)"
   ]
  },
  {
   "cell_type": "code",
   "execution_count": 19,
   "metadata": {
    "ExecuteTime": {
     "end_time": "2020-12-18T21:52:21.871000Z",
     "start_time": "2020-12-18T21:50:57.048870Z"
    }
   },
   "outputs": [
    {
     "data": {
      "text/html": [
       "<style  type=\"text/css\" >\n",
       "    #T_4e7dba8e_417b_11eb_a54f_acde48001122 th {\n",
       "          text-align: left;\n",
       "    }    #T_4e7dba8e_417b_11eb_a54f_acde48001122row0_col0 {\n",
       "            text-align:  left;\n",
       "            text-align:  left;\n",
       "        }    #T_4e7dba8e_417b_11eb_a54f_acde48001122row0_col1 {\n",
       "            text-align:  left;\n",
       "            text-align:  left;\n",
       "            : ;\n",
       "        }    #T_4e7dba8e_417b_11eb_a54f_acde48001122row0_col2 {\n",
       "            text-align:  left;\n",
       "            text-align:  left;\n",
       "            : ;\n",
       "        }    #T_4e7dba8e_417b_11eb_a54f_acde48001122row0_col3 {\n",
       "            text-align:  left;\n",
       "            text-align:  left;\n",
       "            background-color:  yellow;\n",
       "        }    #T_4e7dba8e_417b_11eb_a54f_acde48001122row0_col4 {\n",
       "            text-align:  left;\n",
       "            text-align:  left;\n",
       "            : ;\n",
       "        }    #T_4e7dba8e_417b_11eb_a54f_acde48001122row0_col5 {\n",
       "            text-align:  left;\n",
       "            text-align:  left;\n",
       "            : ;\n",
       "        }    #T_4e7dba8e_417b_11eb_a54f_acde48001122row0_col6 {\n",
       "            text-align:  left;\n",
       "            text-align:  left;\n",
       "            : ;\n",
       "        }    #T_4e7dba8e_417b_11eb_a54f_acde48001122row0_col7 {\n",
       "            text-align:  left;\n",
       "            text-align:  left;\n",
       "            : ;\n",
       "        }    #T_4e7dba8e_417b_11eb_a54f_acde48001122row0_col8 {\n",
       "            text-align:  left;\n",
       "            text-align:  left;\n",
       "            : ;\n",
       "        }    #T_4e7dba8e_417b_11eb_a54f_acde48001122row0_col9 {\n",
       "            text-align:  left;\n",
       "            text-align:  left;\n",
       "            background-color:  yellow;\n",
       "            background-color:  lightgrey;\n",
       "        }    #T_4e7dba8e_417b_11eb_a54f_acde48001122row1_col0 {\n",
       "            text-align:  left;\n",
       "            text-align:  left;\n",
       "        }    #T_4e7dba8e_417b_11eb_a54f_acde48001122row1_col1 {\n",
       "            text-align:  left;\n",
       "            text-align:  left;\n",
       "            : ;\n",
       "        }    #T_4e7dba8e_417b_11eb_a54f_acde48001122row1_col2 {\n",
       "            text-align:  left;\n",
       "            text-align:  left;\n",
       "            : ;\n",
       "        }    #T_4e7dba8e_417b_11eb_a54f_acde48001122row1_col3 {\n",
       "            text-align:  left;\n",
       "            text-align:  left;\n",
       "            : ;\n",
       "        }    #T_4e7dba8e_417b_11eb_a54f_acde48001122row1_col4 {\n",
       "            text-align:  left;\n",
       "            text-align:  left;\n",
       "            : ;\n",
       "        }    #T_4e7dba8e_417b_11eb_a54f_acde48001122row1_col5 {\n",
       "            text-align:  left;\n",
       "            text-align:  left;\n",
       "            : ;\n",
       "        }    #T_4e7dba8e_417b_11eb_a54f_acde48001122row1_col6 {\n",
       "            text-align:  left;\n",
       "            text-align:  left;\n",
       "            : ;\n",
       "        }    #T_4e7dba8e_417b_11eb_a54f_acde48001122row1_col7 {\n",
       "            text-align:  left;\n",
       "            text-align:  left;\n",
       "            : ;\n",
       "        }    #T_4e7dba8e_417b_11eb_a54f_acde48001122row1_col8 {\n",
       "            text-align:  left;\n",
       "            text-align:  left;\n",
       "            : ;\n",
       "        }    #T_4e7dba8e_417b_11eb_a54f_acde48001122row1_col9 {\n",
       "            text-align:  left;\n",
       "            text-align:  left;\n",
       "            : ;\n",
       "            background-color:  lightgrey;\n",
       "        }    #T_4e7dba8e_417b_11eb_a54f_acde48001122row2_col0 {\n",
       "            text-align:  left;\n",
       "            text-align:  left;\n",
       "        }    #T_4e7dba8e_417b_11eb_a54f_acde48001122row2_col1 {\n",
       "            text-align:  left;\n",
       "            text-align:  left;\n",
       "            : ;\n",
       "        }    #T_4e7dba8e_417b_11eb_a54f_acde48001122row2_col2 {\n",
       "            text-align:  left;\n",
       "            text-align:  left;\n",
       "            : ;\n",
       "        }    #T_4e7dba8e_417b_11eb_a54f_acde48001122row2_col3 {\n",
       "            text-align:  left;\n",
       "            text-align:  left;\n",
       "            : ;\n",
       "        }    #T_4e7dba8e_417b_11eb_a54f_acde48001122row2_col4 {\n",
       "            text-align:  left;\n",
       "            text-align:  left;\n",
       "            : ;\n",
       "        }    #T_4e7dba8e_417b_11eb_a54f_acde48001122row2_col5 {\n",
       "            text-align:  left;\n",
       "            text-align:  left;\n",
       "            background-color:  yellow;\n",
       "        }    #T_4e7dba8e_417b_11eb_a54f_acde48001122row2_col6 {\n",
       "            text-align:  left;\n",
       "            text-align:  left;\n",
       "            : ;\n",
       "        }    #T_4e7dba8e_417b_11eb_a54f_acde48001122row2_col7 {\n",
       "            text-align:  left;\n",
       "            text-align:  left;\n",
       "            : ;\n",
       "        }    #T_4e7dba8e_417b_11eb_a54f_acde48001122row2_col8 {\n",
       "            text-align:  left;\n",
       "            text-align:  left;\n",
       "            : ;\n",
       "        }    #T_4e7dba8e_417b_11eb_a54f_acde48001122row2_col9 {\n",
       "            text-align:  left;\n",
       "            text-align:  left;\n",
       "            : ;\n",
       "            background-color:  lightgrey;\n",
       "        }    #T_4e7dba8e_417b_11eb_a54f_acde48001122row3_col0 {\n",
       "            text-align:  left;\n",
       "            text-align:  left;\n",
       "        }    #T_4e7dba8e_417b_11eb_a54f_acde48001122row3_col1 {\n",
       "            text-align:  left;\n",
       "            text-align:  left;\n",
       "            background-color:  yellow;\n",
       "        }    #T_4e7dba8e_417b_11eb_a54f_acde48001122row3_col2 {\n",
       "            text-align:  left;\n",
       "            text-align:  left;\n",
       "            : ;\n",
       "        }    #T_4e7dba8e_417b_11eb_a54f_acde48001122row3_col3 {\n",
       "            text-align:  left;\n",
       "            text-align:  left;\n",
       "            : ;\n",
       "        }    #T_4e7dba8e_417b_11eb_a54f_acde48001122row3_col4 {\n",
       "            text-align:  left;\n",
       "            text-align:  left;\n",
       "            : ;\n",
       "        }    #T_4e7dba8e_417b_11eb_a54f_acde48001122row3_col5 {\n",
       "            text-align:  left;\n",
       "            text-align:  left;\n",
       "            : ;\n",
       "        }    #T_4e7dba8e_417b_11eb_a54f_acde48001122row3_col6 {\n",
       "            text-align:  left;\n",
       "            text-align:  left;\n",
       "            background-color:  yellow;\n",
       "        }    #T_4e7dba8e_417b_11eb_a54f_acde48001122row3_col7 {\n",
       "            text-align:  left;\n",
       "            text-align:  left;\n",
       "            background-color:  yellow;\n",
       "        }    #T_4e7dba8e_417b_11eb_a54f_acde48001122row3_col8 {\n",
       "            text-align:  left;\n",
       "            text-align:  left;\n",
       "            background-color:  yellow;\n",
       "        }    #T_4e7dba8e_417b_11eb_a54f_acde48001122row3_col9 {\n",
       "            text-align:  left;\n",
       "            text-align:  left;\n",
       "            : ;\n",
       "            background-color:  lightgrey;\n",
       "        }    #T_4e7dba8e_417b_11eb_a54f_acde48001122row4_col0 {\n",
       "            text-align:  left;\n",
       "            text-align:  left;\n",
       "        }    #T_4e7dba8e_417b_11eb_a54f_acde48001122row4_col1 {\n",
       "            text-align:  left;\n",
       "            text-align:  left;\n",
       "            : ;\n",
       "        }    #T_4e7dba8e_417b_11eb_a54f_acde48001122row4_col2 {\n",
       "            text-align:  left;\n",
       "            text-align:  left;\n",
       "            : ;\n",
       "        }    #T_4e7dba8e_417b_11eb_a54f_acde48001122row4_col3 {\n",
       "            text-align:  left;\n",
       "            text-align:  left;\n",
       "            : ;\n",
       "        }    #T_4e7dba8e_417b_11eb_a54f_acde48001122row4_col4 {\n",
       "            text-align:  left;\n",
       "            text-align:  left;\n",
       "            : ;\n",
       "        }    #T_4e7dba8e_417b_11eb_a54f_acde48001122row4_col5 {\n",
       "            text-align:  left;\n",
       "            text-align:  left;\n",
       "            : ;\n",
       "        }    #T_4e7dba8e_417b_11eb_a54f_acde48001122row4_col6 {\n",
       "            text-align:  left;\n",
       "            text-align:  left;\n",
       "            : ;\n",
       "        }    #T_4e7dba8e_417b_11eb_a54f_acde48001122row4_col7 {\n",
       "            text-align:  left;\n",
       "            text-align:  left;\n",
       "            : ;\n",
       "        }    #T_4e7dba8e_417b_11eb_a54f_acde48001122row4_col8 {\n",
       "            text-align:  left;\n",
       "            text-align:  left;\n",
       "            : ;\n",
       "        }    #T_4e7dba8e_417b_11eb_a54f_acde48001122row4_col9 {\n",
       "            text-align:  left;\n",
       "            text-align:  left;\n",
       "            : ;\n",
       "            background-color:  lightgrey;\n",
       "        }    #T_4e7dba8e_417b_11eb_a54f_acde48001122row5_col0 {\n",
       "            text-align:  left;\n",
       "            text-align:  left;\n",
       "        }    #T_4e7dba8e_417b_11eb_a54f_acde48001122row5_col1 {\n",
       "            text-align:  left;\n",
       "            text-align:  left;\n",
       "            : ;\n",
       "        }    #T_4e7dba8e_417b_11eb_a54f_acde48001122row5_col2 {\n",
       "            text-align:  left;\n",
       "            text-align:  left;\n",
       "            background-color:  yellow;\n",
       "        }    #T_4e7dba8e_417b_11eb_a54f_acde48001122row5_col3 {\n",
       "            text-align:  left;\n",
       "            text-align:  left;\n",
       "            : ;\n",
       "        }    #T_4e7dba8e_417b_11eb_a54f_acde48001122row5_col4 {\n",
       "            text-align:  left;\n",
       "            text-align:  left;\n",
       "            : ;\n",
       "        }    #T_4e7dba8e_417b_11eb_a54f_acde48001122row5_col5 {\n",
       "            text-align:  left;\n",
       "            text-align:  left;\n",
       "            : ;\n",
       "        }    #T_4e7dba8e_417b_11eb_a54f_acde48001122row5_col6 {\n",
       "            text-align:  left;\n",
       "            text-align:  left;\n",
       "            : ;\n",
       "        }    #T_4e7dba8e_417b_11eb_a54f_acde48001122row5_col7 {\n",
       "            text-align:  left;\n",
       "            text-align:  left;\n",
       "            : ;\n",
       "        }    #T_4e7dba8e_417b_11eb_a54f_acde48001122row5_col8 {\n",
       "            text-align:  left;\n",
       "            text-align:  left;\n",
       "            : ;\n",
       "        }    #T_4e7dba8e_417b_11eb_a54f_acde48001122row5_col9 {\n",
       "            text-align:  left;\n",
       "            text-align:  left;\n",
       "            : ;\n",
       "            background-color:  lightgrey;\n",
       "        }    #T_4e7dba8e_417b_11eb_a54f_acde48001122row6_col0 {\n",
       "            text-align:  left;\n",
       "            text-align:  left;\n",
       "        }    #T_4e7dba8e_417b_11eb_a54f_acde48001122row6_col1 {\n",
       "            text-align:  left;\n",
       "            text-align:  left;\n",
       "            : ;\n",
       "        }    #T_4e7dba8e_417b_11eb_a54f_acde48001122row6_col2 {\n",
       "            text-align:  left;\n",
       "            text-align:  left;\n",
       "            : ;\n",
       "        }    #T_4e7dba8e_417b_11eb_a54f_acde48001122row6_col3 {\n",
       "            text-align:  left;\n",
       "            text-align:  left;\n",
       "            : ;\n",
       "        }    #T_4e7dba8e_417b_11eb_a54f_acde48001122row6_col4 {\n",
       "            text-align:  left;\n",
       "            text-align:  left;\n",
       "            : ;\n",
       "        }    #T_4e7dba8e_417b_11eb_a54f_acde48001122row6_col5 {\n",
       "            text-align:  left;\n",
       "            text-align:  left;\n",
       "            : ;\n",
       "        }    #T_4e7dba8e_417b_11eb_a54f_acde48001122row6_col6 {\n",
       "            text-align:  left;\n",
       "            text-align:  left;\n",
       "            : ;\n",
       "        }    #T_4e7dba8e_417b_11eb_a54f_acde48001122row6_col7 {\n",
       "            text-align:  left;\n",
       "            text-align:  left;\n",
       "            : ;\n",
       "        }    #T_4e7dba8e_417b_11eb_a54f_acde48001122row6_col8 {\n",
       "            text-align:  left;\n",
       "            text-align:  left;\n",
       "            : ;\n",
       "        }    #T_4e7dba8e_417b_11eb_a54f_acde48001122row6_col9 {\n",
       "            text-align:  left;\n",
       "            text-align:  left;\n",
       "            : ;\n",
       "            background-color:  lightgrey;\n",
       "        }    #T_4e7dba8e_417b_11eb_a54f_acde48001122row7_col0 {\n",
       "            text-align:  left;\n",
       "            text-align:  left;\n",
       "        }    #T_4e7dba8e_417b_11eb_a54f_acde48001122row7_col1 {\n",
       "            text-align:  left;\n",
       "            text-align:  left;\n",
       "            : ;\n",
       "        }    #T_4e7dba8e_417b_11eb_a54f_acde48001122row7_col2 {\n",
       "            text-align:  left;\n",
       "            text-align:  left;\n",
       "            : ;\n",
       "        }    #T_4e7dba8e_417b_11eb_a54f_acde48001122row7_col3 {\n",
       "            text-align:  left;\n",
       "            text-align:  left;\n",
       "            : ;\n",
       "        }    #T_4e7dba8e_417b_11eb_a54f_acde48001122row7_col4 {\n",
       "            text-align:  left;\n",
       "            text-align:  left;\n",
       "            : ;\n",
       "        }    #T_4e7dba8e_417b_11eb_a54f_acde48001122row7_col5 {\n",
       "            text-align:  left;\n",
       "            text-align:  left;\n",
       "            : ;\n",
       "        }    #T_4e7dba8e_417b_11eb_a54f_acde48001122row7_col6 {\n",
       "            text-align:  left;\n",
       "            text-align:  left;\n",
       "            : ;\n",
       "        }    #T_4e7dba8e_417b_11eb_a54f_acde48001122row7_col7 {\n",
       "            text-align:  left;\n",
       "            text-align:  left;\n",
       "            : ;\n",
       "        }    #T_4e7dba8e_417b_11eb_a54f_acde48001122row7_col8 {\n",
       "            text-align:  left;\n",
       "            text-align:  left;\n",
       "            : ;\n",
       "        }    #T_4e7dba8e_417b_11eb_a54f_acde48001122row7_col9 {\n",
       "            text-align:  left;\n",
       "            text-align:  left;\n",
       "            : ;\n",
       "            background-color:  lightgrey;\n",
       "        }    #T_4e7dba8e_417b_11eb_a54f_acde48001122row8_col0 {\n",
       "            text-align:  left;\n",
       "            text-align:  left;\n",
       "        }    #T_4e7dba8e_417b_11eb_a54f_acde48001122row8_col1 {\n",
       "            text-align:  left;\n",
       "            text-align:  left;\n",
       "            : ;\n",
       "        }    #T_4e7dba8e_417b_11eb_a54f_acde48001122row8_col2 {\n",
       "            text-align:  left;\n",
       "            text-align:  left;\n",
       "            : ;\n",
       "        }    #T_4e7dba8e_417b_11eb_a54f_acde48001122row8_col3 {\n",
       "            text-align:  left;\n",
       "            text-align:  left;\n",
       "            : ;\n",
       "        }    #T_4e7dba8e_417b_11eb_a54f_acde48001122row8_col4 {\n",
       "            text-align:  left;\n",
       "            text-align:  left;\n",
       "            : ;\n",
       "        }    #T_4e7dba8e_417b_11eb_a54f_acde48001122row8_col5 {\n",
       "            text-align:  left;\n",
       "            text-align:  left;\n",
       "            : ;\n",
       "        }    #T_4e7dba8e_417b_11eb_a54f_acde48001122row8_col6 {\n",
       "            text-align:  left;\n",
       "            text-align:  left;\n",
       "            : ;\n",
       "        }    #T_4e7dba8e_417b_11eb_a54f_acde48001122row8_col7 {\n",
       "            text-align:  left;\n",
       "            text-align:  left;\n",
       "            : ;\n",
       "        }    #T_4e7dba8e_417b_11eb_a54f_acde48001122row8_col8 {\n",
       "            text-align:  left;\n",
       "            text-align:  left;\n",
       "            : ;\n",
       "        }    #T_4e7dba8e_417b_11eb_a54f_acde48001122row8_col9 {\n",
       "            text-align:  left;\n",
       "            text-align:  left;\n",
       "            : ;\n",
       "            background-color:  lightgrey;\n",
       "        }    #T_4e7dba8e_417b_11eb_a54f_acde48001122row9_col0 {\n",
       "            text-align:  left;\n",
       "            text-align:  left;\n",
       "        }    #T_4e7dba8e_417b_11eb_a54f_acde48001122row9_col1 {\n",
       "            text-align:  left;\n",
       "            text-align:  left;\n",
       "            : ;\n",
       "        }    #T_4e7dba8e_417b_11eb_a54f_acde48001122row9_col2 {\n",
       "            text-align:  left;\n",
       "            text-align:  left;\n",
       "            : ;\n",
       "        }    #T_4e7dba8e_417b_11eb_a54f_acde48001122row9_col3 {\n",
       "            text-align:  left;\n",
       "            text-align:  left;\n",
       "            : ;\n",
       "        }    #T_4e7dba8e_417b_11eb_a54f_acde48001122row9_col4 {\n",
       "            text-align:  left;\n",
       "            text-align:  left;\n",
       "            : ;\n",
       "        }    #T_4e7dba8e_417b_11eb_a54f_acde48001122row9_col5 {\n",
       "            text-align:  left;\n",
       "            text-align:  left;\n",
       "            : ;\n",
       "        }    #T_4e7dba8e_417b_11eb_a54f_acde48001122row9_col6 {\n",
       "            text-align:  left;\n",
       "            text-align:  left;\n",
       "            : ;\n",
       "        }    #T_4e7dba8e_417b_11eb_a54f_acde48001122row9_col7 {\n",
       "            text-align:  left;\n",
       "            text-align:  left;\n",
       "            : ;\n",
       "        }    #T_4e7dba8e_417b_11eb_a54f_acde48001122row9_col8 {\n",
       "            text-align:  left;\n",
       "            text-align:  left;\n",
       "            : ;\n",
       "        }    #T_4e7dba8e_417b_11eb_a54f_acde48001122row9_col9 {\n",
       "            text-align:  left;\n",
       "            text-align:  left;\n",
       "            : ;\n",
       "            background-color:  lightgrey;\n",
       "        }    #T_4e7dba8e_417b_11eb_a54f_acde48001122row10_col0 {\n",
       "            text-align:  left;\n",
       "            text-align:  left;\n",
       "        }    #T_4e7dba8e_417b_11eb_a54f_acde48001122row10_col1 {\n",
       "            text-align:  left;\n",
       "            text-align:  left;\n",
       "            : ;\n",
       "        }    #T_4e7dba8e_417b_11eb_a54f_acde48001122row10_col2 {\n",
       "            text-align:  left;\n",
       "            text-align:  left;\n",
       "            : ;\n",
       "        }    #T_4e7dba8e_417b_11eb_a54f_acde48001122row10_col3 {\n",
       "            text-align:  left;\n",
       "            text-align:  left;\n",
       "            : ;\n",
       "        }    #T_4e7dba8e_417b_11eb_a54f_acde48001122row10_col4 {\n",
       "            text-align:  left;\n",
       "            text-align:  left;\n",
       "            : ;\n",
       "        }    #T_4e7dba8e_417b_11eb_a54f_acde48001122row10_col5 {\n",
       "            text-align:  left;\n",
       "            text-align:  left;\n",
       "            : ;\n",
       "        }    #T_4e7dba8e_417b_11eb_a54f_acde48001122row10_col6 {\n",
       "            text-align:  left;\n",
       "            text-align:  left;\n",
       "            : ;\n",
       "        }    #T_4e7dba8e_417b_11eb_a54f_acde48001122row10_col7 {\n",
       "            text-align:  left;\n",
       "            text-align:  left;\n",
       "            : ;\n",
       "        }    #T_4e7dba8e_417b_11eb_a54f_acde48001122row10_col8 {\n",
       "            text-align:  left;\n",
       "            text-align:  left;\n",
       "            : ;\n",
       "        }    #T_4e7dba8e_417b_11eb_a54f_acde48001122row10_col9 {\n",
       "            text-align:  left;\n",
       "            text-align:  left;\n",
       "            : ;\n",
       "            background-color:  lightgrey;\n",
       "        }    #T_4e7dba8e_417b_11eb_a54f_acde48001122row11_col0 {\n",
       "            text-align:  left;\n",
       "            text-align:  left;\n",
       "        }    #T_4e7dba8e_417b_11eb_a54f_acde48001122row11_col1 {\n",
       "            text-align:  left;\n",
       "            text-align:  left;\n",
       "            : ;\n",
       "        }    #T_4e7dba8e_417b_11eb_a54f_acde48001122row11_col2 {\n",
       "            text-align:  left;\n",
       "            text-align:  left;\n",
       "            : ;\n",
       "        }    #T_4e7dba8e_417b_11eb_a54f_acde48001122row11_col3 {\n",
       "            text-align:  left;\n",
       "            text-align:  left;\n",
       "            : ;\n",
       "        }    #T_4e7dba8e_417b_11eb_a54f_acde48001122row11_col4 {\n",
       "            text-align:  left;\n",
       "            text-align:  left;\n",
       "            : ;\n",
       "        }    #T_4e7dba8e_417b_11eb_a54f_acde48001122row11_col5 {\n",
       "            text-align:  left;\n",
       "            text-align:  left;\n",
       "            : ;\n",
       "        }    #T_4e7dba8e_417b_11eb_a54f_acde48001122row11_col6 {\n",
       "            text-align:  left;\n",
       "            text-align:  left;\n",
       "            : ;\n",
       "        }    #T_4e7dba8e_417b_11eb_a54f_acde48001122row11_col7 {\n",
       "            text-align:  left;\n",
       "            text-align:  left;\n",
       "            : ;\n",
       "        }    #T_4e7dba8e_417b_11eb_a54f_acde48001122row11_col8 {\n",
       "            text-align:  left;\n",
       "            text-align:  left;\n",
       "            : ;\n",
       "        }    #T_4e7dba8e_417b_11eb_a54f_acde48001122row11_col9 {\n",
       "            text-align:  left;\n",
       "            text-align:  left;\n",
       "            : ;\n",
       "            background-color:  lightgrey;\n",
       "        }    #T_4e7dba8e_417b_11eb_a54f_acde48001122row12_col0 {\n",
       "            text-align:  left;\n",
       "            text-align:  left;\n",
       "        }    #T_4e7dba8e_417b_11eb_a54f_acde48001122row12_col1 {\n",
       "            text-align:  left;\n",
       "            text-align:  left;\n",
       "            : ;\n",
       "        }    #T_4e7dba8e_417b_11eb_a54f_acde48001122row12_col2 {\n",
       "            text-align:  left;\n",
       "            text-align:  left;\n",
       "            : ;\n",
       "        }    #T_4e7dba8e_417b_11eb_a54f_acde48001122row12_col3 {\n",
       "            text-align:  left;\n",
       "            text-align:  left;\n",
       "            : ;\n",
       "        }    #T_4e7dba8e_417b_11eb_a54f_acde48001122row12_col4 {\n",
       "            text-align:  left;\n",
       "            text-align:  left;\n",
       "            background-color:  yellow;\n",
       "        }    #T_4e7dba8e_417b_11eb_a54f_acde48001122row12_col5 {\n",
       "            text-align:  left;\n",
       "            text-align:  left;\n",
       "            : ;\n",
       "        }    #T_4e7dba8e_417b_11eb_a54f_acde48001122row12_col6 {\n",
       "            text-align:  left;\n",
       "            text-align:  left;\n",
       "            : ;\n",
       "        }    #T_4e7dba8e_417b_11eb_a54f_acde48001122row12_col7 {\n",
       "            text-align:  left;\n",
       "            text-align:  left;\n",
       "            : ;\n",
       "        }    #T_4e7dba8e_417b_11eb_a54f_acde48001122row12_col8 {\n",
       "            text-align:  left;\n",
       "            text-align:  left;\n",
       "            : ;\n",
       "        }    #T_4e7dba8e_417b_11eb_a54f_acde48001122row12_col9 {\n",
       "            text-align:  left;\n",
       "            text-align:  left;\n",
       "            : ;\n",
       "            background-color:  lightgrey;\n",
       "        }    #T_4e7dba8e_417b_11eb_a54f_acde48001122row13_col0 {\n",
       "            text-align:  left;\n",
       "            text-align:  left;\n",
       "        }    #T_4e7dba8e_417b_11eb_a54f_acde48001122row13_col1 {\n",
       "            text-align:  left;\n",
       "            text-align:  left;\n",
       "            : ;\n",
       "        }    #T_4e7dba8e_417b_11eb_a54f_acde48001122row13_col2 {\n",
       "            text-align:  left;\n",
       "            text-align:  left;\n",
       "            : ;\n",
       "        }    #T_4e7dba8e_417b_11eb_a54f_acde48001122row13_col3 {\n",
       "            text-align:  left;\n",
       "            text-align:  left;\n",
       "            : ;\n",
       "        }    #T_4e7dba8e_417b_11eb_a54f_acde48001122row13_col4 {\n",
       "            text-align:  left;\n",
       "            text-align:  left;\n",
       "            : ;\n",
       "        }    #T_4e7dba8e_417b_11eb_a54f_acde48001122row13_col5 {\n",
       "            text-align:  left;\n",
       "            text-align:  left;\n",
       "            : ;\n",
       "        }    #T_4e7dba8e_417b_11eb_a54f_acde48001122row13_col6 {\n",
       "            text-align:  left;\n",
       "            text-align:  left;\n",
       "            : ;\n",
       "        }    #T_4e7dba8e_417b_11eb_a54f_acde48001122row13_col7 {\n",
       "            text-align:  left;\n",
       "            text-align:  left;\n",
       "            : ;\n",
       "        }    #T_4e7dba8e_417b_11eb_a54f_acde48001122row13_col8 {\n",
       "            text-align:  left;\n",
       "            text-align:  left;\n",
       "            : ;\n",
       "        }    #T_4e7dba8e_417b_11eb_a54f_acde48001122row13_col9 {\n",
       "            text-align:  left;\n",
       "            text-align:  left;\n",
       "            : ;\n",
       "            background-color:  lightgrey;\n",
       "        }    #T_4e7dba8e_417b_11eb_a54f_acde48001122row14_col0 {\n",
       "            text-align:  left;\n",
       "            text-align:  left;\n",
       "        }    #T_4e7dba8e_417b_11eb_a54f_acde48001122row14_col1 {\n",
       "            text-align:  left;\n",
       "            text-align:  left;\n",
       "            : ;\n",
       "        }    #T_4e7dba8e_417b_11eb_a54f_acde48001122row14_col2 {\n",
       "            text-align:  left;\n",
       "            text-align:  left;\n",
       "            : ;\n",
       "        }    #T_4e7dba8e_417b_11eb_a54f_acde48001122row14_col3 {\n",
       "            text-align:  left;\n",
       "            text-align:  left;\n",
       "            : ;\n",
       "        }    #T_4e7dba8e_417b_11eb_a54f_acde48001122row14_col4 {\n",
       "            text-align:  left;\n",
       "            text-align:  left;\n",
       "            : ;\n",
       "        }    #T_4e7dba8e_417b_11eb_a54f_acde48001122row14_col5 {\n",
       "            text-align:  left;\n",
       "            text-align:  left;\n",
       "            : ;\n",
       "        }    #T_4e7dba8e_417b_11eb_a54f_acde48001122row14_col6 {\n",
       "            text-align:  left;\n",
       "            text-align:  left;\n",
       "            : ;\n",
       "        }    #T_4e7dba8e_417b_11eb_a54f_acde48001122row14_col7 {\n",
       "            text-align:  left;\n",
       "            text-align:  left;\n",
       "            : ;\n",
       "        }    #T_4e7dba8e_417b_11eb_a54f_acde48001122row14_col8 {\n",
       "            text-align:  left;\n",
       "            text-align:  left;\n",
       "            : ;\n",
       "        }    #T_4e7dba8e_417b_11eb_a54f_acde48001122row14_col9 {\n",
       "            text-align:  left;\n",
       "            text-align:  left;\n",
       "            : ;\n",
       "            background-color:  lightgrey;\n",
       "        }</style><table id=\"T_4e7dba8e_417b_11eb_a54f_acde48001122\" ><thead>    <tr>        <th class=\"blank level0\" ></th>        <th class=\"col_heading level0 col0\" >Model</th>        <th class=\"col_heading level0 col1\" >Accuracy</th>        <th class=\"col_heading level0 col2\" >AUC</th>        <th class=\"col_heading level0 col3\" >Recall</th>        <th class=\"col_heading level0 col4\" >Prec.</th>        <th class=\"col_heading level0 col5\" >F1</th>        <th class=\"col_heading level0 col6\" >Kappa</th>        <th class=\"col_heading level0 col7\" >MCC</th>        <th class=\"col_heading level0 col8\" >LogLoss</th>        <th class=\"col_heading level0 col9\" >TT (Sec)</th>    </tr></thead><tbody>\n",
       "                <tr>\n",
       "                        <th id=\"T_4e7dba8e_417b_11eb_a54f_acde48001122level0_row0\" class=\"row_heading level0 row0\" >nb</th>\n",
       "                        <td id=\"T_4e7dba8e_417b_11eb_a54f_acde48001122row0_col0\" class=\"data row0 col0\" >Naive Bayes</td>\n",
       "                        <td id=\"T_4e7dba8e_417b_11eb_a54f_acde48001122row0_col1\" class=\"data row0 col1\" >0.7069</td>\n",
       "                        <td id=\"T_4e7dba8e_417b_11eb_a54f_acde48001122row0_col2\" class=\"data row0 col2\" >0.8243</td>\n",
       "                        <td id=\"T_4e7dba8e_417b_11eb_a54f_acde48001122row0_col3\" class=\"data row0 col3\" >0.8345</td>\n",
       "                        <td id=\"T_4e7dba8e_417b_11eb_a54f_acde48001122row0_col4\" class=\"data row0 col4\" >0.4722</td>\n",
       "                        <td id=\"T_4e7dba8e_417b_11eb_a54f_acde48001122row0_col5\" class=\"data row0 col5\" >0.6027</td>\n",
       "                        <td id=\"T_4e7dba8e_417b_11eb_a54f_acde48001122row0_col6\" class=\"data row0 col6\" >0.3983</td>\n",
       "                        <td id=\"T_4e7dba8e_417b_11eb_a54f_acde48001122row0_col7\" class=\"data row0 col7\" >0.4389</td>\n",
       "                        <td id=\"T_4e7dba8e_417b_11eb_a54f_acde48001122row0_col8\" class=\"data row0 col8\" >10.1234</td>\n",
       "                        <td id=\"T_4e7dba8e_417b_11eb_a54f_acde48001122row0_col9\" class=\"data row0 col9\" >0.0160</td>\n",
       "            </tr>\n",
       "            <tr>\n",
       "                        <th id=\"T_4e7dba8e_417b_11eb_a54f_acde48001122level0_row1\" class=\"row_heading level0 row1\" >qda</th>\n",
       "                        <td id=\"T_4e7dba8e_417b_11eb_a54f_acde48001122row1_col0\" class=\"data row1 col0\" >Quadratic Discriminant Analysis</td>\n",
       "                        <td id=\"T_4e7dba8e_417b_11eb_a54f_acde48001122row1_col1\" class=\"data row1 col1\" >0.6102</td>\n",
       "                        <td id=\"T_4e7dba8e_417b_11eb_a54f_acde48001122row1_col2\" class=\"data row1 col2\" >0.6244</td>\n",
       "                        <td id=\"T_4e7dba8e_417b_11eb_a54f_acde48001122row1_col3\" class=\"data row1 col3\" >0.6548</td>\n",
       "                        <td id=\"T_4e7dba8e_417b_11eb_a54f_acde48001122row1_col4\" class=\"data row1 col4\" >0.3697</td>\n",
       "                        <td id=\"T_4e7dba8e_417b_11eb_a54f_acde48001122row1_col5\" class=\"data row1 col5\" >0.4717</td>\n",
       "                        <td id=\"T_4e7dba8e_417b_11eb_a54f_acde48001122row1_col6\" class=\"data row1 col6\" >0.2001</td>\n",
       "                        <td id=\"T_4e7dba8e_417b_11eb_a54f_acde48001122row1_col7\" class=\"data row1 col7\" >0.2210</td>\n",
       "                        <td id=\"T_4e7dba8e_417b_11eb_a54f_acde48001122row1_col8\" class=\"data row1 col8\" >13.4642</td>\n",
       "                        <td id=\"T_4e7dba8e_417b_11eb_a54f_acde48001122row1_col9\" class=\"data row1 col9\" >0.0440</td>\n",
       "            </tr>\n",
       "            <tr>\n",
       "                        <th id=\"T_4e7dba8e_417b_11eb_a54f_acde48001122level0_row2\" class=\"row_heading level0 row2\" >lda</th>\n",
       "                        <td id=\"T_4e7dba8e_417b_11eb_a54f_acde48001122row2_col0\" class=\"data row2 col0\" >Linear Discriminant Analysis</td>\n",
       "                        <td id=\"T_4e7dba8e_417b_11eb_a54f_acde48001122row2_col1\" class=\"data row2 col1\" >0.8107</td>\n",
       "                        <td id=\"T_4e7dba8e_417b_11eb_a54f_acde48001122row2_col2\" class=\"data row2 col2\" >0.8455</td>\n",
       "                        <td id=\"T_4e7dba8e_417b_11eb_a54f_acde48001122row2_col3\" class=\"data row2 col3\" >0.5493</td>\n",
       "                        <td id=\"T_4e7dba8e_417b_11eb_a54f_acde48001122row2_col4\" class=\"data row2 col4\" >0.6780</td>\n",
       "                        <td id=\"T_4e7dba8e_417b_11eb_a54f_acde48001122row2_col5\" class=\"data row2 col5\" >0.6067</td>\n",
       "                        <td id=\"T_4e7dba8e_417b_11eb_a54f_acde48001122row2_col6\" class=\"data row2 col6\" >0.4839</td>\n",
       "                        <td id=\"T_4e7dba8e_417b_11eb_a54f_acde48001122row2_col7\" class=\"data row2 col7\" >0.4887</td>\n",
       "                        <td id=\"T_4e7dba8e_417b_11eb_a54f_acde48001122row2_col8\" class=\"data row2 col8\" >6.5368</td>\n",
       "                        <td id=\"T_4e7dba8e_417b_11eb_a54f_acde48001122row2_col9\" class=\"data row2 col9\" >0.0280</td>\n",
       "            </tr>\n",
       "            <tr>\n",
       "                        <th id=\"T_4e7dba8e_417b_11eb_a54f_acde48001122level0_row3\" class=\"row_heading level0 row3\" >gbc</th>\n",
       "                        <td id=\"T_4e7dba8e_417b_11eb_a54f_acde48001122row3_col0\" class=\"data row3 col0\" >Gradient Boosting Classifier</td>\n",
       "                        <td id=\"T_4e7dba8e_417b_11eb_a54f_acde48001122row3_col1\" class=\"data row3 col1\" >0.8123</td>\n",
       "                        <td id=\"T_4e7dba8e_417b_11eb_a54f_acde48001122row3_col2\" class=\"data row3 col2\" >0.8496</td>\n",
       "                        <td id=\"T_4e7dba8e_417b_11eb_a54f_acde48001122row3_col3\" class=\"data row3 col3\" >0.5418</td>\n",
       "                        <td id=\"T_4e7dba8e_417b_11eb_a54f_acde48001122row3_col4\" class=\"data row3 col4\" >0.6861</td>\n",
       "                        <td id=\"T_4e7dba8e_417b_11eb_a54f_acde48001122row3_col5\" class=\"data row3 col5\" >0.6053</td>\n",
       "                        <td id=\"T_4e7dba8e_417b_11eb_a54f_acde48001122row3_col6\" class=\"data row3 col6\" >0.4843</td>\n",
       "                        <td id=\"T_4e7dba8e_417b_11eb_a54f_acde48001122row3_col7\" class=\"data row3 col7\" >0.4903</td>\n",
       "                        <td id=\"T_4e7dba8e_417b_11eb_a54f_acde48001122row3_col8\" class=\"data row3 col8\" >6.4831</td>\n",
       "                        <td id=\"T_4e7dba8e_417b_11eb_a54f_acde48001122row3_col9\" class=\"data row3 col9\" >0.6760</td>\n",
       "            </tr>\n",
       "            <tr>\n",
       "                        <th id=\"T_4e7dba8e_417b_11eb_a54f_acde48001122level0_row4\" class=\"row_heading level0 row4\" >ada</th>\n",
       "                        <td id=\"T_4e7dba8e_417b_11eb_a54f_acde48001122row4_col0\" class=\"data row4 col0\" >Ada Boost Classifier</td>\n",
       "                        <td id=\"T_4e7dba8e_417b_11eb_a54f_acde48001122row4_col1\" class=\"data row4 col1\" >0.8107</td>\n",
       "                        <td id=\"T_4e7dba8e_417b_11eb_a54f_acde48001122row4_col2\" class=\"data row4 col2\" >0.8498</td>\n",
       "                        <td id=\"T_4e7dba8e_417b_11eb_a54f_acde48001122row4_col3\" class=\"data row4 col3\" >0.5402</td>\n",
       "                        <td id=\"T_4e7dba8e_417b_11eb_a54f_acde48001122row4_col4\" class=\"data row4 col4\" >0.6840</td>\n",
       "                        <td id=\"T_4e7dba8e_417b_11eb_a54f_acde48001122row4_col5\" class=\"data row4 col5\" >0.6028</td>\n",
       "                        <td id=\"T_4e7dba8e_417b_11eb_a54f_acde48001122row4_col6\" class=\"data row4 col6\" >0.4808</td>\n",
       "                        <td id=\"T_4e7dba8e_417b_11eb_a54f_acde48001122row4_col7\" class=\"data row4 col7\" >0.4872</td>\n",
       "                        <td id=\"T_4e7dba8e_417b_11eb_a54f_acde48001122row4_col8\" class=\"data row4 col8\" >6.5368</td>\n",
       "                        <td id=\"T_4e7dba8e_417b_11eb_a54f_acde48001122row4_col9\" class=\"data row4 col9\" >0.2220</td>\n",
       "            </tr>\n",
       "            <tr>\n",
       "                        <th id=\"T_4e7dba8e_417b_11eb_a54f_acde48001122level0_row5\" class=\"row_heading level0 row5\" >lr</th>\n",
       "                        <td id=\"T_4e7dba8e_417b_11eb_a54f_acde48001122row5_col0\" class=\"data row5 col0\" >Logistic Regression</td>\n",
       "                        <td id=\"T_4e7dba8e_417b_11eb_a54f_acde48001122row5_col1\" class=\"data row5 col1\" >0.8063</td>\n",
       "                        <td id=\"T_4e7dba8e_417b_11eb_a54f_acde48001122row5_col2\" class=\"data row5 col2\" >0.8507</td>\n",
       "                        <td id=\"T_4e7dba8e_417b_11eb_a54f_acde48001122row5_col3\" class=\"data row5 col3\" >0.5376</td>\n",
       "                        <td id=\"T_4e7dba8e_417b_11eb_a54f_acde48001122row5_col4\" class=\"data row5 col4\" >0.6684</td>\n",
       "                        <td id=\"T_4e7dba8e_417b_11eb_a54f_acde48001122row5_col5\" class=\"data row5 col5\" >0.5957</td>\n",
       "                        <td id=\"T_4e7dba8e_417b_11eb_a54f_acde48001122row5_col6\" class=\"data row5 col6\" >0.4703</td>\n",
       "                        <td id=\"T_4e7dba8e_417b_11eb_a54f_acde48001122row5_col7\" class=\"data row5 col7\" >0.4753</td>\n",
       "                        <td id=\"T_4e7dba8e_417b_11eb_a54f_acde48001122row5_col8\" class=\"data row5 col8\" >6.6900</td>\n",
       "                        <td id=\"T_4e7dba8e_417b_11eb_a54f_acde48001122row5_col9\" class=\"data row5 col9\" >1.3160</td>\n",
       "            </tr>\n",
       "            <tr>\n",
       "                        <th id=\"T_4e7dba8e_417b_11eb_a54f_acde48001122level0_row6\" class=\"row_heading level0 row6\" >lightgbm</th>\n",
       "                        <td id=\"T_4e7dba8e_417b_11eb_a54f_acde48001122row6_col0\" class=\"data row6 col0\" >Light Gradient Boosting Machine</td>\n",
       "                        <td id=\"T_4e7dba8e_417b_11eb_a54f_acde48001122row6_col1\" class=\"data row6 col1\" >0.7959</td>\n",
       "                        <td id=\"T_4e7dba8e_417b_11eb_a54f_acde48001122row6_col2\" class=\"data row6 col2\" >0.8345</td>\n",
       "                        <td id=\"T_4e7dba8e_417b_11eb_a54f_acde48001122row6_col3\" class=\"data row6 col3\" >0.5326</td>\n",
       "                        <td id=\"T_4e7dba8e_417b_11eb_a54f_acde48001122row6_col4\" class=\"data row6 col4\" >0.6401</td>\n",
       "                        <td id=\"T_4e7dba8e_417b_11eb_a54f_acde48001122row6_col5\" class=\"data row6 col5\" >0.5808</td>\n",
       "                        <td id=\"T_4e7dba8e_417b_11eb_a54f_acde48001122row6_col6\" class=\"data row6 col6\" >0.4475</td>\n",
       "                        <td id=\"T_4e7dba8e_417b_11eb_a54f_acde48001122row6_col7\" class=\"data row6 col7\" >0.4512</td>\n",
       "                        <td id=\"T_4e7dba8e_417b_11eb_a54f_acde48001122row6_col8\" class=\"data row6 col8\" >7.0502</td>\n",
       "                        <td id=\"T_4e7dba8e_417b_11eb_a54f_acde48001122row6_col9\" class=\"data row6 col9\" >0.9700</td>\n",
       "            </tr>\n",
       "            <tr>\n",
       "                        <th id=\"T_4e7dba8e_417b_11eb_a54f_acde48001122level0_row7\" class=\"row_heading level0 row7\" >catboost</th>\n",
       "                        <td id=\"T_4e7dba8e_417b_11eb_a54f_acde48001122row7_col0\" class=\"data row7 col0\" >CatBoost Classifier</td>\n",
       "                        <td id=\"T_4e7dba8e_417b_11eb_a54f_acde48001122row7_col1\" class=\"data row7 col1\" >0.8028</td>\n",
       "                        <td id=\"T_4e7dba8e_417b_11eb_a54f_acde48001122row7_col2\" class=\"data row7 col2\" >0.8437</td>\n",
       "                        <td id=\"T_4e7dba8e_417b_11eb_a54f_acde48001122row7_col3\" class=\"data row7 col3\" >0.5318</td>\n",
       "                        <td id=\"T_4e7dba8e_417b_11eb_a54f_acde48001122row7_col4\" class=\"data row7 col4\" >0.6612</td>\n",
       "                        <td id=\"T_4e7dba8e_417b_11eb_a54f_acde48001122row7_col5\" class=\"data row7 col5\" >0.5888</td>\n",
       "                        <td id=\"T_4e7dba8e_417b_11eb_a54f_acde48001122row7_col6\" class=\"data row7 col6\" >0.4611</td>\n",
       "                        <td id=\"T_4e7dba8e_417b_11eb_a54f_acde48001122row7_col7\" class=\"data row7 col7\" >0.4663</td>\n",
       "                        <td id=\"T_4e7dba8e_417b_11eb_a54f_acde48001122row7_col8\" class=\"data row7 col8\" >6.8127</td>\n",
       "                        <td id=\"T_4e7dba8e_417b_11eb_a54f_acde48001122row7_col9\" class=\"data row7 col9\" >8.8400</td>\n",
       "            </tr>\n",
       "            <tr>\n",
       "                        <th id=\"T_4e7dba8e_417b_11eb_a54f_acde48001122level0_row8\" class=\"row_heading level0 row8\" >xgboost</th>\n",
       "                        <td id=\"T_4e7dba8e_417b_11eb_a54f_acde48001122row8_col0\" class=\"data row8 col0\" >Extreme Gradient Boosting</td>\n",
       "                        <td id=\"T_4e7dba8e_417b_11eb_a54f_acde48001122row8_col1\" class=\"data row8 col1\" >0.7854</td>\n",
       "                        <td id=\"T_4e7dba8e_417b_11eb_a54f_acde48001122row8_col2\" class=\"data row8 col2\" >0.8250</td>\n",
       "                        <td id=\"T_4e7dba8e_417b_11eb_a54f_acde48001122row8_col3\" class=\"data row8 col3\" >0.5301</td>\n",
       "                        <td id=\"T_4e7dba8e_417b_11eb_a54f_acde48001122row8_col4\" class=\"data row8 col4\" >0.6106</td>\n",
       "                        <td id=\"T_4e7dba8e_417b_11eb_a54f_acde48001122row8_col5\" class=\"data row8 col5\" >0.5672</td>\n",
       "                        <td id=\"T_4e7dba8e_417b_11eb_a54f_acde48001122row8_col6\" class=\"data row8 col6\" >0.4256</td>\n",
       "                        <td id=\"T_4e7dba8e_417b_11eb_a54f_acde48001122row8_col7\" class=\"data row8 col7\" >0.4276</td>\n",
       "                        <td id=\"T_4e7dba8e_417b_11eb_a54f_acde48001122row8_col8\" class=\"data row8 col8\" >7.4104</td>\n",
       "                        <td id=\"T_4e7dba8e_417b_11eb_a54f_acde48001122row8_col9\" class=\"data row8 col9\" >1.1940</td>\n",
       "            </tr>\n",
       "            <tr>\n",
       "                        <th id=\"T_4e7dba8e_417b_11eb_a54f_acde48001122level0_row9\" class=\"row_heading level0 row9\" >rf</th>\n",
       "                        <td id=\"T_4e7dba8e_417b_11eb_a54f_acde48001122row9_col0\" class=\"data row9 col0\" >Random Forest Classifier</td>\n",
       "                        <td id=\"T_4e7dba8e_417b_11eb_a54f_acde48001122row9_col1\" class=\"data row9 col1\" >0.7972</td>\n",
       "                        <td id=\"T_4e7dba8e_417b_11eb_a54f_acde48001122row9_col2\" class=\"data row9 col2\" >0.8258</td>\n",
       "                        <td id=\"T_4e7dba8e_417b_11eb_a54f_acde48001122row9_col3\" class=\"data row9 col3\" >0.5109</td>\n",
       "                        <td id=\"T_4e7dba8e_417b_11eb_a54f_acde48001122row9_col4\" class=\"data row9 col4\" >0.6512</td>\n",
       "                        <td id=\"T_4e7dba8e_417b_11eb_a54f_acde48001122row9_col5\" class=\"data row9 col5\" >0.5723</td>\n",
       "                        <td id=\"T_4e7dba8e_417b_11eb_a54f_acde48001122row9_col6\" class=\"data row9 col6\" >0.4419</td>\n",
       "                        <td id=\"T_4e7dba8e_417b_11eb_a54f_acde48001122row9_col7\" class=\"data row9 col7\" >0.4477</td>\n",
       "                        <td id=\"T_4e7dba8e_417b_11eb_a54f_acde48001122row9_col8\" class=\"data row9 col8\" >7.0041</td>\n",
       "                        <td id=\"T_4e7dba8e_417b_11eb_a54f_acde48001122row9_col9\" class=\"data row9 col9\" >0.2640</td>\n",
       "            </tr>\n",
       "            <tr>\n",
       "                        <th id=\"T_4e7dba8e_417b_11eb_a54f_acde48001122level0_row10\" class=\"row_heading level0 row10\" >et</th>\n",
       "                        <td id=\"T_4e7dba8e_417b_11eb_a54f_acde48001122row10_col0\" class=\"data row10 col0\" >Extra Trees Classifier</td>\n",
       "                        <td id=\"T_4e7dba8e_417b_11eb_a54f_acde48001122row10_col1\" class=\"data row10 col1\" >0.7779</td>\n",
       "                        <td id=\"T_4e7dba8e_417b_11eb_a54f_acde48001122row10_col2\" class=\"data row10 col2\" >0.8017</td>\n",
       "                        <td id=\"T_4e7dba8e_417b_11eb_a54f_acde48001122row10_col3\" class=\"data row10 col3\" >0.5076</td>\n",
       "                        <td id=\"T_4e7dba8e_417b_11eb_a54f_acde48001122row10_col4\" class=\"data row10 col4\" >0.5968</td>\n",
       "                        <td id=\"T_4e7dba8e_417b_11eb_a54f_acde48001122row10_col5\" class=\"data row10 col5\" >0.5483</td>\n",
       "                        <td id=\"T_4e7dba8e_417b_11eb_a54f_acde48001122row10_col6\" class=\"data row10 col6\" >0.4024</td>\n",
       "                        <td id=\"T_4e7dba8e_417b_11eb_a54f_acde48001122row10_col7\" class=\"data row10 col7\" >0.4048</td>\n",
       "                        <td id=\"T_4e7dba8e_417b_11eb_a54f_acde48001122row10_col8\" class=\"data row10 col8\" >7.6709</td>\n",
       "                        <td id=\"T_4e7dba8e_417b_11eb_a54f_acde48001122row10_col9\" class=\"data row10 col9\" >0.3120</td>\n",
       "            </tr>\n",
       "            <tr>\n",
       "                        <th id=\"T_4e7dba8e_417b_11eb_a54f_acde48001122level0_row11\" class=\"row_heading level0 row11\" >dt</th>\n",
       "                        <td id=\"T_4e7dba8e_417b_11eb_a54f_acde48001122row11_col0\" class=\"data row11 col0\" >Decision Tree Classifier</td>\n",
       "                        <td id=\"T_4e7dba8e_417b_11eb_a54f_acde48001122row11_col1\" class=\"data row11 col1\" >0.7362</td>\n",
       "                        <td id=\"T_4e7dba8e_417b_11eb_a54f_acde48001122row11_col2\" class=\"data row11 col2\" >0.6644</td>\n",
       "                        <td id=\"T_4e7dba8e_417b_11eb_a54f_acde48001122row11_col3\" class=\"data row11 col3\" >0.5059</td>\n",
       "                        <td id=\"T_4e7dba8e_417b_11eb_a54f_acde48001122row11_col4\" class=\"data row11 col4\" >0.5054</td>\n",
       "                        <td id=\"T_4e7dba8e_417b_11eb_a54f_acde48001122row11_col5\" class=\"data row11 col5\" >0.5050</td>\n",
       "                        <td id=\"T_4e7dba8e_417b_11eb_a54f_acde48001122row11_col6\" class=\"data row11 col6\" >0.3254</td>\n",
       "                        <td id=\"T_4e7dba8e_417b_11eb_a54f_acde48001122row11_col7\" class=\"data row11 col7\" >0.3258</td>\n",
       "                        <td id=\"T_4e7dba8e_417b_11eb_a54f_acde48001122row11_col8\" class=\"data row11 col8\" >9.1116</td>\n",
       "                        <td id=\"T_4e7dba8e_417b_11eb_a54f_acde48001122row11_col9\" class=\"data row11 col9\" >0.0620</td>\n",
       "            </tr>\n",
       "            <tr>\n",
       "                        <th id=\"T_4e7dba8e_417b_11eb_a54f_acde48001122level0_row12\" class=\"row_heading level0 row12\" >ridge</th>\n",
       "                        <td id=\"T_4e7dba8e_417b_11eb_a54f_acde48001122row12_col0\" class=\"data row12 col0\" >Ridge Classifier</td>\n",
       "                        <td id=\"T_4e7dba8e_417b_11eb_a54f_acde48001122row12_col1\" class=\"data row12 col1\" >0.8087</td>\n",
       "                        <td id=\"T_4e7dba8e_417b_11eb_a54f_acde48001122row12_col2\" class=\"data row12 col2\" >0.0000</td>\n",
       "                        <td id=\"T_4e7dba8e_417b_11eb_a54f_acde48001122row12_col3\" class=\"data row12 col3\" >0.5042</td>\n",
       "                        <td id=\"T_4e7dba8e_417b_11eb_a54f_acde48001122row12_col4\" class=\"data row12 col4\" >0.6940</td>\n",
       "                        <td id=\"T_4e7dba8e_417b_11eb_a54f_acde48001122row12_col5\" class=\"data row12 col5\" >0.5837</td>\n",
       "                        <td id=\"T_4e7dba8e_417b_11eb_a54f_acde48001122row12_col6\" class=\"data row12 col6\" >0.4635</td>\n",
       "                        <td id=\"T_4e7dba8e_417b_11eb_a54f_acde48001122row12_col7\" class=\"data row12 col7\" >0.4737</td>\n",
       "                        <td id=\"T_4e7dba8e_417b_11eb_a54f_acde48001122row12_col8\" class=\"data row12 col8\" >6.6057</td>\n",
       "                        <td id=\"T_4e7dba8e_417b_11eb_a54f_acde48001122row12_col9\" class=\"data row12 col9\" >0.0360</td>\n",
       "            </tr>\n",
       "            <tr>\n",
       "                        <th id=\"T_4e7dba8e_417b_11eb_a54f_acde48001122level0_row13\" class=\"row_heading level0 row13\" >knn</th>\n",
       "                        <td id=\"T_4e7dba8e_417b_11eb_a54f_acde48001122row13_col0\" class=\"data row13 col0\" >K Neighbors Classifier</td>\n",
       "                        <td id=\"T_4e7dba8e_417b_11eb_a54f_acde48001122row13_col1\" class=\"data row13 col1\" >0.7752</td>\n",
       "                        <td id=\"T_4e7dba8e_417b_11eb_a54f_acde48001122row13_col2\" class=\"data row13 col2\" >0.7729</td>\n",
       "                        <td id=\"T_4e7dba8e_417b_11eb_a54f_acde48001122row13_col3\" class=\"data row13 col3\" >0.4624</td>\n",
       "                        <td id=\"T_4e7dba8e_417b_11eb_a54f_acde48001122row13_col4\" class=\"data row13 col4\" >0.5993</td>\n",
       "                        <td id=\"T_4e7dba8e_417b_11eb_a54f_acde48001122row13_col5\" class=\"data row13 col5\" >0.5216</td>\n",
       "                        <td id=\"T_4e7dba8e_417b_11eb_a54f_acde48001122row13_col6\" class=\"data row13 col6\" >0.3781</td>\n",
       "                        <td id=\"T_4e7dba8e_417b_11eb_a54f_acde48001122row13_col7\" class=\"data row13 col7\" >0.3837</td>\n",
       "                        <td id=\"T_4e7dba8e_417b_11eb_a54f_acde48001122row13_col8\" class=\"data row13 col8\" >7.7630</td>\n",
       "                        <td id=\"T_4e7dba8e_417b_11eb_a54f_acde48001122row13_col9\" class=\"data row13 col9\" >0.0780</td>\n",
       "            </tr>\n",
       "            <tr>\n",
       "                        <th id=\"T_4e7dba8e_417b_11eb_a54f_acde48001122level0_row14\" class=\"row_heading level0 row14\" >svm</th>\n",
       "                        <td id=\"T_4e7dba8e_417b_11eb_a54f_acde48001122row14_col0\" class=\"data row14 col0\" >SVM - Linear Kernel</td>\n",
       "                        <td id=\"T_4e7dba8e_417b_11eb_a54f_acde48001122row14_col1\" class=\"data row14 col1\" >0.7307</td>\n",
       "                        <td id=\"T_4e7dba8e_417b_11eb_a54f_acde48001122row14_col2\" class=\"data row14 col2\" >0.0000</td>\n",
       "                        <td id=\"T_4e7dba8e_417b_11eb_a54f_acde48001122row14_col3\" class=\"data row14 col3\" >0.3277</td>\n",
       "                        <td id=\"T_4e7dba8e_417b_11eb_a54f_acde48001122row14_col4\" class=\"data row14 col4\" >0.5969</td>\n",
       "                        <td id=\"T_4e7dba8e_417b_11eb_a54f_acde48001122row14_col5\" class=\"data row14 col5\" >0.3813</td>\n",
       "                        <td id=\"T_4e7dba8e_417b_11eb_a54f_acde48001122row14_col6\" class=\"data row14 col6\" >0.2308</td>\n",
       "                        <td id=\"T_4e7dba8e_417b_11eb_a54f_acde48001122row14_col7\" class=\"data row14 col7\" >0.2614</td>\n",
       "                        <td id=\"T_4e7dba8e_417b_11eb_a54f_acde48001122row14_col8\" class=\"data row14 col8\" >9.3025</td>\n",
       "                        <td id=\"T_4e7dba8e_417b_11eb_a54f_acde48001122row14_col9\" class=\"data row14 col9\" >0.0700</td>\n",
       "            </tr>\n",
       "    </tbody></table>"
      ],
      "text/plain": [
       "<pandas.io.formats.style.Styler at 0x7f91012c73a0>"
      ]
     },
     "metadata": {},
     "output_type": "display_data"
    }
   ],
   "source": [
    "best = pyc.compare_models(sort = 'Recall',fold=5)"
   ]
  },
  {
   "cell_type": "code",
   "execution_count": 20,
   "metadata": {
    "ExecuteTime": {
     "end_time": "2020-12-18T21:52:21.910332Z",
     "start_time": "2020-12-18T21:52:21.889864Z"
    }
   },
   "outputs": [],
   "source": [
    "# pyc.get_logs() # only works if we set log expt as true"
   ]
  },
  {
   "cell_type": "markdown",
   "metadata": {
    "ExecuteTime": {
     "end_time": "2020-12-16T23:46:04.144883Z",
     "start_time": "2020-12-16T23:46:04.108228Z"
    }
   },
   "source": [
    "<a id=\"\" ></a>\n",
    "\n",
    "<h1>  Create Models </h1> \n",
    "\n",
    "<a href=\"#top\" class=\"btn btn-primary btn-sm\" role=\"button\" aria-pressed=\"true\" style=\"color:white\" data-toggle=\"popover\" title=\"go to TOC\">Go to Top</a>\n",
    "\n",
    "```\n",
    "Estimator                   Abbreviated String     Original Implementation \n",
    "---------                   ------------------     -------------------------------\n",
    "Logistic Regression         'lr'                   linear_model.LogisticRegression\n",
    "K Nearest Neighbour         'knn'                  neighbors.KNeighborsClassifier\n",
    "Naives Bayes                'nb'                   naive_bayes.GaussianNB\n",
    "Decision Tree               'dt'                   tree.DecisionTreeClassifier\n",
    "SVM (Linear)                'svm'                  linear_model.SGDClassifier\n",
    "SVM (RBF)                   'rbfsvm'               svm.SVC\n",
    "Gaussian Process            'gpc'                  gaussian_process.GPC\n",
    "Multi Level Perceptron      'mlp'                  neural_network.MLPClassifier\n",
    "Ridge Classifier            'ridge'                linear_model.RidgeClassifier\n",
    "Random Forest               'rf'                   ensemble.RandomForestClassifier\n",
    "Quadratic Disc. Analysis    'qda'                  discriminant_analysis.QDA\n",
    "AdaBoost                    'ada'                  ensemble.AdaBoostClassifier\n",
    "Gradient Boosting           'gbc'                  ensemble.GradientBoostingClassifier\n",
    "Linear Disc. Analysis       'lda'                  discriminant_analysis.LDA\n",
    "Extra Trees Classifier      'et'                   ensemble.ExtraTreesClassifier\n",
    "Extreme Gradient Boosting   'xgboost'              xgboost.readthedocs.io\n",
    "Light Gradient Boosting     'lightgbm'             github.com/microsoft/LightGBM\n",
    "CatBoost Classifier         'catboost'             https://catboost.ai\n",
    "```\n",
    "\n",
    "```python\n",
    "pyc.create_model(\n",
    "    estimator,\n",
    "    fold             = None,\n",
    "    round            = 4,\n",
    "    cross_validation = True,\n",
    "    fit_kwargs       = None,\n",
    "    groups           = None,\n",
    "    verbose          = True,\n",
    "    **kwargs,\n",
    ")\n",
    "```"
   ]
  },
  {
   "cell_type": "code",
   "execution_count": 21,
   "metadata": {
    "ExecuteTime": {
     "end_time": "2020-12-18T21:52:26.089815Z",
     "start_time": "2020-12-18T21:52:21.922361Z"
    }
   },
   "outputs": [
    {
     "data": {
      "text/html": [
       "<style  type=\"text/css\" >\n",
       "    #T_5102cede_417b_11eb_a54f_acde48001122row0_col4 {\n",
       "            background:  tomato;\n",
       "        }</style><table id=\"T_5102cede_417b_11eb_a54f_acde48001122\" ><thead>    <tr>        <th class=\"blank level0\" ></th>        <th class=\"col_heading level0 col0\" >Model</th>        <th class=\"col_heading level0 col1\" >Description</th>        <th class=\"col_heading level0 col2\" >Accuracy</th>        <th class=\"col_heading level0 col3\" >AUC</th>        <th class=\"col_heading level0 col4\" >Recall</th>        <th class=\"col_heading level0 col5\" >Precision</th>        <th class=\"col_heading level0 col6\" >F1</th>        <th class=\"col_heading level0 col7\" >Kappa</th>        <th class=\"col_heading level0 col8\" >MCC</th>        <th class=\"col_heading level0 col9\" >LogLoss</th>    </tr></thead><tbody>\n",
       "                <tr>\n",
       "                        <th id=\"T_5102cede_417b_11eb_a54f_acde48001122level0_row0\" class=\"row_heading level0 row0\" >0</th>\n",
       "                        <td id=\"T_5102cede_417b_11eb_a54f_acde48001122row0_col0\" class=\"data row0 col0\" >lr</td>\n",
       "                        <td id=\"T_5102cede_417b_11eb_a54f_acde48001122row0_col1\" class=\"data row0 col1\" >default</td>\n",
       "                        <td id=\"T_5102cede_417b_11eb_a54f_acde48001122row0_col2\" class=\"data row0 col2\" >0.805600</td>\n",
       "                        <td id=\"T_5102cede_417b_11eb_a54f_acde48001122row0_col3\" class=\"data row0 col3\" >0.849100</td>\n",
       "                        <td id=\"T_5102cede_417b_11eb_a54f_acde48001122row0_col4\" class=\"data row0 col4\" >0.531800</td>\n",
       "                        <td id=\"T_5102cede_417b_11eb_a54f_acde48001122row0_col5\" class=\"data row0 col5\" >0.669900</td>\n",
       "                        <td id=\"T_5102cede_417b_11eb_a54f_acde48001122row0_col6\" class=\"data row0 col6\" >0.592200</td>\n",
       "                        <td id=\"T_5102cede_417b_11eb_a54f_acde48001122row0_col7\" class=\"data row0 col7\" >0.466900</td>\n",
       "                        <td id=\"T_5102cede_417b_11eb_a54f_acde48001122row0_col8\" class=\"data row0 col8\" >0.472700</td>\n",
       "                        <td id=\"T_5102cede_417b_11eb_a54f_acde48001122row0_col9\" class=\"data row0 col9\" >6.713100</td>\n",
       "            </tr>\n",
       "    </tbody></table>"
      ],
      "text/plain": [
       "<pandas.io.formats.style.Styler at 0x7f9100ce7d90>"
      ]
     },
     "metadata": {},
     "output_type": "display_data"
    }
   ],
   "source": [
    "model_name = 'lr'\n",
    "lr = pyc.create_model(model_name,verbose=False)\n",
    "mean_row = pyc.pull().loc['Mean']\n",
    "df_eval = compare_new_models('lr','default',mean_row,sort='Recall',df_eval=None)"
   ]
  },
  {
   "cell_type": "code",
   "execution_count": 22,
   "metadata": {
    "ExecuteTime": {
     "end_time": "2020-12-18T21:53:13.135128Z",
     "start_time": "2020-12-18T21:52:26.115461Z"
    }
   },
   "outputs": [
    {
     "data": {
      "text/html": [
       "<style  type=\"text/css\" >\n",
       "    #T_6d0cc9cc_417b_11eb_a54f_acde48001122row0_col4 {\n",
       "            background:  tomato;\n",
       "        }    #T_6d0cc9cc_417b_11eb_a54f_acde48001122row1_col4 {\n",
       "            background:  tomato;\n",
       "        }</style><table id=\"T_6d0cc9cc_417b_11eb_a54f_acde48001122\" ><thead>    <tr>        <th class=\"blank level0\" ></th>        <th class=\"col_heading level0 col0\" >Model</th>        <th class=\"col_heading level0 col1\" >Description</th>        <th class=\"col_heading level0 col2\" >Accuracy</th>        <th class=\"col_heading level0 col3\" >AUC</th>        <th class=\"col_heading level0 col4\" >Recall</th>        <th class=\"col_heading level0 col5\" >Precision</th>        <th class=\"col_heading level0 col6\" >F1</th>        <th class=\"col_heading level0 col7\" >Kappa</th>        <th class=\"col_heading level0 col8\" >MCC</th>        <th class=\"col_heading level0 col9\" >LogLoss</th>    </tr></thead><tbody>\n",
       "                <tr>\n",
       "                        <th id=\"T_6d0cc9cc_417b_11eb_a54f_acde48001122level0_row0\" class=\"row_heading level0 row0\" >0</th>\n",
       "                        <td id=\"T_6d0cc9cc_417b_11eb_a54f_acde48001122row0_col0\" class=\"data row0 col0\" >lr</td>\n",
       "                        <td id=\"T_6d0cc9cc_417b_11eb_a54f_acde48001122row0_col1\" class=\"data row0 col1\" >default</td>\n",
       "                        <td id=\"T_6d0cc9cc_417b_11eb_a54f_acde48001122row0_col2\" class=\"data row0 col2\" >0.805600</td>\n",
       "                        <td id=\"T_6d0cc9cc_417b_11eb_a54f_acde48001122row0_col3\" class=\"data row0 col3\" >0.849100</td>\n",
       "                        <td id=\"T_6d0cc9cc_417b_11eb_a54f_acde48001122row0_col4\" class=\"data row0 col4\" >0.531800</td>\n",
       "                        <td id=\"T_6d0cc9cc_417b_11eb_a54f_acde48001122row0_col5\" class=\"data row0 col5\" >0.669900</td>\n",
       "                        <td id=\"T_6d0cc9cc_417b_11eb_a54f_acde48001122row0_col6\" class=\"data row0 col6\" >0.592200</td>\n",
       "                        <td id=\"T_6d0cc9cc_417b_11eb_a54f_acde48001122row0_col7\" class=\"data row0 col7\" >0.466900</td>\n",
       "                        <td id=\"T_6d0cc9cc_417b_11eb_a54f_acde48001122row0_col8\" class=\"data row0 col8\" >0.472700</td>\n",
       "                        <td id=\"T_6d0cc9cc_417b_11eb_a54f_acde48001122row0_col9\" class=\"data row0 col9\" >6.713100</td>\n",
       "            </tr>\n",
       "            <tr>\n",
       "                        <th id=\"T_6d0cc9cc_417b_11eb_a54f_acde48001122level0_row1\" class=\"row_heading level0 row1\" >1</th>\n",
       "                        <td id=\"T_6d0cc9cc_417b_11eb_a54f_acde48001122row1_col0\" class=\"data row1 col0\" >xgboost</td>\n",
       "                        <td id=\"T_6d0cc9cc_417b_11eb_a54f_acde48001122row1_col1\" class=\"data row1 col1\" >default</td>\n",
       "                        <td id=\"T_6d0cc9cc_417b_11eb_a54f_acde48001122row1_col2\" class=\"data row1 col2\" >0.788600</td>\n",
       "                        <td id=\"T_6d0cc9cc_417b_11eb_a54f_acde48001122row1_col3\" class=\"data row1 col3\" >0.826500</td>\n",
       "                        <td id=\"T_6d0cc9cc_417b_11eb_a54f_acde48001122row1_col4\" class=\"data row1 col4\" >0.518500</td>\n",
       "                        <td id=\"T_6d0cc9cc_417b_11eb_a54f_acde48001122row1_col5\" class=\"data row1 col5\" >0.621700</td>\n",
       "                        <td id=\"T_6d0cc9cc_417b_11eb_a54f_acde48001122row1_col6\" class=\"data row1 col6\" >0.565100</td>\n",
       "                        <td id=\"T_6d0cc9cc_417b_11eb_a54f_acde48001122row1_col7\" class=\"data row1 col7\" >0.427000</td>\n",
       "                        <td id=\"T_6d0cc9cc_417b_11eb_a54f_acde48001122row1_col8\" class=\"data row1 col8\" >0.430300</td>\n",
       "                        <td id=\"T_6d0cc9cc_417b_11eb_a54f_acde48001122row1_col9\" class=\"data row1 col9\" >7.303000</td>\n",
       "            </tr>\n",
       "    </tbody></table>"
      ],
      "text/plain": [
       "<pandas.io.formats.style.Styler at 0x7f9100cef850>"
      ]
     },
     "metadata": {},
     "output_type": "display_data"
    }
   ],
   "source": [
    "model_name = 'xgboost'\n",
    "xgb = pyc.create_model(model_name,verbose=False)\n",
    "mean_row = pyc.pull().loc['Mean']\n",
    "df_eval = compare_new_models(model_name,'default',mean_row,sort='Recall',df_eval=df_eval)"
   ]
  },
  {
   "cell_type": "code",
   "execution_count": 23,
   "metadata": {
    "ExecuteTime": {
     "end_time": "2020-12-18T21:53:40.350031Z",
     "start_time": "2020-12-18T21:53:13.141519Z"
    }
   },
   "outputs": [
    {
     "data": {
      "text/html": [
       "<style  type=\"text/css\" >\n",
       "    #T_7d4367ba_417b_11eb_a54f_acde48001122row0_col4 {\n",
       "            background:  tomato;\n",
       "        }    #T_7d4367ba_417b_11eb_a54f_acde48001122row1_col4 {\n",
       "            background:  tomato;\n",
       "        }    #T_7d4367ba_417b_11eb_a54f_acde48001122row2_col4 {\n",
       "            background:  tomato;\n",
       "        }</style><table id=\"T_7d4367ba_417b_11eb_a54f_acde48001122\" ><thead>    <tr>        <th class=\"blank level0\" ></th>        <th class=\"col_heading level0 col0\" >Model</th>        <th class=\"col_heading level0 col1\" >Description</th>        <th class=\"col_heading level0 col2\" >Accuracy</th>        <th class=\"col_heading level0 col3\" >AUC</th>        <th class=\"col_heading level0 col4\" >Recall</th>        <th class=\"col_heading level0 col5\" >Precision</th>        <th class=\"col_heading level0 col6\" >F1</th>        <th class=\"col_heading level0 col7\" >Kappa</th>        <th class=\"col_heading level0 col8\" >MCC</th>        <th class=\"col_heading level0 col9\" >LogLoss</th>    </tr></thead><tbody>\n",
       "                <tr>\n",
       "                        <th id=\"T_7d4367ba_417b_11eb_a54f_acde48001122level0_row0\" class=\"row_heading level0 row0\" >0</th>\n",
       "                        <td id=\"T_7d4367ba_417b_11eb_a54f_acde48001122row0_col0\" class=\"data row0 col0\" >lr</td>\n",
       "                        <td id=\"T_7d4367ba_417b_11eb_a54f_acde48001122row0_col1\" class=\"data row0 col1\" >default</td>\n",
       "                        <td id=\"T_7d4367ba_417b_11eb_a54f_acde48001122row0_col2\" class=\"data row0 col2\" >0.805600</td>\n",
       "                        <td id=\"T_7d4367ba_417b_11eb_a54f_acde48001122row0_col3\" class=\"data row0 col3\" >0.849100</td>\n",
       "                        <td id=\"T_7d4367ba_417b_11eb_a54f_acde48001122row0_col4\" class=\"data row0 col4\" >0.531800</td>\n",
       "                        <td id=\"T_7d4367ba_417b_11eb_a54f_acde48001122row0_col5\" class=\"data row0 col5\" >0.669900</td>\n",
       "                        <td id=\"T_7d4367ba_417b_11eb_a54f_acde48001122row0_col6\" class=\"data row0 col6\" >0.592200</td>\n",
       "                        <td id=\"T_7d4367ba_417b_11eb_a54f_acde48001122row0_col7\" class=\"data row0 col7\" >0.466900</td>\n",
       "                        <td id=\"T_7d4367ba_417b_11eb_a54f_acde48001122row0_col8\" class=\"data row0 col8\" >0.472700</td>\n",
       "                        <td id=\"T_7d4367ba_417b_11eb_a54f_acde48001122row0_col9\" class=\"data row0 col9\" >6.713100</td>\n",
       "            </tr>\n",
       "            <tr>\n",
       "                        <th id=\"T_7d4367ba_417b_11eb_a54f_acde48001122level0_row1\" class=\"row_heading level0 row1\" >1</th>\n",
       "                        <td id=\"T_7d4367ba_417b_11eb_a54f_acde48001122row1_col0\" class=\"data row1 col0\" >lightgbm</td>\n",
       "                        <td id=\"T_7d4367ba_417b_11eb_a54f_acde48001122row1_col1\" class=\"data row1 col1\" >default</td>\n",
       "                        <td id=\"T_7d4367ba_417b_11eb_a54f_acde48001122row1_col2\" class=\"data row1 col2\" >0.792800</td>\n",
       "                        <td id=\"T_7d4367ba_417b_11eb_a54f_acde48001122row1_col3\" class=\"data row1 col3\" >0.835600</td>\n",
       "                        <td id=\"T_7d4367ba_417b_11eb_a54f_acde48001122row1_col4\" class=\"data row1 col4\" >0.527700</td>\n",
       "                        <td id=\"T_7d4367ba_417b_11eb_a54f_acde48001122row1_col5\" class=\"data row1 col5\" >0.631300</td>\n",
       "                        <td id=\"T_7d4367ba_417b_11eb_a54f_acde48001122row1_col6\" class=\"data row1 col6\" >0.574200</td>\n",
       "                        <td id=\"T_7d4367ba_417b_11eb_a54f_acde48001122row1_col7\" class=\"data row1 col7\" >0.438900</td>\n",
       "                        <td id=\"T_7d4367ba_417b_11eb_a54f_acde48001122row1_col8\" class=\"data row1 col8\" >0.442400</td>\n",
       "                        <td id=\"T_7d4367ba_417b_11eb_a54f_acde48001122row1_col9\" class=\"data row1 col9\" >7.157400</td>\n",
       "            </tr>\n",
       "            <tr>\n",
       "                        <th id=\"T_7d4367ba_417b_11eb_a54f_acde48001122level0_row2\" class=\"row_heading level0 row2\" >2</th>\n",
       "                        <td id=\"T_7d4367ba_417b_11eb_a54f_acde48001122row2_col0\" class=\"data row2 col0\" >xgboost</td>\n",
       "                        <td id=\"T_7d4367ba_417b_11eb_a54f_acde48001122row2_col1\" class=\"data row2 col1\" >default</td>\n",
       "                        <td id=\"T_7d4367ba_417b_11eb_a54f_acde48001122row2_col2\" class=\"data row2 col2\" >0.788600</td>\n",
       "                        <td id=\"T_7d4367ba_417b_11eb_a54f_acde48001122row2_col3\" class=\"data row2 col3\" >0.826500</td>\n",
       "                        <td id=\"T_7d4367ba_417b_11eb_a54f_acde48001122row2_col4\" class=\"data row2 col4\" >0.518500</td>\n",
       "                        <td id=\"T_7d4367ba_417b_11eb_a54f_acde48001122row2_col5\" class=\"data row2 col5\" >0.621700</td>\n",
       "                        <td id=\"T_7d4367ba_417b_11eb_a54f_acde48001122row2_col6\" class=\"data row2 col6\" >0.565100</td>\n",
       "                        <td id=\"T_7d4367ba_417b_11eb_a54f_acde48001122row2_col7\" class=\"data row2 col7\" >0.427000</td>\n",
       "                        <td id=\"T_7d4367ba_417b_11eb_a54f_acde48001122row2_col8\" class=\"data row2 col8\" >0.430300</td>\n",
       "                        <td id=\"T_7d4367ba_417b_11eb_a54f_acde48001122row2_col9\" class=\"data row2 col9\" >7.303000</td>\n",
       "            </tr>\n",
       "    </tbody></table>"
      ],
      "text/plain": [
       "<pandas.io.formats.style.Styler at 0x7f9100e1b2b0>"
      ]
     },
     "metadata": {},
     "output_type": "display_data"
    }
   ],
   "source": [
    "model_name = 'lightgbm'\n",
    "lgb = pyc.create_model(model_name,verbose=False)\n",
    "\n",
    "mean_row = pyc.pull().loc['Mean']\n",
    "df_eval = compare_new_models(model_name,'default',mean_row,sort='Recall',df_eval=df_eval)"
   ]
  },
  {
   "cell_type": "code",
   "execution_count": 24,
   "metadata": {
    "ExecuteTime": {
     "end_time": "2020-12-18T21:53:41.143235Z",
     "start_time": "2020-12-18T21:53:40.391290Z"
    }
   },
   "outputs": [
    {
     "data": {
      "text/html": [
       "<style  type=\"text/css\" >\n",
       "    #T_7dbd67cc_417b_11eb_a54f_acde48001122row0_col4 {\n",
       "            background:  tomato;\n",
       "        }    #T_7dbd67cc_417b_11eb_a54f_acde48001122row1_col4 {\n",
       "            background:  tomato;\n",
       "        }    #T_7dbd67cc_417b_11eb_a54f_acde48001122row2_col4 {\n",
       "            background:  tomato;\n",
       "        }    #T_7dbd67cc_417b_11eb_a54f_acde48001122row3_col4 {\n",
       "            background:  tomato;\n",
       "        }</style><table id=\"T_7dbd67cc_417b_11eb_a54f_acde48001122\" ><thead>    <tr>        <th class=\"blank level0\" ></th>        <th class=\"col_heading level0 col0\" >Model</th>        <th class=\"col_heading level0 col1\" >Description</th>        <th class=\"col_heading level0 col2\" >Accuracy</th>        <th class=\"col_heading level0 col3\" >AUC</th>        <th class=\"col_heading level0 col4\" >Recall</th>        <th class=\"col_heading level0 col5\" >Precision</th>        <th class=\"col_heading level0 col6\" >F1</th>        <th class=\"col_heading level0 col7\" >Kappa</th>        <th class=\"col_heading level0 col8\" >MCC</th>        <th class=\"col_heading level0 col9\" >LogLoss</th>    </tr></thead><tbody>\n",
       "                <tr>\n",
       "                        <th id=\"T_7dbd67cc_417b_11eb_a54f_acde48001122level0_row0\" class=\"row_heading level0 row0\" >0</th>\n",
       "                        <td id=\"T_7dbd67cc_417b_11eb_a54f_acde48001122row0_col0\" class=\"data row0 col0\" >nb</td>\n",
       "                        <td id=\"T_7dbd67cc_417b_11eb_a54f_acde48001122row0_col1\" class=\"data row0 col1\" >default</td>\n",
       "                        <td id=\"T_7dbd67cc_417b_11eb_a54f_acde48001122row0_col2\" class=\"data row0 col2\" >0.706000</td>\n",
       "                        <td id=\"T_7dbd67cc_417b_11eb_a54f_acde48001122row0_col3\" class=\"data row0 col3\" >0.824100</td>\n",
       "                        <td id=\"T_7dbd67cc_417b_11eb_a54f_acde48001122row0_col4\" class=\"data row0 col4\" >0.833600</td>\n",
       "                        <td id=\"T_7dbd67cc_417b_11eb_a54f_acde48001122row0_col5\" class=\"data row0 col5\" >0.471200</td>\n",
       "                        <td id=\"T_7dbd67cc_417b_11eb_a54f_acde48001122row0_col6\" class=\"data row0 col6\" >0.601600</td>\n",
       "                        <td id=\"T_7dbd67cc_417b_11eb_a54f_acde48001122row0_col7\" class=\"data row0 col7\" >0.396700</td>\n",
       "                        <td id=\"T_7dbd67cc_417b_11eb_a54f_acde48001122row0_col8\" class=\"data row0 col8\" >0.437300</td>\n",
       "                        <td id=\"T_7dbd67cc_417b_11eb_a54f_acde48001122row0_col9\" class=\"data row0 col9\" >10.154100</td>\n",
       "            </tr>\n",
       "            <tr>\n",
       "                        <th id=\"T_7dbd67cc_417b_11eb_a54f_acde48001122level0_row1\" class=\"row_heading level0 row1\" >1</th>\n",
       "                        <td id=\"T_7dbd67cc_417b_11eb_a54f_acde48001122row1_col0\" class=\"data row1 col0\" >lr</td>\n",
       "                        <td id=\"T_7dbd67cc_417b_11eb_a54f_acde48001122row1_col1\" class=\"data row1 col1\" >default</td>\n",
       "                        <td id=\"T_7dbd67cc_417b_11eb_a54f_acde48001122row1_col2\" class=\"data row1 col2\" >0.805600</td>\n",
       "                        <td id=\"T_7dbd67cc_417b_11eb_a54f_acde48001122row1_col3\" class=\"data row1 col3\" >0.849100</td>\n",
       "                        <td id=\"T_7dbd67cc_417b_11eb_a54f_acde48001122row1_col4\" class=\"data row1 col4\" >0.531800</td>\n",
       "                        <td id=\"T_7dbd67cc_417b_11eb_a54f_acde48001122row1_col5\" class=\"data row1 col5\" >0.669900</td>\n",
       "                        <td id=\"T_7dbd67cc_417b_11eb_a54f_acde48001122row1_col6\" class=\"data row1 col6\" >0.592200</td>\n",
       "                        <td id=\"T_7dbd67cc_417b_11eb_a54f_acde48001122row1_col7\" class=\"data row1 col7\" >0.466900</td>\n",
       "                        <td id=\"T_7dbd67cc_417b_11eb_a54f_acde48001122row1_col8\" class=\"data row1 col8\" >0.472700</td>\n",
       "                        <td id=\"T_7dbd67cc_417b_11eb_a54f_acde48001122row1_col9\" class=\"data row1 col9\" >6.713100</td>\n",
       "            </tr>\n",
       "            <tr>\n",
       "                        <th id=\"T_7dbd67cc_417b_11eb_a54f_acde48001122level0_row2\" class=\"row_heading level0 row2\" >2</th>\n",
       "                        <td id=\"T_7dbd67cc_417b_11eb_a54f_acde48001122row2_col0\" class=\"data row2 col0\" >lightgbm</td>\n",
       "                        <td id=\"T_7dbd67cc_417b_11eb_a54f_acde48001122row2_col1\" class=\"data row2 col1\" >default</td>\n",
       "                        <td id=\"T_7dbd67cc_417b_11eb_a54f_acde48001122row2_col2\" class=\"data row2 col2\" >0.792800</td>\n",
       "                        <td id=\"T_7dbd67cc_417b_11eb_a54f_acde48001122row2_col3\" class=\"data row2 col3\" >0.835600</td>\n",
       "                        <td id=\"T_7dbd67cc_417b_11eb_a54f_acde48001122row2_col4\" class=\"data row2 col4\" >0.527700</td>\n",
       "                        <td id=\"T_7dbd67cc_417b_11eb_a54f_acde48001122row2_col5\" class=\"data row2 col5\" >0.631300</td>\n",
       "                        <td id=\"T_7dbd67cc_417b_11eb_a54f_acde48001122row2_col6\" class=\"data row2 col6\" >0.574200</td>\n",
       "                        <td id=\"T_7dbd67cc_417b_11eb_a54f_acde48001122row2_col7\" class=\"data row2 col7\" >0.438900</td>\n",
       "                        <td id=\"T_7dbd67cc_417b_11eb_a54f_acde48001122row2_col8\" class=\"data row2 col8\" >0.442400</td>\n",
       "                        <td id=\"T_7dbd67cc_417b_11eb_a54f_acde48001122row2_col9\" class=\"data row2 col9\" >7.157400</td>\n",
       "            </tr>\n",
       "            <tr>\n",
       "                        <th id=\"T_7dbd67cc_417b_11eb_a54f_acde48001122level0_row3\" class=\"row_heading level0 row3\" >3</th>\n",
       "                        <td id=\"T_7dbd67cc_417b_11eb_a54f_acde48001122row3_col0\" class=\"data row3 col0\" >xgboost</td>\n",
       "                        <td id=\"T_7dbd67cc_417b_11eb_a54f_acde48001122row3_col1\" class=\"data row3 col1\" >default</td>\n",
       "                        <td id=\"T_7dbd67cc_417b_11eb_a54f_acde48001122row3_col2\" class=\"data row3 col2\" >0.788600</td>\n",
       "                        <td id=\"T_7dbd67cc_417b_11eb_a54f_acde48001122row3_col3\" class=\"data row3 col3\" >0.826500</td>\n",
       "                        <td id=\"T_7dbd67cc_417b_11eb_a54f_acde48001122row3_col4\" class=\"data row3 col4\" >0.518500</td>\n",
       "                        <td id=\"T_7dbd67cc_417b_11eb_a54f_acde48001122row3_col5\" class=\"data row3 col5\" >0.621700</td>\n",
       "                        <td id=\"T_7dbd67cc_417b_11eb_a54f_acde48001122row3_col6\" class=\"data row3 col6\" >0.565100</td>\n",
       "                        <td id=\"T_7dbd67cc_417b_11eb_a54f_acde48001122row3_col7\" class=\"data row3 col7\" >0.427000</td>\n",
       "                        <td id=\"T_7dbd67cc_417b_11eb_a54f_acde48001122row3_col8\" class=\"data row3 col8\" >0.430300</td>\n",
       "                        <td id=\"T_7dbd67cc_417b_11eb_a54f_acde48001122row3_col9\" class=\"data row3 col9\" >7.303000</td>\n",
       "            </tr>\n",
       "    </tbody></table>"
      ],
      "text/plain": [
       "<pandas.io.formats.style.Styler at 0x7f9100334e80>"
      ]
     },
     "metadata": {},
     "output_type": "display_data"
    }
   ],
   "source": [
    "nb = pyc.create_model('nb',verbose=False)\n",
    "\n",
    "mean_row = pyc.pull().loc['Mean']\n",
    "df_eval = compare_new_models('nb','default',mean_row,sort='Recall',df_eval=df_eval)"
   ]
  },
  {
   "cell_type": "markdown",
   "metadata": {},
   "source": [
    "<a id=\"\" ></a>\n",
    "\n",
    "<h1>  Hyperparameter Tuning</h1> \n",
    "\n",
    "<a href=\"#top\" class=\"btn btn-primary btn-sm\" role=\"button\" aria-pressed=\"true\" style=\"color:white\" data-toggle=\"popover\" title=\"go to TOC\">Go to Top</a>\n",
    "\n",
    "```python\n",
    "pyc.tune_model(\n",
    "    estimator,\n",
    "    fold                     = None,\n",
    "    round                    = 4,\n",
    "    n_iter                   = 10,\n",
    "    custom_grid              = None,\n",
    "    optimize                 = 'Accuracy',\n",
    "    custom_scorer            = None,\n",
    "    search_library           = 'scikit-learn', # 'scikit-optimize', 'tune-sklearn','optuna'\n",
    "    search_algorithm         = None, # 'scikit-learn', 'scikit-optimize', 'tune-sklearn', 'optuna'\n",
    "    early_stopping           = False, # 'asha','hyperband','median' \n",
    "    early_stopping_max_iters = 10,\n",
    "    choose_better            = False,\n",
    "    fit_kwargs               = None,\n",
    "    groups                   = None,\n",
    "    return_tuner             = False,\n",
    "    verbose                  = True,\n",
    "    tuner_verbose            = True,\n",
    "    **kwargs,\n",
    ")\n",
    "```"
   ]
  },
  {
   "cell_type": "code",
   "execution_count": 25,
   "metadata": {
    "ExecuteTime": {
     "end_time": "2020-12-18T21:53:53.979719Z",
     "start_time": "2020-12-18T21:53:41.188987Z"
    }
   },
   "outputs": [
    {
     "data": {
      "text/html": [
       "<style  type=\"text/css\" >\n",
       "    #T_85624808_417b_11eb_a54f_acde48001122row0_col4 {\n",
       "            background:  tomato;\n",
       "        }    #T_85624808_417b_11eb_a54f_acde48001122row1_col4 {\n",
       "            background:  tomato;\n",
       "        }    #T_85624808_417b_11eb_a54f_acde48001122row2_col4 {\n",
       "            background:  tomato;\n",
       "        }    #T_85624808_417b_11eb_a54f_acde48001122row3_col4 {\n",
       "            background:  tomato;\n",
       "        }    #T_85624808_417b_11eb_a54f_acde48001122row4_col4 {\n",
       "            background:  tomato;\n",
       "        }</style><table id=\"T_85624808_417b_11eb_a54f_acde48001122\" ><thead>    <tr>        <th class=\"blank level0\" ></th>        <th class=\"col_heading level0 col0\" >Model</th>        <th class=\"col_heading level0 col1\" >Description</th>        <th class=\"col_heading level0 col2\" >Accuracy</th>        <th class=\"col_heading level0 col3\" >AUC</th>        <th class=\"col_heading level0 col4\" >Recall</th>        <th class=\"col_heading level0 col5\" >Precision</th>        <th class=\"col_heading level0 col6\" >F1</th>        <th class=\"col_heading level0 col7\" >Kappa</th>        <th class=\"col_heading level0 col8\" >MCC</th>        <th class=\"col_heading level0 col9\" >LogLoss</th>    </tr></thead><tbody>\n",
       "                <tr>\n",
       "                        <th id=\"T_85624808_417b_11eb_a54f_acde48001122level0_row0\" class=\"row_heading level0 row0\" >0</th>\n",
       "                        <td id=\"T_85624808_417b_11eb_a54f_acde48001122row0_col0\" class=\"data row0 col0\" >nb</td>\n",
       "                        <td id=\"T_85624808_417b_11eb_a54f_acde48001122row0_col1\" class=\"data row0 col1\" >default</td>\n",
       "                        <td id=\"T_85624808_417b_11eb_a54f_acde48001122row0_col2\" class=\"data row0 col2\" >0.706000</td>\n",
       "                        <td id=\"T_85624808_417b_11eb_a54f_acde48001122row0_col3\" class=\"data row0 col3\" >0.824100</td>\n",
       "                        <td id=\"T_85624808_417b_11eb_a54f_acde48001122row0_col4\" class=\"data row0 col4\" >0.833600</td>\n",
       "                        <td id=\"T_85624808_417b_11eb_a54f_acde48001122row0_col5\" class=\"data row0 col5\" >0.471200</td>\n",
       "                        <td id=\"T_85624808_417b_11eb_a54f_acde48001122row0_col6\" class=\"data row0 col6\" >0.601600</td>\n",
       "                        <td id=\"T_85624808_417b_11eb_a54f_acde48001122row0_col7\" class=\"data row0 col7\" >0.396700</td>\n",
       "                        <td id=\"T_85624808_417b_11eb_a54f_acde48001122row0_col8\" class=\"data row0 col8\" >0.437300</td>\n",
       "                        <td id=\"T_85624808_417b_11eb_a54f_acde48001122row0_col9\" class=\"data row0 col9\" >10.154100</td>\n",
       "            </tr>\n",
       "            <tr>\n",
       "                        <th id=\"T_85624808_417b_11eb_a54f_acde48001122level0_row1\" class=\"row_heading level0 row1\" >1</th>\n",
       "                        <td id=\"T_85624808_417b_11eb_a54f_acde48001122row1_col0\" class=\"data row1 col0\" >lr</td>\n",
       "                        <td id=\"T_85624808_417b_11eb_a54f_acde48001122row1_col1\" class=\"data row1 col1\" >tuned,scikit-optimize</td>\n",
       "                        <td id=\"T_85624808_417b_11eb_a54f_acde48001122row1_col2\" class=\"data row1 col2\" >0.754200</td>\n",
       "                        <td id=\"T_85624808_417b_11eb_a54f_acde48001122row1_col3\" class=\"data row1 col3\" >0.849700</td>\n",
       "                        <td id=\"T_85624808_417b_11eb_a54f_acde48001122row1_col4\" class=\"data row1 col4\" >0.799400</td>\n",
       "                        <td id=\"T_85624808_417b_11eb_a54f_acde48001122row1_col5\" class=\"data row1 col5\" >0.525500</td>\n",
       "                        <td id=\"T_85624808_417b_11eb_a54f_acde48001122row1_col6\" class=\"data row1 col6\" >0.633800</td>\n",
       "                        <td id=\"T_85624808_417b_11eb_a54f_acde48001122row1_col7\" class=\"data row1 col7\" >0.460800</td>\n",
       "                        <td id=\"T_85624808_417b_11eb_a54f_acde48001122row1_col8\" class=\"data row1 col8\" >0.483800</td>\n",
       "                        <td id=\"T_85624808_417b_11eb_a54f_acde48001122row1_col9\" class=\"data row1 col9\" >8.491000</td>\n",
       "            </tr>\n",
       "            <tr>\n",
       "                        <th id=\"T_85624808_417b_11eb_a54f_acde48001122level0_row2\" class=\"row_heading level0 row2\" >2</th>\n",
       "                        <td id=\"T_85624808_417b_11eb_a54f_acde48001122row2_col0\" class=\"data row2 col0\" >lr</td>\n",
       "                        <td id=\"T_85624808_417b_11eb_a54f_acde48001122row2_col1\" class=\"data row2 col1\" >default</td>\n",
       "                        <td id=\"T_85624808_417b_11eb_a54f_acde48001122row2_col2\" class=\"data row2 col2\" >0.805600</td>\n",
       "                        <td id=\"T_85624808_417b_11eb_a54f_acde48001122row2_col3\" class=\"data row2 col3\" >0.849100</td>\n",
       "                        <td id=\"T_85624808_417b_11eb_a54f_acde48001122row2_col4\" class=\"data row2 col4\" >0.531800</td>\n",
       "                        <td id=\"T_85624808_417b_11eb_a54f_acde48001122row2_col5\" class=\"data row2 col5\" >0.669900</td>\n",
       "                        <td id=\"T_85624808_417b_11eb_a54f_acde48001122row2_col6\" class=\"data row2 col6\" >0.592200</td>\n",
       "                        <td id=\"T_85624808_417b_11eb_a54f_acde48001122row2_col7\" class=\"data row2 col7\" >0.466900</td>\n",
       "                        <td id=\"T_85624808_417b_11eb_a54f_acde48001122row2_col8\" class=\"data row2 col8\" >0.472700</td>\n",
       "                        <td id=\"T_85624808_417b_11eb_a54f_acde48001122row2_col9\" class=\"data row2 col9\" >6.713100</td>\n",
       "            </tr>\n",
       "            <tr>\n",
       "                        <th id=\"T_85624808_417b_11eb_a54f_acde48001122level0_row3\" class=\"row_heading level0 row3\" >3</th>\n",
       "                        <td id=\"T_85624808_417b_11eb_a54f_acde48001122row3_col0\" class=\"data row3 col0\" >lightgbm</td>\n",
       "                        <td id=\"T_85624808_417b_11eb_a54f_acde48001122row3_col1\" class=\"data row3 col1\" >default</td>\n",
       "                        <td id=\"T_85624808_417b_11eb_a54f_acde48001122row3_col2\" class=\"data row3 col2\" >0.792800</td>\n",
       "                        <td id=\"T_85624808_417b_11eb_a54f_acde48001122row3_col3\" class=\"data row3 col3\" >0.835600</td>\n",
       "                        <td id=\"T_85624808_417b_11eb_a54f_acde48001122row3_col4\" class=\"data row3 col4\" >0.527700</td>\n",
       "                        <td id=\"T_85624808_417b_11eb_a54f_acde48001122row3_col5\" class=\"data row3 col5\" >0.631300</td>\n",
       "                        <td id=\"T_85624808_417b_11eb_a54f_acde48001122row3_col6\" class=\"data row3 col6\" >0.574200</td>\n",
       "                        <td id=\"T_85624808_417b_11eb_a54f_acde48001122row3_col7\" class=\"data row3 col7\" >0.438900</td>\n",
       "                        <td id=\"T_85624808_417b_11eb_a54f_acde48001122row3_col8\" class=\"data row3 col8\" >0.442400</td>\n",
       "                        <td id=\"T_85624808_417b_11eb_a54f_acde48001122row3_col9\" class=\"data row3 col9\" >7.157400</td>\n",
       "            </tr>\n",
       "            <tr>\n",
       "                        <th id=\"T_85624808_417b_11eb_a54f_acde48001122level0_row4\" class=\"row_heading level0 row4\" >4</th>\n",
       "                        <td id=\"T_85624808_417b_11eb_a54f_acde48001122row4_col0\" class=\"data row4 col0\" >xgboost</td>\n",
       "                        <td id=\"T_85624808_417b_11eb_a54f_acde48001122row4_col1\" class=\"data row4 col1\" >default</td>\n",
       "                        <td id=\"T_85624808_417b_11eb_a54f_acde48001122row4_col2\" class=\"data row4 col2\" >0.788600</td>\n",
       "                        <td id=\"T_85624808_417b_11eb_a54f_acde48001122row4_col3\" class=\"data row4 col3\" >0.826500</td>\n",
       "                        <td id=\"T_85624808_417b_11eb_a54f_acde48001122row4_col4\" class=\"data row4 col4\" >0.518500</td>\n",
       "                        <td id=\"T_85624808_417b_11eb_a54f_acde48001122row4_col5\" class=\"data row4 col5\" >0.621700</td>\n",
       "                        <td id=\"T_85624808_417b_11eb_a54f_acde48001122row4_col6\" class=\"data row4 col6\" >0.565100</td>\n",
       "                        <td id=\"T_85624808_417b_11eb_a54f_acde48001122row4_col7\" class=\"data row4 col7\" >0.427000</td>\n",
       "                        <td id=\"T_85624808_417b_11eb_a54f_acde48001122row4_col8\" class=\"data row4 col8\" >0.430300</td>\n",
       "                        <td id=\"T_85624808_417b_11eb_a54f_acde48001122row4_col9\" class=\"data row4 col9\" >7.303000</td>\n",
       "            </tr>\n",
       "    </tbody></table>"
      ],
      "text/plain": [
       "<pandas.io.formats.style.Styler at 0x7f9100e2de20>"
      ]
     },
     "metadata": {},
     "output_type": "display_data"
    }
   ],
   "source": [
    "lr_tuned1 = pyc.tune_model(lr,fold=5,optimize='Recall',\n",
    "                          search_library='scikit-optimize',verbose=False)\n",
    "\n",
    "mean_row = pyc.pull().loc['Mean']\n",
    "df_eval = compare_new_models('lr','tuned,scikit-optimize',\n",
    "                             mean_row,sort='Recall',df_eval=df_eval)"
   ]
  },
  {
   "cell_type": "code",
   "execution_count": 26,
   "metadata": {
    "ExecuteTime": {
     "end_time": "2020-12-18T21:53:54.018804Z",
     "start_time": "2020-12-18T21:53:54.003620Z"
    }
   },
   "outputs": [],
   "source": [
    "# lr_tuned2 = pyc.tune_model(lr,fold=5,optimize='Recall',\n",
    "#                           search_library='tune-sklearn',verbose=False)\n",
    "\n",
    "# mean_row = pyc.pull().loc['Mean']\n",
    "# df_eval = compare_new_models('lr','tuned,tune-sklearn',mean_row,sort='Recall',df_eval=df_eval)"
   ]
  },
  {
   "cell_type": "code",
   "execution_count": 27,
   "metadata": {
    "ExecuteTime": {
     "end_time": "2020-12-18T21:55:45.442026Z",
     "start_time": "2020-12-18T21:53:54.033044Z"
    }
   },
   "outputs": [],
   "source": [
    "%%capture\n",
    "# use capture, there are too many lines of\n",
    "# The `start_trial` operation took 0.67942214012146 seconds to complete, which may be a performance bottleneck.\n",
    "lr_tuned3 = pyc.tune_model(lr,fold=5,optimize='Recall',\n",
    "            search_library='tune-sklearn',n_iter=100,\n",
    "                           verbose=False,tuner_verbose=False)\n",
    "\n",
    "mean_row = pyc.pull().loc['Mean']\n",
    "desc = 'tuned,tune-sklearn,n_iter=100'\n",
    "df_eval = compare_new_models('lr',desc,mean_row,sort='Recall',df_eval=df_eval)"
   ]
  },
  {
   "cell_type": "code",
   "execution_count": 28,
   "metadata": {
    "ExecuteTime": {
     "end_time": "2020-12-18T21:55:45.608417Z",
     "start_time": "2020-12-18T21:55:45.592361Z"
    }
   },
   "outputs": [],
   "source": [
    "# %%capture\n",
    "# # optimize f1\n",
    "# lr_tuned4 = pyc.tune_model(lr,fold=5,optimize='F1',\n",
    "#             search_library='tune-sklearn',n_iter=100, verbose=False)\n",
    "\n",
    "# mean_row = pyc.pull().loc['Mean']\n",
    "# desc = 'tuned,tune-sklearn,n_iter=100,optimize=F1'\n",
    "# df_eval = compare_new_models('lr',desc,mean_row,sort='Recall',df_eval=df_eval)"
   ]
  },
  {
   "cell_type": "code",
   "execution_count": 29,
   "metadata": {
    "ExecuteTime": {
     "end_time": "2020-12-18T21:55:45.722212Z",
     "start_time": "2020-12-18T21:55:45.659517Z"
    }
   },
   "outputs": [
    {
     "data": {
      "text/html": [
       "<div>\n",
       "<style scoped>\n",
       "    .dataframe tbody tr th:only-of-type {\n",
       "        vertical-align: middle;\n",
       "    }\n",
       "\n",
       "    .dataframe tbody tr th {\n",
       "        vertical-align: top;\n",
       "    }\n",
       "\n",
       "    .dataframe thead th {\n",
       "        text-align: right;\n",
       "    }\n",
       "</style>\n",
       "<table border=\"1\" class=\"dataframe\">\n",
       "  <thead>\n",
       "    <tr style=\"text-align: right;\">\n",
       "      <th></th>\n",
       "      <th>Model</th>\n",
       "      <th>Description</th>\n",
       "      <th>Accuracy</th>\n",
       "      <th>AUC</th>\n",
       "      <th>Recall</th>\n",
       "      <th>Precision</th>\n",
       "      <th>F1</th>\n",
       "      <th>Kappa</th>\n",
       "      <th>MCC</th>\n",
       "      <th>LogLoss</th>\n",
       "    </tr>\n",
       "  </thead>\n",
       "  <tbody>\n",
       "    <tr>\n",
       "      <th>0</th>\n",
       "      <td>nb</td>\n",
       "      <td>default</td>\n",
       "      <td>0.7060</td>\n",
       "      <td>0.8241</td>\n",
       "      <td>0.8336</td>\n",
       "      <td>0.4712</td>\n",
       "      <td>0.6016</td>\n",
       "      <td>0.3967</td>\n",
       "      <td>0.4373</td>\n",
       "      <td>10.1541</td>\n",
       "    </tr>\n",
       "    <tr>\n",
       "      <th>1</th>\n",
       "      <td>lr</td>\n",
       "      <td>tuned,tune-sklearn,n_iter=100</td>\n",
       "      <td>0.7526</td>\n",
       "      <td>0.8483</td>\n",
       "      <td>0.8052</td>\n",
       "      <td>0.5234</td>\n",
       "      <td>0.6341</td>\n",
       "      <td>0.4601</td>\n",
       "      <td>0.4845</td>\n",
       "      <td>8.5447</td>\n",
       "    </tr>\n",
       "    <tr>\n",
       "      <th>2</th>\n",
       "      <td>lr</td>\n",
       "      <td>tuned,scikit-optimize</td>\n",
       "      <td>0.7542</td>\n",
       "      <td>0.8497</td>\n",
       "      <td>0.7994</td>\n",
       "      <td>0.5255</td>\n",
       "      <td>0.6338</td>\n",
       "      <td>0.4608</td>\n",
       "      <td>0.4838</td>\n",
       "      <td>8.4910</td>\n",
       "    </tr>\n",
       "    <tr>\n",
       "      <th>3</th>\n",
       "      <td>lr</td>\n",
       "      <td>default</td>\n",
       "      <td>0.8056</td>\n",
       "      <td>0.8491</td>\n",
       "      <td>0.5318</td>\n",
       "      <td>0.6699</td>\n",
       "      <td>0.5922</td>\n",
       "      <td>0.4669</td>\n",
       "      <td>0.4727</td>\n",
       "      <td>6.7131</td>\n",
       "    </tr>\n",
       "    <tr>\n",
       "      <th>4</th>\n",
       "      <td>lightgbm</td>\n",
       "      <td>default</td>\n",
       "      <td>0.7928</td>\n",
       "      <td>0.8356</td>\n",
       "      <td>0.5277</td>\n",
       "      <td>0.6313</td>\n",
       "      <td>0.5742</td>\n",
       "      <td>0.4389</td>\n",
       "      <td>0.4424</td>\n",
       "      <td>7.1574</td>\n",
       "    </tr>\n",
       "    <tr>\n",
       "      <th>5</th>\n",
       "      <td>xgboost</td>\n",
       "      <td>default</td>\n",
       "      <td>0.7886</td>\n",
       "      <td>0.8265</td>\n",
       "      <td>0.5185</td>\n",
       "      <td>0.6217</td>\n",
       "      <td>0.5651</td>\n",
       "      <td>0.4270</td>\n",
       "      <td>0.4303</td>\n",
       "      <td>7.3030</td>\n",
       "    </tr>\n",
       "  </tbody>\n",
       "</table>\n",
       "</div>"
      ],
      "text/plain": [
       "      Model                    Description  Accuracy     AUC  Recall  \\\n",
       "0        nb                        default    0.7060  0.8241  0.8336   \n",
       "1        lr  tuned,tune-sklearn,n_iter=100    0.7526  0.8483  0.8052   \n",
       "2        lr          tuned,scikit-optimize    0.7542  0.8497  0.7994   \n",
       "3        lr                        default    0.8056  0.8491  0.5318   \n",
       "4  lightgbm                        default    0.7928  0.8356  0.5277   \n",
       "5   xgboost                        default    0.7886  0.8265  0.5185   \n",
       "\n",
       "   Precision      F1   Kappa     MCC  LogLoss  \n",
       "0     0.4712  0.6016  0.3967  0.4373  10.1541  \n",
       "1     0.5234  0.6341  0.4601  0.4845   8.5447  \n",
       "2     0.5255  0.6338  0.4608  0.4838   8.4910  \n",
       "3     0.6699  0.5922  0.4669  0.4727   6.7131  \n",
       "4     0.6313  0.5742  0.4389  0.4424   7.1574  \n",
       "5     0.6217  0.5651  0.4270  0.4303   7.3030  "
      ]
     },
     "execution_count": 29,
     "metadata": {},
     "output_type": "execute_result"
    }
   ],
   "source": [
    "df_eval"
   ]
  },
  {
   "cell_type": "code",
   "execution_count": 30,
   "metadata": {
    "ExecuteTime": {
     "end_time": "2020-12-18T21:55:45.739319Z",
     "start_time": "2020-12-18T21:55:45.732379Z"
    }
   },
   "outputs": [],
   "source": [
    "# %%time\n",
    "# lr_tuned4 = pyc.tune_model(lr,fold=5,optimize='Recall',\n",
    "#             search_library='tune-sklearn',\n",
    "#             n_iter=500,\n",
    "#             early_stopping='asha',\n",
    "#             early_stopping_max_iters=10,\n",
    "#             verbose=True)\n",
    "\n",
    "\n",
    "# this did not improve recall or f1"
   ]
  },
  {
   "cell_type": "code",
   "execution_count": 31,
   "metadata": {
    "ExecuteTime": {
     "end_time": "2020-12-18T21:55:45.776466Z",
     "start_time": "2020-12-18T21:55:45.766155Z"
    }
   },
   "outputs": [],
   "source": [
    "# from sklearn.linear_model import LogisticRegression\n",
    "# lr_tuned5 = LogisticRegression(C=6.669, class_weight={}, dual=False, fit_intercept=True,\n",
    "#                    intercept_scaling=1, l1_ratio=None, max_iter=1000,\n",
    "#                    multi_class='auto', n_jobs=None, penalty='l2',\n",
    "#                    random_state=100, solver='lbfgs', tol=0.0001, verbose=0,\n",
    "#                    warm_start=False)"
   ]
  },
  {
   "cell_type": "code",
   "execution_count": 32,
   "metadata": {
    "ExecuteTime": {
     "end_time": "2020-12-18T21:55:51.295049Z",
     "start_time": "2020-12-18T21:55:45.790188Z"
    }
   },
   "outputs": [
    {
     "data": {
      "text/html": [
       "<style  type=\"text/css\" >\n",
       "    #T_cb505238_417b_11eb_a54f_acde48001122row0_col4 {\n",
       "            background:  tomato;\n",
       "        }    #T_cb505238_417b_11eb_a54f_acde48001122row1_col4 {\n",
       "            background:  tomato;\n",
       "        }    #T_cb505238_417b_11eb_a54f_acde48001122row2_col4 {\n",
       "            background:  tomato;\n",
       "        }    #T_cb505238_417b_11eb_a54f_acde48001122row3_col4 {\n",
       "            background:  tomato;\n",
       "        }    #T_cb505238_417b_11eb_a54f_acde48001122row4_col4 {\n",
       "            background:  tomato;\n",
       "        }    #T_cb505238_417b_11eb_a54f_acde48001122row5_col4 {\n",
       "            background:  tomato;\n",
       "        }    #T_cb505238_417b_11eb_a54f_acde48001122row6_col4 {\n",
       "            background:  tomato;\n",
       "        }</style><table id=\"T_cb505238_417b_11eb_a54f_acde48001122\" ><thead>    <tr>        <th class=\"blank level0\" ></th>        <th class=\"col_heading level0 col0\" >Model</th>        <th class=\"col_heading level0 col1\" >Description</th>        <th class=\"col_heading level0 col2\" >Accuracy</th>        <th class=\"col_heading level0 col3\" >AUC</th>        <th class=\"col_heading level0 col4\" >Recall</th>        <th class=\"col_heading level0 col5\" >Precision</th>        <th class=\"col_heading level0 col6\" >F1</th>        <th class=\"col_heading level0 col7\" >Kappa</th>        <th class=\"col_heading level0 col8\" >MCC</th>        <th class=\"col_heading level0 col9\" >LogLoss</th>    </tr></thead><tbody>\n",
       "                <tr>\n",
       "                        <th id=\"T_cb505238_417b_11eb_a54f_acde48001122level0_row0\" class=\"row_heading level0 row0\" >0</th>\n",
       "                        <td id=\"T_cb505238_417b_11eb_a54f_acde48001122row0_col0\" class=\"data row0 col0\" >nb</td>\n",
       "                        <td id=\"T_cb505238_417b_11eb_a54f_acde48001122row0_col1\" class=\"data row0 col1\" >default</td>\n",
       "                        <td id=\"T_cb505238_417b_11eb_a54f_acde48001122row0_col2\" class=\"data row0 col2\" >0.706000</td>\n",
       "                        <td id=\"T_cb505238_417b_11eb_a54f_acde48001122row0_col3\" class=\"data row0 col3\" >0.824100</td>\n",
       "                        <td id=\"T_cb505238_417b_11eb_a54f_acde48001122row0_col4\" class=\"data row0 col4\" >0.833600</td>\n",
       "                        <td id=\"T_cb505238_417b_11eb_a54f_acde48001122row0_col5\" class=\"data row0 col5\" >0.471200</td>\n",
       "                        <td id=\"T_cb505238_417b_11eb_a54f_acde48001122row0_col6\" class=\"data row0 col6\" >0.601600</td>\n",
       "                        <td id=\"T_cb505238_417b_11eb_a54f_acde48001122row0_col7\" class=\"data row0 col7\" >0.396700</td>\n",
       "                        <td id=\"T_cb505238_417b_11eb_a54f_acde48001122row0_col8\" class=\"data row0 col8\" >0.437300</td>\n",
       "                        <td id=\"T_cb505238_417b_11eb_a54f_acde48001122row0_col9\" class=\"data row0 col9\" >10.154100</td>\n",
       "            </tr>\n",
       "            <tr>\n",
       "                        <th id=\"T_cb505238_417b_11eb_a54f_acde48001122level0_row1\" class=\"row_heading level0 row1\" >1</th>\n",
       "                        <td id=\"T_cb505238_417b_11eb_a54f_acde48001122row1_col0\" class=\"data row1 col0\" >lr</td>\n",
       "                        <td id=\"T_cb505238_417b_11eb_a54f_acde48001122row1_col1\" class=\"data row1 col1\" >tuned,tune-sklearn,n_iter=100</td>\n",
       "                        <td id=\"T_cb505238_417b_11eb_a54f_acde48001122row1_col2\" class=\"data row1 col2\" >0.752600</td>\n",
       "                        <td id=\"T_cb505238_417b_11eb_a54f_acde48001122row1_col3\" class=\"data row1 col3\" >0.848300</td>\n",
       "                        <td id=\"T_cb505238_417b_11eb_a54f_acde48001122row1_col4\" class=\"data row1 col4\" >0.805200</td>\n",
       "                        <td id=\"T_cb505238_417b_11eb_a54f_acde48001122row1_col5\" class=\"data row1 col5\" >0.523400</td>\n",
       "                        <td id=\"T_cb505238_417b_11eb_a54f_acde48001122row1_col6\" class=\"data row1 col6\" >0.634100</td>\n",
       "                        <td id=\"T_cb505238_417b_11eb_a54f_acde48001122row1_col7\" class=\"data row1 col7\" >0.460100</td>\n",
       "                        <td id=\"T_cb505238_417b_11eb_a54f_acde48001122row1_col8\" class=\"data row1 col8\" >0.484500</td>\n",
       "                        <td id=\"T_cb505238_417b_11eb_a54f_acde48001122row1_col9\" class=\"data row1 col9\" >8.544700</td>\n",
       "            </tr>\n",
       "            <tr>\n",
       "                        <th id=\"T_cb505238_417b_11eb_a54f_acde48001122level0_row2\" class=\"row_heading level0 row2\" >2</th>\n",
       "                        <td id=\"T_cb505238_417b_11eb_a54f_acde48001122row2_col0\" class=\"data row2 col0\" >lr</td>\n",
       "                        <td id=\"T_cb505238_417b_11eb_a54f_acde48001122row2_col1\" class=\"data row2 col1\" >tuned,scikit-optimize</td>\n",
       "                        <td id=\"T_cb505238_417b_11eb_a54f_acde48001122row2_col2\" class=\"data row2 col2\" >0.754200</td>\n",
       "                        <td id=\"T_cb505238_417b_11eb_a54f_acde48001122row2_col3\" class=\"data row2 col3\" >0.849700</td>\n",
       "                        <td id=\"T_cb505238_417b_11eb_a54f_acde48001122row2_col4\" class=\"data row2 col4\" >0.799400</td>\n",
       "                        <td id=\"T_cb505238_417b_11eb_a54f_acde48001122row2_col5\" class=\"data row2 col5\" >0.525500</td>\n",
       "                        <td id=\"T_cb505238_417b_11eb_a54f_acde48001122row2_col6\" class=\"data row2 col6\" >0.633800</td>\n",
       "                        <td id=\"T_cb505238_417b_11eb_a54f_acde48001122row2_col7\" class=\"data row2 col7\" >0.460800</td>\n",
       "                        <td id=\"T_cb505238_417b_11eb_a54f_acde48001122row2_col8\" class=\"data row2 col8\" >0.483800</td>\n",
       "                        <td id=\"T_cb505238_417b_11eb_a54f_acde48001122row2_col9\" class=\"data row2 col9\" >8.491000</td>\n",
       "            </tr>\n",
       "            <tr>\n",
       "                        <th id=\"T_cb505238_417b_11eb_a54f_acde48001122level0_row3\" class=\"row_heading level0 row3\" >3</th>\n",
       "                        <td id=\"T_cb505238_417b_11eb_a54f_acde48001122row3_col0\" class=\"data row3 col0\" >lr</td>\n",
       "                        <td id=\"T_cb505238_417b_11eb_a54f_acde48001122row3_col1\" class=\"data row3 col1\" >tuned,custom_grid</td>\n",
       "                        <td id=\"T_cb505238_417b_11eb_a54f_acde48001122row3_col2\" class=\"data row3 col2\" >0.805900</td>\n",
       "                        <td id=\"T_cb505238_417b_11eb_a54f_acde48001122row3_col3\" class=\"data row3 col3\" >0.848900</td>\n",
       "                        <td id=\"T_cb505238_417b_11eb_a54f_acde48001122row3_col4\" class=\"data row3 col4\" >0.536800</td>\n",
       "                        <td id=\"T_cb505238_417b_11eb_a54f_acde48001122row3_col5\" class=\"data row3 col5\" >0.669000</td>\n",
       "                        <td id=\"T_cb505238_417b_11eb_a54f_acde48001122row3_col6\" class=\"data row3 col6\" >0.594800</td>\n",
       "                        <td id=\"T_cb505238_417b_11eb_a54f_acde48001122row3_col7\" class=\"data row3 col7\" >0.469200</td>\n",
       "                        <td id=\"T_cb505238_417b_11eb_a54f_acde48001122row3_col8\" class=\"data row3 col8\" >0.474700</td>\n",
       "                        <td id=\"T_cb505238_417b_11eb_a54f_acde48001122row3_col9\" class=\"data row3 col9\" >6.705400</td>\n",
       "            </tr>\n",
       "            <tr>\n",
       "                        <th id=\"T_cb505238_417b_11eb_a54f_acde48001122level0_row4\" class=\"row_heading level0 row4\" >4</th>\n",
       "                        <td id=\"T_cb505238_417b_11eb_a54f_acde48001122row4_col0\" class=\"data row4 col0\" >lr</td>\n",
       "                        <td id=\"T_cb505238_417b_11eb_a54f_acde48001122row4_col1\" class=\"data row4 col1\" >default</td>\n",
       "                        <td id=\"T_cb505238_417b_11eb_a54f_acde48001122row4_col2\" class=\"data row4 col2\" >0.805600</td>\n",
       "                        <td id=\"T_cb505238_417b_11eb_a54f_acde48001122row4_col3\" class=\"data row4 col3\" >0.849100</td>\n",
       "                        <td id=\"T_cb505238_417b_11eb_a54f_acde48001122row4_col4\" class=\"data row4 col4\" >0.531800</td>\n",
       "                        <td id=\"T_cb505238_417b_11eb_a54f_acde48001122row4_col5\" class=\"data row4 col5\" >0.669900</td>\n",
       "                        <td id=\"T_cb505238_417b_11eb_a54f_acde48001122row4_col6\" class=\"data row4 col6\" >0.592200</td>\n",
       "                        <td id=\"T_cb505238_417b_11eb_a54f_acde48001122row4_col7\" class=\"data row4 col7\" >0.466900</td>\n",
       "                        <td id=\"T_cb505238_417b_11eb_a54f_acde48001122row4_col8\" class=\"data row4 col8\" >0.472700</td>\n",
       "                        <td id=\"T_cb505238_417b_11eb_a54f_acde48001122row4_col9\" class=\"data row4 col9\" >6.713100</td>\n",
       "            </tr>\n",
       "            <tr>\n",
       "                        <th id=\"T_cb505238_417b_11eb_a54f_acde48001122level0_row5\" class=\"row_heading level0 row5\" >5</th>\n",
       "                        <td id=\"T_cb505238_417b_11eb_a54f_acde48001122row5_col0\" class=\"data row5 col0\" >lightgbm</td>\n",
       "                        <td id=\"T_cb505238_417b_11eb_a54f_acde48001122row5_col1\" class=\"data row5 col1\" >default</td>\n",
       "                        <td id=\"T_cb505238_417b_11eb_a54f_acde48001122row5_col2\" class=\"data row5 col2\" >0.792800</td>\n",
       "                        <td id=\"T_cb505238_417b_11eb_a54f_acde48001122row5_col3\" class=\"data row5 col3\" >0.835600</td>\n",
       "                        <td id=\"T_cb505238_417b_11eb_a54f_acde48001122row5_col4\" class=\"data row5 col4\" >0.527700</td>\n",
       "                        <td id=\"T_cb505238_417b_11eb_a54f_acde48001122row5_col5\" class=\"data row5 col5\" >0.631300</td>\n",
       "                        <td id=\"T_cb505238_417b_11eb_a54f_acde48001122row5_col6\" class=\"data row5 col6\" >0.574200</td>\n",
       "                        <td id=\"T_cb505238_417b_11eb_a54f_acde48001122row5_col7\" class=\"data row5 col7\" >0.438900</td>\n",
       "                        <td id=\"T_cb505238_417b_11eb_a54f_acde48001122row5_col8\" class=\"data row5 col8\" >0.442400</td>\n",
       "                        <td id=\"T_cb505238_417b_11eb_a54f_acde48001122row5_col9\" class=\"data row5 col9\" >7.157400</td>\n",
       "            </tr>\n",
       "            <tr>\n",
       "                        <th id=\"T_cb505238_417b_11eb_a54f_acde48001122level0_row6\" class=\"row_heading level0 row6\" >6</th>\n",
       "                        <td id=\"T_cb505238_417b_11eb_a54f_acde48001122row6_col0\" class=\"data row6 col0\" >xgboost</td>\n",
       "                        <td id=\"T_cb505238_417b_11eb_a54f_acde48001122row6_col1\" class=\"data row6 col1\" >default</td>\n",
       "                        <td id=\"T_cb505238_417b_11eb_a54f_acde48001122row6_col2\" class=\"data row6 col2\" >0.788600</td>\n",
       "                        <td id=\"T_cb505238_417b_11eb_a54f_acde48001122row6_col3\" class=\"data row6 col3\" >0.826500</td>\n",
       "                        <td id=\"T_cb505238_417b_11eb_a54f_acde48001122row6_col4\" class=\"data row6 col4\" >0.518500</td>\n",
       "                        <td id=\"T_cb505238_417b_11eb_a54f_acde48001122row6_col5\" class=\"data row6 col5\" >0.621700</td>\n",
       "                        <td id=\"T_cb505238_417b_11eb_a54f_acde48001122row6_col6\" class=\"data row6 col6\" >0.565100</td>\n",
       "                        <td id=\"T_cb505238_417b_11eb_a54f_acde48001122row6_col7\" class=\"data row6 col7\" >0.427000</td>\n",
       "                        <td id=\"T_cb505238_417b_11eb_a54f_acde48001122row6_col8\" class=\"data row6 col8\" >0.430300</td>\n",
       "                        <td id=\"T_cb505238_417b_11eb_a54f_acde48001122row6_col9\" class=\"data row6 col9\" >7.303000</td>\n",
       "            </tr>\n",
       "    </tbody></table>"
      ],
      "text/plain": [
       "<pandas.io.formats.style.Styler at 0x7f9100e32c70>"
      ]
     },
     "metadata": {},
     "output_type": "display_data"
    }
   ],
   "source": [
    "# tune hyperparameters with custom_grid\n",
    "params_lr = {\"C\": [2.039,0],\n",
    "          \"penalty\": [\"l1\", \"l2\"]\n",
    "          }\n",
    "\n",
    "tuned_lr_custom = pyc.tune_model(lr, custom_grid = params_lr,verbose=False)\n",
    "mean_row = pyc.pull().loc['Mean']\n",
    "desc = 'tuned,custom_grid'\n",
    "df_eval = compare_new_models('lr',desc,mean_row,sort='Recall',df_eval=df_eval)"
   ]
  },
  {
   "cell_type": "code",
   "execution_count": 33,
   "metadata": {
    "ExecuteTime": {
     "end_time": "2020-12-18T21:55:51.429374Z",
     "start_time": "2020-12-18T21:55:51.392064Z"
    }
   },
   "outputs": [
    {
     "name": "stdout",
     "output_type": "stream",
     "text": [
      "LogisticRegression(C=4.454, class_weight='balanced', dual=False,\n",
      "                   fit_intercept=True, intercept_scaling=1, l1_ratio=None,\n",
      "                   max_iter=1000, multi_class='auto', n_jobs=None, penalty='l2',\n",
      "                   random_state=100, solver='lbfgs', tol=0.0001, verbose=0,\n",
      "                   warm_start=False)\n"
     ]
    }
   ],
   "source": [
    "model_best = lr_tuned3\n",
    "print(model_best)\n",
    "\n",
    "\"\"\"\n",
    "LogisticRegression(C=2.235, class_weight='balanced', dual=False,\n",
    "                   fit_intercept=True, intercept_scaling=1, l1_ratio=None,\n",
    "                   max_iter=1000, multi_class='auto', n_jobs=None, penalty='l2',\n",
    "                   random_state=100, solver='lbfgs', tol=0.0001, verbose=0,\n",
    "                   warm_start=False)\n",
    "\n",
    "\"\"\";"
   ]
  },
  {
   "cell_type": "markdown",
   "metadata": {},
   "source": [
    "<a id=\"\" ></a>\n",
    "\n",
    "<h1>  Model Evaluation (Train) : plot_model and evaluate_model </h1> \n",
    "\n",
    "<a href=\"#top\" class=\"btn btn-primary btn-sm\" role=\"button\" aria-pressed=\"true\" style=\"color:white\" data-toggle=\"popover\" title=\"go to TOC\">Go to Top</a>\n",
    "\n",
    "```\n",
    "Abbreviated String     Name\n",
    "------------------     -------\n",
    "* 'auc'                - Area Under the Curve\n",
    "* 'threshold'          - Discrimination Threshold\n",
    "* 'pr'                 - Precision Recall Curve\n",
    "* 'confusion_matrix'   - Confusion Matrix\n",
    "* 'error'              - Class Prediction Error\n",
    "* 'class_report'       - Classification Report\n",
    "* 'boundary'           - Decision Boundary\n",
    "* 'rfe'                - Recursive Feature Selection\n",
    "* 'learning'           - Learning Curve\n",
    "* 'manifold'           - Manifold Learning\n",
    "* 'calibration'        - Calibration Curve\n",
    "* 'vc'                 - Validation Curve\n",
    "* 'dimension'          - Dimension Learning\n",
    "* 'feature'            - Feature Importance\n",
    "* 'feature_all'        - Feature Importance (All)\n",
    "* 'parameter'          - Model Hyperparameter\n",
    "* 'lift'               - Lift Curve\n",
    "* 'gain'               - Gain Chart\n",
    "* 'tree'               - Decision Tree\n",
    "```\n",
    "\n",
    "```python\n",
    "pyc.plot_model(\n",
    "    estimator,\n",
    "    plot           = 'auc',\n",
    "    scale          = 1,\n",
    "    save           = False,\n",
    "    fold           = None,\n",
    "    fit_kwargs     = None,\n",
    "    groups         = None,\n",
    "    use_train_data = False, # if true, train data will be used for not test\n",
    "    verbose        = True,\n",
    ")\n",
    "```\n",
    "\n",
    "```python\n",
    "pyc.evaluate_model(\n",
    "    estimator,\n",
    "    fold           = None,\n",
    "    fit_kwargs     = None,\n",
    "    groups         = None,\n",
    "    use_train_data = False,\n",
    ")\n",
    "```"
   ]
  },
  {
   "cell_type": "code",
   "execution_count": 34,
   "metadata": {
    "ExecuteTime": {
     "end_time": "2020-12-18T21:55:51.481790Z",
     "start_time": "2020-12-18T21:55:51.473035Z"
    }
   },
   "outputs": [],
   "source": [
    "# pyc.plot_model?\n",
    "# pyc.evaluate_model?"
   ]
  },
  {
   "cell_type": "code",
   "execution_count": 35,
   "metadata": {
    "ExecuteTime": {
     "end_time": "2020-12-18T21:55:52.427020Z",
     "start_time": "2020-12-18T21:55:51.530630Z"
    }
   },
   "outputs": [
    {
     "data": {
      "image/png": "[encoded data removed]",
      "text/plain": [
       "<Figure size 576x396 with 1 Axes>"
      ]
     },
     "metadata": {},
     "output_type": "display_data"
    }
   ],
   "source": [
    "# AUC-ROC plot\n",
    "pyc.plot_model(model_best, plot = 'auc')"
   ]
  },
  {
   "cell_type": "code",
   "execution_count": 36,
   "metadata": {
    "ExecuteTime": {
     "end_time": "2020-12-18T21:55:52.805371Z",
     "start_time": "2020-12-18T21:55:52.460514Z"
    }
   },
   "outputs": [
    {
     "data": {
      "application/vnd.jupyter.widget-view+json": {
       "model_id": "f509a461499c4a6a97754070bae3fa69",
       "version_major": 2,
       "version_minor": 0
      },
      "text/plain": [
       "interactive(children=(ToggleButtons(description='Plot Type:', icons=('',), options=(('Hyperparameters', 'param…"
      ]
     },
     "metadata": {},
     "output_type": "display_data"
    }
   ],
   "source": [
    "# evaluate model (click on buttotns to see the plots)\n",
    "pyc.evaluate_model(model_best)"
   ]
  },
  {
   "cell_type": "markdown",
   "metadata": {},
   "source": [
    "<a id=\"\" ></a>\n",
    "\n",
    "<h1>  Model Calibration</h1> \n",
    "\n",
    "<a href=\"#top\" class=\"btn btn-primary btn-sm\" role=\"button\" aria-pressed=\"true\" style=\"color:white\" data-toggle=\"popover\" title=\"go to TOC\">Go to Top</a>\n",
    "\n",
    "```python\n",
    "pyc.calibrate_model(\n",
    "    estimator,\n",
    "    method     = 'sigmoid',\n",
    "    fold       = None,\n",
    "    round      = 4,\n",
    "    fit_kwargs = None,\n",
    "    groups     = None,\n",
    "    verbose    = True,\n",
    ")\n",
    "```"
   ]
  },
  {
   "cell_type": "code",
   "execution_count": 37,
   "metadata": {
    "ExecuteTime": {
     "end_time": "2020-12-18T21:55:52.814515Z",
     "start_time": "2020-12-18T21:55:52.810646Z"
    }
   },
   "outputs": [],
   "source": [
    "# pyc.calibrate_model?"
   ]
  },
  {
   "cell_type": "code",
   "execution_count": 38,
   "metadata": {
    "ExecuteTime": {
     "end_time": "2020-12-18T21:55:53.664938Z",
     "start_time": "2020-12-18T21:55:52.818916Z"
    }
   },
   "outputs": [
    {
     "data": {
      "image/png": "[encoded data removed]",
      "text/plain": [
       "<Figure size 700x600 with 1 Axes>"
      ]
     },
     "metadata": {},
     "output_type": "display_data"
    }
   ],
   "source": [
    "pyc.plot_model(model_best, plot='calibration')"
   ]
  },
  {
   "cell_type": "code",
   "execution_count": 39,
   "metadata": {
    "ExecuteTime": {
     "end_time": "2020-12-18T21:56:06.488724Z",
     "start_time": "2020-12-18T21:55:53.668616Z"
    }
   },
   "outputs": [
    {
     "data": {
      "image/png": "[encoded data removed]",
      "text/plain": [
       "<Figure size 700x600 with 1 Axes>"
      ]
     },
     "metadata": {},
     "output_type": "display_data"
    }
   ],
   "source": [
    "model_best_tuned_calibrated = pyc.calibrate_model(model_best,fold=5,\n",
    "                                            method='sigmoid',verbose=False)\n",
    "\n",
    "mean_row = pyc.pull().loc['Mean']\n",
    "desc = 'tuned+calibrated'\n",
    "df_eval = compare_new_models('lr',desc,mean_row,sort='Recall',df_eval=df_eval)\n",
    "pyc.plot_model(model_best_tuned_calibrated, plot='calibration')"
   ]
  },
  {
   "cell_type": "code",
   "execution_count": 41,
   "metadata": {
    "ExecuteTime": {
     "end_time": "2020-12-18T21:57:07.303368Z",
     "start_time": "2020-12-18T21:56:52.286533Z"
    }
   },
   "outputs": [
    {
     "data": {
      "image/png": "[encoded data removed]",
      "text/plain": [
       "<Figure size 700x600 with 1 Axes>"
      ]
     },
     "metadata": {},
     "output_type": "display_data"
    }
   ],
   "source": [
    "model_best_tuned_calibrated_iso = pyc.calibrate_model(model_best,\n",
    "                            fold=5, method='isotonic',verbose=False)\n",
    "\n",
    "mean_row = pyc.pull().loc['Mean']\n",
    "desc = 'tuned+calibrated_iso'\n",
    "df_eval = compare_new_models('lr',desc,mean_row,sort='Recall',df_eval=df_eval)\n",
    "pyc.plot_model(model_best_tuned_calibrated_iso, plot='calibration')"
   ]
  },
  {
   "cell_type": "markdown",
   "metadata": {},
   "source": [
    "<a id=\"\" ></a>\n",
    "\n",
    "<h1>  Model Interpretation of Tree Methods (Training) </h1> \n",
    "\n",
    "<a href=\"#top\" class=\"btn btn-primary btn-sm\" role=\"button\" aria-pressed=\"true\" style=\"color:white\" data-toggle=\"popover\" title=\"go to TOC\">Go to Top</a>\n",
    "\n",
    "```python\n",
    "pyc.interpret_model(\n",
    "    estimator,\n",
    "    plot           = 'summary',\n",
    "    feature        = None,\n",
    "    observation    = None,\n",
    "    use_train_data = False,\n",
    "    **kwargs,\n",
    ")\n",
    "```\n",
    "\n",
    "- not supported models: logistic regression, nb\n",
    "- supported models : rf, xgboost, lightgbm, catboost, dt, et"
   ]
  },
  {
   "cell_type": "code",
   "execution_count": 42,
   "metadata": {
    "ExecuteTime": {
     "end_time": "2020-12-18T21:57:07.366583Z",
     "start_time": "2020-12-18T21:57:07.342248Z"
    }
   },
   "outputs": [],
   "source": [
    "# pyc.interpret_model?"
   ]
  },
  {
   "cell_type": "code",
   "execution_count": 43,
   "metadata": {
    "ExecuteTime": {
     "end_time": "2020-12-18T21:57:07.428825Z",
     "start_time": "2020-12-18T21:57:07.409997Z"
    }
   },
   "outputs": [],
   "source": [
    "# interpret_model: SHAP\n",
    "# pyc.interpret_model(model_best)\n",
    "\n",
    "# note: logistic regression is not supported\n",
    "# supported: rf, xgboost, lightgbm, catboost, dt, et"
   ]
  },
  {
   "cell_type": "code",
   "execution_count": 44,
   "metadata": {
    "ExecuteTime": {
     "end_time": "2020-12-18T21:57:07.537549Z",
     "start_time": "2020-12-18T21:57:07.494823Z"
    }
   },
   "outputs": [],
   "source": [
    "# interpret model : Correlation\n",
    "# pyc.interpret_model(model_best_lr,plot='correlation')"
   ]
  },
  {
   "cell_type": "code",
   "execution_count": 45,
   "metadata": {
    "ExecuteTime": {
     "end_time": "2020-12-18T21:57:07.575100Z",
     "start_time": "2020-12-18T21:57:07.558870Z"
    }
   },
   "outputs": [],
   "source": [
    "# interpret model : Reason\n",
    "# pyc.interpret_model(model_best_lr,plot='reason',obervation=12)"
   ]
  },
  {
   "cell_type": "markdown",
   "metadata": {},
   "source": [
    "<a id=\"\" ></a>\n",
    "\n",
    "<h1>  Model Prediction </h1> \n",
    "\n",
    "<a href=\"#top\" class=\"btn btn-primary btn-sm\" role=\"button\" aria-pressed=\"true\" style=\"color:white\" data-toggle=\"popover\" title=\"go to TOC\">Go to Top</a>\n",
    "\n",
    "```python\n",
    "pyc.predict_model(\n",
    "    estimator,\n",
    "    data                  = None,\n",
    "    probability_threshold = None,\n",
    "    encoded_labels        = False,\n",
    "    round                 = 4,\n",
    "    verbose               = True,\n",
    ") -> pandas.core.frame.DataFrame\n",
    "```"
   ]
  },
  {
   "cell_type": "code",
   "execution_count": 46,
   "metadata": {
    "ExecuteTime": {
     "end_time": "2020-12-18T21:57:07.609894Z",
     "start_time": "2020-12-18T21:57:07.605080Z"
    }
   },
   "outputs": [],
   "source": [
    "# pyc.predict_model?"
   ]
  },
  {
   "cell_type": "code",
   "execution_count": 49,
   "metadata": {
    "ExecuteTime": {
     "end_time": "2020-12-18T21:57:24.226846Z",
     "start_time": "2020-12-18T21:57:24.214861Z"
    }
   },
   "outputs": [
    {
     "data": {
      "text/html": [
       "<div>\n",
       "<style scoped>\n",
       "    .dataframe tbody tr th:only-of-type {\n",
       "        vertical-align: middle;\n",
       "    }\n",
       "\n",
       "    .dataframe tbody tr th {\n",
       "        vertical-align: top;\n",
       "    }\n",
       "\n",
       "    .dataframe thead th {\n",
       "        text-align: right;\n",
       "    }\n",
       "</style>\n",
       "<table border=\"1\" class=\"dataframe\">\n",
       "  <thead>\n",
       "    <tr style=\"text-align: right;\">\n",
       "      <th></th>\n",
       "      <th>Contract_totCharges_diff</th>\n",
       "      <th>PayMeth_mean_monthCharges</th>\n",
       "      <th>PayMeth_monthCharges_diff</th>\n",
       "      <th>Tenure_cat</th>\n",
       "      <th>MonthlyCharges_cat</th>\n",
       "    </tr>\n",
       "  </thead>\n",
       "  <tbody>\n",
       "    <tr>\n",
       "      <th>0</th>\n",
       "      <td>-1313.937095</td>\n",
       "      <td>67.437658</td>\n",
       "      <td>-18.837658</td>\n",
       "      <td>0</td>\n",
       "      <td>0</td>\n",
       "    </tr>\n",
       "    <tr>\n",
       "      <th>1</th>\n",
       "      <td>1902.661398</td>\n",
       "      <td>67.437658</td>\n",
       "      <td>32.462342</td>\n",
       "      <td>4</td>\n",
       "      <td>0</td>\n",
       "    </tr>\n",
       "    <tr>\n",
       "      <th>2</th>\n",
       "      <td>1880.912905</td>\n",
       "      <td>63.914865</td>\n",
       "      <td>40.285135</td>\n",
       "      <td>2</td>\n",
       "      <td>0</td>\n",
       "    </tr>\n",
       "    <tr>\n",
       "      <th>3</th>\n",
       "      <td>-3545.288602</td>\n",
       "      <td>63.914865</td>\n",
       "      <td>-44.214865</td>\n",
       "      <td>1</td>\n",
       "      <td>0</td>\n",
       "    </tr>\n",
       "    <tr>\n",
       "      <th>4</th>\n",
       "      <td>-3415.038602</td>\n",
       "      <td>67.437658</td>\n",
       "      <td>-47.387658</td>\n",
       "      <td>1</td>\n",
       "      <td>0</td>\n",
       "    </tr>\n",
       "  </tbody>\n",
       "</table>\n",
       "</div>"
      ],
      "text/plain": [
       "   Contract_totCharges_diff  PayMeth_mean_monthCharges  \\\n",
       "0              -1313.937095                  67.437658   \n",
       "1               1902.661398                  67.437658   \n",
       "2               1880.912905                  63.914865   \n",
       "3              -3545.288602                  63.914865   \n",
       "4              -3415.038602                  67.437658   \n",
       "\n",
       "   PayMeth_monthCharges_diff  Tenure_cat  MonthlyCharges_cat  \n",
       "0                 -18.837658           0                   0  \n",
       "1                  32.462342           4                   0  \n",
       "2                  40.285135           2                   0  \n",
       "3                 -44.214865           1                   0  \n",
       "4                 -47.387658           1                   0  "
      ]
     },
     "execution_count": 49,
     "metadata": {},
     "output_type": "execute_result"
    }
   ],
   "source": [
    "df_test.iloc[:5,-5:]"
   ]
  },
  {
   "cell_type": "code",
   "execution_count": 50,
   "metadata": {
    "ExecuteTime": {
     "end_time": "2020-12-18T21:57:25.193132Z",
     "start_time": "2020-12-18T21:57:24.229846Z"
    }
   },
   "outputs": [
    {
     "data": {
      "text/html": [
       "<div>\n",
       "<style scoped>\n",
       "    .dataframe tbody tr th:only-of-type {\n",
       "        vertical-align: middle;\n",
       "    }\n",
       "\n",
       "    .dataframe tbody tr th {\n",
       "        vertical-align: top;\n",
       "    }\n",
       "\n",
       "    .dataframe thead th {\n",
       "        text-align: right;\n",
       "    }\n",
       "</style>\n",
       "<table border=\"1\" class=\"dataframe\">\n",
       "  <thead>\n",
       "    <tr style=\"text-align: right;\">\n",
       "      <th></th>\n",
       "      <th>PayMeth_monthCharges_diff</th>\n",
       "      <th>Tenure_cat</th>\n",
       "      <th>MonthlyCharges_cat</th>\n",
       "      <th>Label</th>\n",
       "      <th>Score</th>\n",
       "    </tr>\n",
       "  </thead>\n",
       "  <tbody>\n",
       "    <tr>\n",
       "      <th>0</th>\n",
       "      <td>-18.837658</td>\n",
       "      <td>0</td>\n",
       "      <td>0</td>\n",
       "      <td>1</td>\n",
       "      <td>0.5428</td>\n",
       "    </tr>\n",
       "    <tr>\n",
       "      <th>1</th>\n",
       "      <td>32.462342</td>\n",
       "      <td>4</td>\n",
       "      <td>0</td>\n",
       "      <td>0</td>\n",
       "      <td>0.7958</td>\n",
       "    </tr>\n",
       "    <tr>\n",
       "      <th>2</th>\n",
       "      <td>40.285135</td>\n",
       "      <td>2</td>\n",
       "      <td>0</td>\n",
       "      <td>1</td>\n",
       "      <td>0.6844</td>\n",
       "    </tr>\n",
       "    <tr>\n",
       "      <th>3</th>\n",
       "      <td>-44.214865</td>\n",
       "      <td>1</td>\n",
       "      <td>0</td>\n",
       "      <td>0</td>\n",
       "      <td>0.9529</td>\n",
       "    </tr>\n",
       "    <tr>\n",
       "      <th>4</th>\n",
       "      <td>-47.387658</td>\n",
       "      <td>1</td>\n",
       "      <td>0</td>\n",
       "      <td>0</td>\n",
       "      <td>0.9561</td>\n",
       "    </tr>\n",
       "  </tbody>\n",
       "</table>\n",
       "</div>"
      ],
      "text/plain": [
       "   PayMeth_monthCharges_diff  Tenure_cat  MonthlyCharges_cat  Label   Score\n",
       "0                 -18.837658           0                   0      1  0.5428\n",
       "1                  32.462342           4                   0      0  0.7958\n",
       "2                  40.285135           2                   0      1  0.6844\n",
       "3                 -44.214865           1                   0      0  0.9529\n",
       "4                 -47.387658           1                   0      0  0.9561"
      ]
     },
     "execution_count": 50,
     "metadata": {},
     "output_type": "execute_result"
    }
   ],
   "source": [
    "df_preds = pyc.predict_model(model_best,df_test)\n",
    "df_preds.iloc[:5,-5:]"
   ]
  },
  {
   "cell_type": "markdown",
   "metadata": {},
   "source": [
    "<a id=\"\" ></a>\n",
    "\n",
    "<h1>  Model Persistence </h1> \n",
    "\n",
    "<a href=\"#top\" class=\"btn btn-primary btn-sm\" role=\"button\" aria-pressed=\"true\" style=\"color:white\" data-toggle=\"popover\" title=\"go to TOC\">Go to Top</a>\n",
    "\n",
    "```python\n",
    "pyc.save_model(\n",
    "    model,\n",
    "    model_name,\n",
    "    model_only = False,\n",
    "    verbose    = True,\n",
    ")\n",
    "```"
   ]
  },
  {
   "cell_type": "code",
   "execution_count": 51,
   "metadata": {
    "ExecuteTime": {
     "end_time": "2020-12-18T21:57:25.248955Z",
     "start_time": "2020-12-18T21:57:25.236856Z"
    }
   },
   "outputs": [],
   "source": [
    "# pyc.save_model?"
   ]
  },
  {
   "cell_type": "code",
   "execution_count": 54,
   "metadata": {
    "ExecuteTime": {
     "end_time": "2020-12-18T21:57:46.001284Z",
     "start_time": "2020-12-18T21:57:45.998107Z"
    }
   },
   "outputs": [],
   "source": [
    "if 'google.colab' in sys.modules:\n",
    "    h = ''\n",
    "else:\n",
    "    h = \"../models/\""
   ]
  },
  {
   "cell_type": "code",
   "execution_count": 55,
   "metadata": {
    "ExecuteTime": {
     "end_time": "2020-12-18T21:57:46.166205Z",
     "start_time": "2020-12-18T21:57:46.008374Z"
    }
   },
   "outputs": [
    {
     "name": "stdout",
     "output_type": "stream",
     "text": [
      "Transformation Pipeline and Model Succesfully Saved\n"
     ]
    },
    {
     "data": {
      "text/plain": [
       "(Pipeline(memory=None,\n",
       "          steps=[('dtypes',\n",
       "                  DataTypes_Auto_infer(categorical_features=[],\n",
       "                                       display_types=False, features_todrop=[],\n",
       "                                       id_columns=[],\n",
       "                                       ml_usecase='classification',\n",
       "                                       numerical_features=[], target='Churn',\n",
       "                                       time_features=[])),\n",
       "                 ('imputer',\n",
       "                  Simple_Imputer(categorical_strategy='not_available',\n",
       "                                 fill_value_categorical=None,\n",
       "                                 fill_value_numerical=None,\n",
       "                                 numeric_strat...\n",
       "                 ('feature_select', 'passthrough'), ('fix_multi', 'passthrough'),\n",
       "                 ('dfs', 'passthrough'), ('pca', 'passthrough'),\n",
       "                 ['trained_model',\n",
       "                  LogisticRegression(C=4.454, class_weight='balanced',\n",
       "                                     dual=False, fit_intercept=True,\n",
       "                                     intercept_scaling=1, l1_ratio=None,\n",
       "                                     max_iter=1000, multi_class='auto',\n",
       "                                     n_jobs=None, penalty='l2', random_state=100,\n",
       "                                     solver='lbfgs', tol=0.0001, verbose=0,\n",
       "                                     warm_start=False)]],\n",
       "          verbose=False),\n",
       " '../models/model_best_lr_pycaret.pkl')"
      ]
     },
     "execution_count": 55,
     "metadata": {},
     "output_type": "execute_result"
    }
   ],
   "source": [
    "# save the model\n",
    "path_model = h + 'model_best_lr_pycaret' # .pkl will be added\n",
    "pyc.save_model(model_best, path_model)"
   ]
  },
  {
   "cell_type": "code",
   "execution_count": 56,
   "metadata": {
    "ExecuteTime": {
     "end_time": "2020-12-18T21:57:46.263361Z",
     "start_time": "2020-12-18T21:57:46.211387Z"
    }
   },
   "outputs": [
    {
     "name": "stdout",
     "output_type": "stream",
     "text": [
      "Transformation Pipeline and Model Successfully Loaded\n"
     ]
    }
   ],
   "source": [
    "# load model\n",
    "# WARNING: if we use load model, pyc.finalize will not work\n",
    "#          we need to have the whole experiment to use pyc.finalize\n",
    "loaded_model = pyc.load_model(model_name=path_model)"
   ]
  },
  {
   "cell_type": "code",
   "execution_count": 57,
   "metadata": {
    "ExecuteTime": {
     "end_time": "2020-12-18T21:57:46.356403Z",
     "start_time": "2020-12-18T21:57:46.322938Z"
    }
   },
   "outputs": [
    {
     "data": {
      "text/plain": [
       "Pipeline(memory=None,\n",
       "         steps=[('dtypes',\n",
       "                 DataTypes_Auto_infer(categorical_features=[],\n",
       "                                      display_types=False, features_todrop=[],\n",
       "                                      id_columns=[],\n",
       "                                      ml_usecase='classification',\n",
       "                                      numerical_features=[], target='Churn',\n",
       "                                      time_features=[])),\n",
       "                ('imputer',\n",
       "                 Simple_Imputer(categorical_strategy='not_available',\n",
       "                                fill_value_categorical=None,\n",
       "                                fill_value_numerical=None,\n",
       "                                numeric_strat...\n",
       "                ('feature_select', 'passthrough'), ('fix_multi', 'passthrough'),\n",
       "                ('dfs', 'passthrough'), ('pca', 'passthrough'),\n",
       "                ['trained_model',\n",
       "                 LogisticRegression(C=4.454, class_weight='balanced',\n",
       "                                    dual=False, fit_intercept=True,\n",
       "                                    intercept_scaling=1, l1_ratio=None,\n",
       "                                    max_iter=1000, multi_class='auto',\n",
       "                                    n_jobs=None, penalty='l2', random_state=100,\n",
       "                                    solver='lbfgs', tol=0.0001, verbose=0,\n",
       "                                    warm_start=False)]],\n",
       "         verbose=False)"
      ]
     },
     "execution_count": 57,
     "metadata": {},
     "output_type": "execute_result"
    }
   ],
   "source": [
    "loaded_model"
   ]
  },
  {
   "cell_type": "code",
   "execution_count": 58,
   "metadata": {
    "ExecuteTime": {
     "end_time": "2020-12-18T21:57:46.380791Z",
     "start_time": "2020-12-18T21:57:46.374421Z"
    }
   },
   "outputs": [],
   "source": [
    "# show_methods(pyc)"
   ]
  },
  {
   "cell_type": "code",
   "execution_count": 59,
   "metadata": {
    "ExecuteTime": {
     "end_time": "2020-12-18T21:57:46.414094Z",
     "start_time": "2020-12-18T21:57:46.403337Z"
    }
   },
   "outputs": [],
   "source": [
    "# from pycaret.classification import save_experiment\n",
    "\n",
    "# save entire experiment\n",
    "# exp_name = h + \"experiment_dec17_2020\"\n",
    "# pyc.save_experiment(exp_name)\n",
    "# saved_experiment = pyc.load_experiment(exp_name)\n",
    "\n",
    "# Does not work."
   ]
  },
  {
   "cell_type": "markdown",
   "metadata": {},
   "source": [
    "<a id=\"\" ></a>\n",
    "\n",
    "<h1>  Pycaret configs </h1> \n",
    "\n",
    "<a href=\"#top\" class=\"btn btn-primary btn-sm\" role=\"button\" aria-pressed=\"true\" style=\"color:white\" data-toggle=\"popover\" title=\"go to TOC\">Go to Top</a>\n",
    "\n",
    "```python\n",
    "    - X: Transformed dataset (X)\n",
    "    - y: Transformed dataset (y)  \n",
    "    - X_train: Transformed train dataset (X)\n",
    "    - X_test: Transformed test/holdout dataset (X)\n",
    "    - y_train: Transformed train dataset (y)\n",
    "    - y_test: Transformed test/holdout dataset (y)\n",
    "    - seed: random state set through session_id\n",
    "    - prep_pipe: Transformation pipeline\n",
    "    - fold_shuffle_param: shuffle parameter used in Kfolds\n",
    "    - n_jobs_param: n_jobs parameter used in model training\n",
    "    - html_param: html_param configured through setup\n",
    "    - create_model_container: results grid storage container\n",
    "    - master_model_container: model storage container\n",
    "    - display_container: results display container\n",
    "    - exp_name_log: Name of experiment\n",
    "    - logging_param: log_experiment param\n",
    "    - log_plots_param: log_plots param\n",
    "    - USI: Unique session ID parameter\n",
    "    - fix_imbalance_param: fix_imbalance param\n",
    "    - fix_imbalance_method_param: fix_imbalance_method param\n",
    "    - data_before_preprocess: data before preprocessing\n",
    "    - target_param: name of target variable\n",
    "    - gpu_param: use_gpu param configured through setup\n",
    "    - fold_generator: CV splitter configured in fold_strategy\n",
    "    - fold_param: fold params defined in the setup\n",
    "    - fold_groups_param: fold groups defined in the setup\n",
    "    - stratify_param: stratify parameter defined in the setup\n",
    "```"
   ]
  },
  {
   "cell_type": "code",
   "execution_count": 60,
   "metadata": {
    "ExecuteTime": {
     "end_time": "2020-12-18T21:57:46.442401Z",
     "start_time": "2020-12-18T21:57:46.431029Z"
    }
   },
   "outputs": [],
   "source": [
    "# help(pyc.get_config)"
   ]
  },
  {
   "cell_type": "code",
   "execution_count": 61,
   "metadata": {
    "ExecuteTime": {
     "end_time": "2020-12-18T21:57:46.485001Z",
     "start_time": "2020-12-18T21:57:46.453621Z"
    }
   },
   "outputs": [
    {
     "data": {
      "text/plain": [
       "((5634, 39), (1127, 60))"
      ]
     },
     "execution_count": 61,
     "metadata": {},
     "output_type": "execute_result"
    }
   ],
   "source": [
    "df_train.shape, pyc.get_config('X_test').shape # we have ohe columns."
   ]
  },
  {
   "cell_type": "markdown",
   "metadata": {},
   "source": [
    "<a id=\"\" ></a>\n",
    "\n",
    "<h1>  Finalize model (Fit whole train data) </h1> \n",
    "\n",
    "<a href=\"#top\" class=\"btn btn-primary btn-sm\" role=\"button\" aria-pressed=\"true\" style=\"color:white\" data-toggle=\"popover\" title=\"go to TOC\">Go to Top</a>\n",
    "\n",
    "```python\n",
    "pyc.finalize_model(\n",
    "    estimator,\n",
    "    fit_kwargs = None,\n",
    "    group      = None,\n",
    "    model_only = True,\n",
    ")\n",
    "\n",
    "Docstring:\n",
    "This function trains a given estimator on the entire dataset including the \n",
    "holdout set.\n",
    "```"
   ]
  },
  {
   "cell_type": "code",
   "execution_count": 62,
   "metadata": {
    "ExecuteTime": {
     "end_time": "2020-12-18T21:57:46.508816Z",
     "start_time": "2020-12-18T21:57:46.502513Z"
    }
   },
   "outputs": [],
   "source": [
    "# pyc.finalize_model?"
   ]
  },
  {
   "cell_type": "code",
   "execution_count": 63,
   "metadata": {
    "ExecuteTime": {
     "end_time": "2020-12-18T21:57:49.677206Z",
     "start_time": "2020-12-18T21:57:46.516541Z"
    }
   },
   "outputs": [
    {
     "name": "stdout",
     "output_type": "stream",
     "text": [
      "LogisticRegression(C=4.454, class_weight='balanced', dual=False,\n",
      "                   fit_intercept=True, intercept_scaling=1, l1_ratio=None,\n",
      "                   max_iter=1000, multi_class='auto', n_jobs=None, penalty='l2',\n",
      "                   random_state=100, solver='lbfgs', tol=0.0001, verbose=0,\n",
      "                   warm_start=False)\n"
     ]
    }
   ],
   "source": [
    "final_model = pyc.finalize_model(model_best)\n",
    "print(final_model)\n",
    "\n",
    "# This will fail, we have used pyc.load_model"
   ]
  },
  {
   "cell_type": "markdown",
   "metadata": {},
   "source": [
    "<a id=\"\" ></a>\n",
    "\n",
    "<h1>  Model Evaluation on Test Data </h1> \n",
    "\n",
    "<a href=\"#top\" class=\"btn btn-primary btn-sm\" role=\"button\" aria-pressed=\"true\" style=\"color:white\" data-toggle=\"popover\" title=\"go to TOC\">Go to Top</a>"
   ]
  },
  {
   "cell_type": "code",
   "execution_count": 65,
   "metadata": {
    "ExecuteTime": {
     "end_time": "2020-12-18T21:58:03.564057Z",
     "start_time": "2020-12-18T21:58:02.344141Z"
    }
   },
   "outputs": [
    {
     "data": {
      "text/html": [
       "<div>\n",
       "<style scoped>\n",
       "    .dataframe tbody tr th:only-of-type {\n",
       "        vertical-align: middle;\n",
       "    }\n",
       "\n",
       "    .dataframe tbody tr th {\n",
       "        vertical-align: top;\n",
       "    }\n",
       "\n",
       "    .dataframe thead th {\n",
       "        text-align: right;\n",
       "    }\n",
       "</style>\n",
       "<table border=\"1\" class=\"dataframe\">\n",
       "  <thead>\n",
       "    <tr style=\"text-align: right;\">\n",
       "      <th></th>\n",
       "      <th>PayMeth_monthCharges_diff</th>\n",
       "      <th>Tenure_cat</th>\n",
       "      <th>MonthlyCharges_cat</th>\n",
       "      <th>Label</th>\n",
       "      <th>Score</th>\n",
       "    </tr>\n",
       "  </thead>\n",
       "  <tbody>\n",
       "    <tr>\n",
       "      <th>1404</th>\n",
       "      <td>16.585135</td>\n",
       "      <td>0</td>\n",
       "      <td>0</td>\n",
       "      <td>1</td>\n",
       "      <td>0.7857</td>\n",
       "    </tr>\n",
       "    <tr>\n",
       "      <th>1405</th>\n",
       "      <td>-19.764865</td>\n",
       "      <td>3</td>\n",
       "      <td>0</td>\n",
       "      <td>0</td>\n",
       "      <td>0.7780</td>\n",
       "    </tr>\n",
       "    <tr>\n",
       "      <th>1406</th>\n",
       "      <td>6.085135</td>\n",
       "      <td>1</td>\n",
       "      <td>0</td>\n",
       "      <td>1</td>\n",
       "      <td>0.7212</td>\n",
       "    </tr>\n",
       "    <tr>\n",
       "      <th>1407</th>\n",
       "      <td>30.735135</td>\n",
       "      <td>1</td>\n",
       "      <td>0</td>\n",
       "      <td>1</td>\n",
       "      <td>0.8573</td>\n",
       "    </tr>\n",
       "    <tr>\n",
       "      <th>1408</th>\n",
       "      <td>-2.787658</td>\n",
       "      <td>1</td>\n",
       "      <td>0</td>\n",
       "      <td>0</td>\n",
       "      <td>0.5302</td>\n",
       "    </tr>\n",
       "  </tbody>\n",
       "</table>\n",
       "</div>"
      ],
      "text/plain": [
       "      PayMeth_monthCharges_diff  Tenure_cat  MonthlyCharges_cat  Label   Score\n",
       "1404                  16.585135           0                   0      1  0.7857\n",
       "1405                 -19.764865           3                   0      0  0.7780\n",
       "1406                   6.085135           1                   0      1  0.7212\n",
       "1407                  30.735135           1                   0      1  0.8573\n",
       "1408                  -2.787658           1                   0      0  0.5302"
      ]
     },
     "execution_count": 65,
     "metadata": {},
     "output_type": "execute_result"
    }
   ],
   "source": [
    "df_preds = pyc.predict_model(model_best,df_test)\n",
    "df_preds.iloc[-5:,-5:]"
   ]
  },
  {
   "cell_type": "code",
   "execution_count": 66,
   "metadata": {
    "ExecuteTime": {
     "end_time": "2020-12-18T21:58:03.685170Z",
     "start_time": "2020-12-18T21:58:03.678990Z"
    }
   },
   "outputs": [],
   "source": [
    "ytest = df_preds[target_name].to_numpy().ravel()\n",
    "yprobs = df_preds['Score'].to_numpy().ravel()\n",
    "ypreds = df_preds['Label'].to_numpy().ravel()\n",
    "\n",
    "yprobs2d = np.c_[1-yprobs,yprobs]"
   ]
  },
  {
   "cell_type": "code",
   "execution_count": 67,
   "metadata": {
    "ExecuteTime": {
     "end_time": "2020-12-18T21:58:05.033475Z",
     "start_time": "2020-12-18T21:58:03.707721Z"
    }
   },
   "outputs": [
    {
     "name": "stdout",
     "output_type": "stream",
     "text": [
      "              precision    recall  f1-score   support\n",
      "\n",
      "           0       0.91      0.73      0.81      1035\n",
      "           1       0.52      0.80      0.63       374\n",
      "\n",
      "    accuracy                           0.75      1409\n",
      "   macro avg       0.72      0.77      0.72      1409\n",
      "weighted avg       0.81      0.75      0.76      1409\n",
      "\n",
      "[[758 277]\n",
      " [ 74 300]]\n"
     ]
    },
    {
     "data": {
      "text/html": [
       "<style  type=\"text/css\" >\n",
       "</style><table id=\"T_1a452ce2_417c_11eb_a54f_acde48001122\" ><thead>    <tr>        <th class=\"blank level0\" ></th>        <th class=\"col_heading level0 col0\" >Accuracy</th>        <th class=\"col_heading level0 col1\" >Precision</th>        <th class=\"col_heading level0 col2\" >Recall</th>        <th class=\"col_heading level0 col3\" >F1-score</th>        <th class=\"col_heading level0 col4\" >AUC</th>    </tr></thead><tbody>\n",
       "                <tr>\n",
       "                        <th id=\"T_1a452ce2_417c_11eb_a54f_acde48001122level0_row0\" class=\"row_heading level0 row0\" >pycaret_lr</th>\n",
       "                        <td id=\"T_1a452ce2_417c_11eb_a54f_acde48001122row0_col0\" class=\"data row0 col0\" >0.7509</td>\n",
       "                        <td id=\"T_1a452ce2_417c_11eb_a54f_acde48001122row0_col1\" class=\"data row0 col1\" >0.5199</td>\n",
       "                        <td id=\"T_1a452ce2_417c_11eb_a54f_acde48001122row0_col2\" class=\"data row0 col2\" >0.8021</td>\n",
       "                        <td id=\"T_1a452ce2_417c_11eb_a54f_acde48001122row0_col3\" class=\"data row0 col3\" >0.6309</td>\n",
       "                        <td id=\"T_1a452ce2_417c_11eb_a54f_acde48001122row0_col4\" class=\"data row0 col4\" >0.7673</td>\n",
       "            </tr>\n",
       "    </tbody></table>"
      ],
      "text/plain": [
       "<pandas.io.formats.style.Styler at 0x7f910058aee0>"
      ]
     },
     "metadata": {},
     "output_type": "display_data"
    },
    {
     "data": {
      "image/png": "[encoded data removed]",
      "text/plain": [
       "<Figure size 576x396 with 1 Axes>"
      ]
     },
     "metadata": {},
     "output_type": "display_data"
    },
    {
     "data": {
      "image/png": "[encoded data removed]",
      "text/plain": [
       "<Figure size 576x396 with 1 Axes>"
      ]
     },
     "metadata": {},
     "output_type": "display_data"
    },
    {
     "data": {
      "image/png": "[encoded data removed]",
      "text/plain": [
       "<Figure size 576x396 with 2 Axes>"
      ]
     },
     "metadata": {},
     "output_type": "display_data"
    }
   ],
   "source": [
    "def model_eval_bin(model_name,ytest,ypreds,yprobs2d,show_plots=True):\n",
    "    import sklearn.metrics as skmetrics\n",
    "    import scikitplot.metrics as skpmetrics\n",
    "    import os\n",
    "\n",
    "    acc       = skmetrics.accuracy_score(ytest,ypreds)\n",
    "    precision = skmetrics.precision_score(ytest,ypreds)\n",
    "    recall    = skmetrics.recall_score(ytest,ypreds)\n",
    "    f1        = skmetrics.f1_score(ytest,ypreds)\n",
    "    auc       = skmetrics.roc_auc_score(ytest,ypreds)\n",
    "\n",
    "    print(skmetrics.classification_report(ytest,ypreds))\n",
    "    print(skmetrics.confusion_matrix(ytest,ypreds))\n",
    "\n",
    "    df_res = pd.DataFrame({'Accuracy':[acc],\n",
    "                          'Precision': [precision],\n",
    "                          'Recall': [recall],\n",
    "                          'F1-score': [f1],\n",
    "                          'AUC': [auc]},index=[model_name])\n",
    "\n",
    "    display(df_res.style.format(\"{:.4f}\"))\n",
    "    if not os.path.isdir('../outputs'):\n",
    "        os.makedirs('../outputs')\n",
    "    o = '.' if ENV_COLAB else '../outputs/'\n",
    "    df_res.to_csv(o+f'model_{model_name}.csv',index=True)\n",
    "\n",
    "    if show_plots:\n",
    "        skpmetrics.plot_precision_recall(ytest,yprobs2d) # more focus on minority\n",
    "        skpmetrics.plot_roc_curve(ytest,yprobs2d) # equal focus on both groups\n",
    "        skpmetrics.plot_confusion_matrix(ytest,ypreds)\n",
    "\n",
    "model_eval_bin('pycaret_lr',ytest,ypreds,yprobs2d,show_plots=True)"
   ]
  },
  {
   "cell_type": "code",
   "execution_count": 68,
   "metadata": {
    "ExecuteTime": {
     "end_time": "2020-12-18T21:58:05.085280Z",
     "start_time": "2020-12-18T21:58:05.067508Z"
    }
   },
   "outputs": [
    {
     "data": {
      "text/plain": [
       "0    1035\n",
       "1     374\n",
       "Name: Churn, dtype: int64"
      ]
     },
     "execution_count": 68,
     "metadata": {},
     "output_type": "execute_result"
    }
   ],
   "source": [
    "df_preds[target_name].value_counts()"
   ]
  },
  {
   "cell_type": "code",
   "execution_count": 69,
   "metadata": {
    "ExecuteTime": {
     "end_time": "2020-12-18T21:58:05.134112Z",
     "start_time": "2020-12-18T21:58:05.115160Z"
    }
   },
   "outputs": [
    {
     "data": {
      "text/plain": [
       "0    0.734564\n",
       "1    0.265436\n",
       "Name: Churn, dtype: float64"
      ]
     },
     "execution_count": 69,
     "metadata": {},
     "output_type": "execute_result"
    }
   ],
   "source": [
    "df_preds[target_name].value_counts(normalize=True)"
   ]
  },
  {
   "cell_type": "code",
   "execution_count": 70,
   "metadata": {
    "ExecuteTime": {
     "end_time": "2020-12-18T21:58:05.152648Z",
     "start_time": "2020-12-18T21:58:05.146350Z"
    }
   },
   "outputs": [],
   "source": [
    "\"\"\"\n",
    "There are total  374 churn cases in test dataset (20% of full data with seed=100)\n",
    "Out of which only 303 are correctly classified.\n",
    "\n",
    "This is great an improvement.\n",
    "The dataset it highly imbalanced. The dumb classifier will classify\n",
    "everything as non-churn.\n",
    "\"\"\";"
   ]
  },
  {
   "cell_type": "markdown",
   "metadata": {},
   "source": [
    "<a id=\"\" ></a>\n",
    "\n",
    "<h1>  Time Taken </h1> \n",
    "\n",
    "<a href=\"#top\" class=\"btn btn-primary btn-sm\" role=\"button\" aria-pressed=\"true\" style=\"color:white\" data-toggle=\"popover\" title=\"go to TOC\">Go to Top</a>"
   ]
  },
  {
   "cell_type": "code",
   "execution_count": 71,
   "metadata": {
    "ExecuteTime": {
     "end_time": "2020-12-18T21:58:05.181462Z",
     "start_time": "2020-12-18T21:58:05.165904Z"
    }
   },
   "outputs": [
    {
     "name": "stdout",
     "output_type": "stream",
     "text": [
      "Time taken to run whole notebook: 0 hr 7 min 14 secs\n"
     ]
    }
   ],
   "source": [
    "time_taken = time.time() - time_start_notebook\n",
    "h,m = divmod(time_taken,60*60)\n",
    "print('Time taken to run whole notebook: {:.0f} hr '\\\n",
    "      '{:.0f} min {:.0f} secs'.format(h, *divmod(m,60)))"
   ]
  },
  {
   "cell_type": "code",
   "execution_count": null,
   "metadata": {},
   "outputs": [],
   "source": []
  }
 ],
 "metadata": {
  "kernelspec": {
   "display_name": "Python38(pycaret)",
   "language": "python",
   "name": "pycaret"
  },
  "language_info": {
   "codemirror_mode": {
    "name": "ipython",
    "version": 3
   },
   "file_extension": ".py",
   "mimetype": "text/x-python",
   "name": "python",
   "nbconvert_exporter": "python",
   "pygments_lexer": "ipython3",
   "version": "3.8.5"
  },
  "toc": {
   "base_numbering": 1,
   "nav_menu": {},
   "number_sections": true,
   "sideBar": true,
   "skip_h1_title": false,
   "title_cell": "Table of Contents",
   "title_sidebar": "Contents",
   "toc_cell": false,
   "toc_position": {},
   "toc_section_display": true,
   "toc_window_display": false
  }
 },
 "nbformat": 4,
 "nbformat_minor": 4
}
