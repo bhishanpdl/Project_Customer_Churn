{
 "cells": [
  {
   "cell_type": "markdown",
   "metadata": {},
   "source": [
    "<a id=\"top\"></a>"
   ]
  },
  {
   "cell_type": "markdown",
   "metadata": {},
   "source": [
    "<div class=\"alert alert-block alert-success\">\n",
    "<b>Kernel Author:</b>  <br>\n",
    "<a href=\"https://bhishanpdl.github.io/\" , target=\"_blank\">Bhishan Poudel, Ph.D Astrophysics</a> .\n",
    "</div>"
   ]
  },
  {
   "cell_type": "markdown",
   "metadata": {},
   "source": [
    "<a id=\"data-desc\"></a>\n",
    "\n",
    "<h1> Data Description </h1>\n",
    "\n",
    "<a href=\"#top\" class=\"btn btn-primary btn-sm\" role=\"button\" aria-pressed=\"true\" style=\"color:white\" data-toggle=\"popover\" title=\"go to TOC\">Go to Top</a>\n",
    "\n",
    "The data is taken from kaggle competition [Telco Customer Churn](https://www.kaggle.com/blastchar/telco-customer-churn). The main aim of the project is to predict whether a customer will leave (churn) the company or not based on given attributes. This is a binary classification problem and one of the most important usage of machine learning in business world.\n",
    "\n",
    "**Content**  \n",
    "\n",
    "\n",
    "\n",
    "Each row represents a customer, each column contains customer’s attributes described on the column Metadata.\n",
    "\n",
    "The data set includes information about:\n",
    "\n",
    "- Customers who left within the last month – the column is called Churn\n",
    "- Services that each customer has signed up for – phone, multiple lines, internet, online security, online backup, device protection, tech support, and streaming TV and movies\n",
    "- Customer account information – how long they’ve been a customer, contract, payment method, paperless billing, monthly charges, and total charges\n",
    "- Demographic info about customers – gender, age range, and if they have partners and dependents\n",
    "\n",
    "\n",
    "References\n",
    "- [Exploratory Analysis with Seaborn](https://www.kaggle.com/jsaguiar/exploratory-analysis-with-seaborn)\n",
    "- [Interactive exploration Churn Customers + modeling](https://www.kaggle.com/kabure/insightful-eda-churn-customers-models-pipeline)"
   ]
  },
  {
   "cell_type": "markdown",
   "metadata": {},
   "source": [
    "<a id=\"lib\"></a>\n",
    "\n",
    "<h1> Load the libraries </h1>\n",
    "\n",
    "<a href=\"#top\" class=\"btn btn-primary btn-sm\" role=\"button\" aria-pressed=\"true\" style=\"color:white\" data-toggle=\"popover\" title=\"go to TOC\">Go to Top</a>"
   ]
  },
  {
   "cell_type": "code",
   "execution_count": 1,
   "metadata": {
    "ExecuteTime": {
     "end_time": "2020-12-16T21:16:06.457200Z",
     "start_time": "2020-12-16T21:16:05.384267Z"
    }
   },
   "outputs": [
    {
     "name": "stdout",
     "output_type": "stream",
     "text": [
      "numpy    1.18.4\n",
      "seaborn  0.11.0\n",
      "json     2.0.9\n",
      "pandas   1.1.0\n",
      "autopep8 1.5.2\n",
      "\n"
     ]
    }
   ],
   "source": [
    "import numpy as np\n",
    "import pandas as pd\n",
    "import seaborn as sns\n",
    "import os,sys,time\n",
    "import matplotlib.pyplot as plt\n",
    "sns.set()\n",
    "\n",
    "SEED = 100\n",
    "pd.set_option('max_columns',100)\n",
    "pd.set_option('max_colwidth',200)\n",
    "pd.set_option('plotting.backend','matplotlib') # matplotlib, bokeh, altair, plotly\n",
    "%load_ext watermark\n",
    "%watermark -iv"
   ]
  },
  {
   "cell_type": "code",
   "execution_count": 2,
   "metadata": {
    "ExecuteTime": {
     "end_time": "2020-12-16T21:16:06.464171Z",
     "start_time": "2020-12-16T21:16:06.459170Z"
    }
   },
   "outputs": [],
   "source": [
    "%%capture\n",
    "import os\n",
    "import sys\n",
    "ENV_COLAB = 'google.colab' in sys.modules\n",
    "\n",
    "if ENV_COLAB:\n",
    "    ## install modules\n",
    "    !pip install watermark"
   ]
  },
  {
   "cell_type": "markdown",
   "metadata": {},
   "source": [
    "<a id=\"useful\" ></a>\n",
    "\n",
    "<h1> Useful Scripts </h1> \n",
    "\n",
    "<a href=\"#top\" class=\"btn btn-primary btn-sm\" role=\"button\" aria-pressed=\"true\" style=\"color:white\" data-toggle=\"popover\" title=\"go to TOC\">Go to Top</a>"
   ]
  },
  {
   "cell_type": "code",
   "execution_count": 3,
   "metadata": {
    "ExecuteTime": {
     "end_time": "2020-12-16T21:16:06.471209Z",
     "start_time": "2020-12-16T21:16:06.466748Z"
    }
   },
   "outputs": [],
   "source": [
    "def show_methods(obj, ncols=4,contains=None):\n",
    "    lst = [i for i in dir(obj) if i[0]!='_' ]\n",
    "    if contains is not None:\n",
    "        lst = [i for i in lst if contains in i]\n",
    "    df = pd.DataFrame(np.array_split(lst,ncols)).T.fillna('')\n",
    "    return df"
   ]
  },
  {
   "cell_type": "markdown",
   "metadata": {},
   "source": [
    "<a id=\"load-data\" ></a>\n",
    "\n",
    "<h1> Load the Data </h1> \n",
    "\n",
    "<a href=\"#top\" class=\"btn btn-primary btn-sm\" role=\"button\" aria-pressed=\"true\" style=\"color:white\" data-toggle=\"popover\" title=\"go to TOC\">Go to Top</a>"
   ]
  },
  {
   "cell_type": "code",
   "execution_count": 4,
   "metadata": {
    "ExecuteTime": {
     "end_time": "2020-12-16T21:16:06.481826Z",
     "start_time": "2020-12-16T21:16:06.479113Z"
    }
   },
   "outputs": [],
   "source": [
    "path_data_train = '../data/raw/train.csv'\n",
    "path_data_test = '../data/raw/test.csv'\n",
    "\n",
    "if ENV_COLAB:\n",
    "    path_data_train = 'https://github.com/bhishanpdl/Datasets/raw/master/Projects/Telco_Customer_Churn/raw/train.csv'\n",
    "    path_data_test = 'https://github.com/bhishanpdl/Datasets/raw/master/Projects/Telco_Customer_Churn/raw/train.csv'"
   ]
  },
  {
   "cell_type": "code",
   "execution_count": 5,
   "metadata": {
    "ExecuteTime": {
     "end_time": "2020-12-16T21:16:06.571643Z",
     "start_time": "2020-12-16T21:16:06.485353Z"
    }
   },
   "outputs": [
    {
     "name": "stdout",
     "output_type": "stream",
     "text": [
      "(5634, 21)\n",
      "(1409, 21)\n"
     ]
    },
    {
     "data": {
      "text/html": [
       "<div>\n",
       "<style scoped>\n",
       "    .dataframe tbody tr th:only-of-type {\n",
       "        vertical-align: middle;\n",
       "    }\n",
       "\n",
       "    .dataframe tbody tr th {\n",
       "        vertical-align: top;\n",
       "    }\n",
       "\n",
       "    .dataframe thead th {\n",
       "        text-align: right;\n",
       "    }\n",
       "</style>\n",
       "<table border=\"1\" class=\"dataframe\">\n",
       "  <thead>\n",
       "    <tr style=\"text-align: right;\">\n",
       "      <th></th>\n",
       "      <th>customerID</th>\n",
       "      <th>gender</th>\n",
       "      <th>SeniorCitizen</th>\n",
       "      <th>Partner</th>\n",
       "      <th>Dependents</th>\n",
       "      <th>tenure</th>\n",
       "      <th>PhoneService</th>\n",
       "      <th>MultipleLines</th>\n",
       "      <th>InternetService</th>\n",
       "      <th>OnlineSecurity</th>\n",
       "      <th>OnlineBackup</th>\n",
       "      <th>DeviceProtection</th>\n",
       "      <th>TechSupport</th>\n",
       "      <th>StreamingTV</th>\n",
       "      <th>StreamingMovies</th>\n",
       "      <th>Contract</th>\n",
       "      <th>PaperlessBilling</th>\n",
       "      <th>PaymentMethod</th>\n",
       "      <th>MonthlyCharges</th>\n",
       "      <th>TotalCharges</th>\n",
       "      <th>Churn</th>\n",
       "    </tr>\n",
       "  </thead>\n",
       "  <tbody>\n",
       "    <tr>\n",
       "      <th>0</th>\n",
       "      <td>1621-YNCJH</td>\n",
       "      <td>Female</td>\n",
       "      <td>0</td>\n",
       "      <td>Yes</td>\n",
       "      <td>No</td>\n",
       "      <td>36</td>\n",
       "      <td>Yes</td>\n",
       "      <td>Yes</td>\n",
       "      <td>Fiber optic</td>\n",
       "      <td>Yes</td>\n",
       "      <td>Yes</td>\n",
       "      <td>Yes</td>\n",
       "      <td>Yes</td>\n",
       "      <td>No</td>\n",
       "      <td>Yes</td>\n",
       "      <td>Two year</td>\n",
       "      <td>Yes</td>\n",
       "      <td>Credit card (automatic)</td>\n",
       "      <td>106.05</td>\n",
       "      <td>3834.4</td>\n",
       "      <td>No</td>\n",
       "    </tr>\n",
       "    <tr>\n",
       "      <th>1</th>\n",
       "      <td>7143-BQIBA</td>\n",
       "      <td>Male</td>\n",
       "      <td>0</td>\n",
       "      <td>No</td>\n",
       "      <td>No</td>\n",
       "      <td>10</td>\n",
       "      <td>Yes</td>\n",
       "      <td>No</td>\n",
       "      <td>DSL</td>\n",
       "      <td>Yes</td>\n",
       "      <td>No</td>\n",
       "      <td>No</td>\n",
       "      <td>Yes</td>\n",
       "      <td>Yes</td>\n",
       "      <td>No</td>\n",
       "      <td>Month-to-month</td>\n",
       "      <td>No</td>\n",
       "      <td>Bank transfer (automatic)</td>\n",
       "      <td>62.25</td>\n",
       "      <td>612.95</td>\n",
       "      <td>No</td>\n",
       "    </tr>\n",
       "    <tr>\n",
       "      <th>5632</th>\n",
       "      <td>0862-PRCBS</td>\n",
       "      <td>Female</td>\n",
       "      <td>0</td>\n",
       "      <td>Yes</td>\n",
       "      <td>Yes</td>\n",
       "      <td>68</td>\n",
       "      <td>Yes</td>\n",
       "      <td>Yes</td>\n",
       "      <td>Fiber optic</td>\n",
       "      <td>No</td>\n",
       "      <td>Yes</td>\n",
       "      <td>No</td>\n",
       "      <td>Yes</td>\n",
       "      <td>Yes</td>\n",
       "      <td>Yes</td>\n",
       "      <td>Two year</td>\n",
       "      <td>Yes</td>\n",
       "      <td>Credit card (automatic)</td>\n",
       "      <td>103.75</td>\n",
       "      <td>7039.45</td>\n",
       "      <td>No</td>\n",
       "    </tr>\n",
       "    <tr>\n",
       "      <th>5633</th>\n",
       "      <td>4656-CAURT</td>\n",
       "      <td>Male</td>\n",
       "      <td>0</td>\n",
       "      <td>No</td>\n",
       "      <td>No</td>\n",
       "      <td>69</td>\n",
       "      <td>Yes</td>\n",
       "      <td>Yes</td>\n",
       "      <td>No</td>\n",
       "      <td>No internet service</td>\n",
       "      <td>No internet service</td>\n",
       "      <td>No internet service</td>\n",
       "      <td>No internet service</td>\n",
       "      <td>No internet service</td>\n",
       "      <td>No internet service</td>\n",
       "      <td>Two year</td>\n",
       "      <td>No</td>\n",
       "      <td>Bank transfer (automatic)</td>\n",
       "      <td>23.95</td>\n",
       "      <td>1713.1</td>\n",
       "      <td>No</td>\n",
       "    </tr>\n",
       "  </tbody>\n",
       "</table>\n",
       "</div>"
      ],
      "text/plain": [
       "      customerID  gender  SeniorCitizen Partner Dependents  tenure  \\\n",
       "0     1621-YNCJH  Female              0     Yes         No      36   \n",
       "1     7143-BQIBA    Male              0      No         No      10   \n",
       "5632  0862-PRCBS  Female              0     Yes        Yes      68   \n",
       "5633  4656-CAURT    Male              0      No         No      69   \n",
       "\n",
       "     PhoneService MultipleLines InternetService       OnlineSecurity  \\\n",
       "0             Yes           Yes     Fiber optic                  Yes   \n",
       "1             Yes            No             DSL                  Yes   \n",
       "5632          Yes           Yes     Fiber optic                   No   \n",
       "5633          Yes           Yes              No  No internet service   \n",
       "\n",
       "             OnlineBackup     DeviceProtection          TechSupport  \\\n",
       "0                     Yes                  Yes                  Yes   \n",
       "1                      No                   No                  Yes   \n",
       "5632                  Yes                   No                  Yes   \n",
       "5633  No internet service  No internet service  No internet service   \n",
       "\n",
       "              StreamingTV      StreamingMovies        Contract  \\\n",
       "0                      No                  Yes        Two year   \n",
       "1                     Yes                   No  Month-to-month   \n",
       "5632                  Yes                  Yes        Two year   \n",
       "5633  No internet service  No internet service        Two year   \n",
       "\n",
       "     PaperlessBilling              PaymentMethod  MonthlyCharges TotalCharges  \\\n",
       "0                 Yes    Credit card (automatic)          106.05       3834.4   \n",
       "1                  No  Bank transfer (automatic)           62.25       612.95   \n",
       "5632              Yes    Credit card (automatic)          103.75      7039.45   \n",
       "5633               No  Bank transfer (automatic)           23.95       1713.1   \n",
       "\n",
       "     Churn  \n",
       "0       No  \n",
       "1       No  \n",
       "5632    No  \n",
       "5633    No  "
      ]
     },
     "execution_count": 5,
     "metadata": {},
     "output_type": "execute_result"
    }
   ],
   "source": [
    "df_train = pd.read_csv(path_data_train)\n",
    "df_test = pd.read_csv(path_data_test)\n",
    "\n",
    "print(df_train.shape)\n",
    "print(df_test.shape)\n",
    "df_train.head(2).append(df_train.tail(2))"
   ]
  },
  {
   "cell_type": "code",
   "execution_count": 6,
   "metadata": {
    "ExecuteTime": {
     "end_time": "2020-12-16T21:16:06.579190Z",
     "start_time": "2020-12-16T21:16:06.575205Z"
    }
   },
   "outputs": [],
   "source": [
    "target_name = 'Churn'"
   ]
  },
  {
   "cell_type": "markdown",
   "metadata": {},
   "source": [
    "<a id=\"eda\" ></a>\n",
    "\n",
    "<h1> Data Processing  </h1> \n",
    "\n",
    "<a href=\"#top\" class=\"btn btn-primary btn-sm\" role=\"button\" aria-pressed=\"true\" style=\"color:white\" data-toggle=\"popover\" title=\"go to TOC\">Go to Top</a>"
   ]
  },
  {
   "cell_type": "code",
   "execution_count": 7,
   "metadata": {
    "ExecuteTime": {
     "end_time": "2020-12-16T21:16:06.585822Z",
     "start_time": "2020-12-16T21:16:06.582051Z"
    }
   },
   "outputs": [],
   "source": [
    "is_train = True\n",
    "\n",
    "if is_train:\n",
    "    df = df_train\n",
    "    path_data_clean = '../data/processed/train_cleaned.csv'\n",
    "else:\n",
    "    df = df_test\n",
    "    path_data_clean = '../data/processed/test_cleaned.csv'"
   ]
  },
  {
   "cell_type": "markdown",
   "metadata": {
    "ExecuteTime": {
     "end_time": "2020-12-14T21:11:55.295996Z",
     "start_time": "2020-12-14T21:11:55.201731Z"
    }
   },
   "source": [
    "<a id=\"\" ></a>\n",
    "\n",
    "<h2>  Delete Unwanted Features </h2> \n",
    "\n",
    "<a href=\"#top\" class=\"btn btn-primary btn-sm\" role=\"button\" aria-pressed=\"true\" style=\"color:white\" data-toggle=\"popover\" title=\"go to TOC\">Go to Top</a>"
   ]
  },
  {
   "cell_type": "code",
   "execution_count": 8,
   "metadata": {
    "ExecuteTime": {
     "end_time": "2020-12-16T21:16:06.594907Z",
     "start_time": "2020-12-16T21:16:06.588432Z"
    }
   },
   "outputs": [],
   "source": [
    "cols_drop = ['customerID']\n",
    "df = df.drop(cols_drop,axis=1)\n",
    "\n",
    "# capitalize features\n",
    "df = df.rename(columns=lambda x: x[0].capitalize()+x[1:].strip())"
   ]
  },
  {
   "cell_type": "markdown",
   "metadata": {},
   "source": [
    "<a id=\"\" ></a>\n",
    "\n",
    "<h2>  Data Types</h2> \n",
    "\n",
    "<a href=\"#top\" class=\"btn btn-primary btn-sm\" role=\"button\" aria-pressed=\"true\" style=\"color:white\" data-toggle=\"popover\" title=\"go to TOC\">Go to Top</a>"
   ]
  },
  {
   "cell_type": "code",
   "execution_count": 9,
   "metadata": {
    "ExecuteTime": {
     "end_time": "2020-12-16T21:16:06.612577Z",
     "start_time": "2020-12-16T21:16:06.605522Z"
    }
   },
   "outputs": [],
   "source": [
    "df['TotalCharges'] = pd.to_numeric(df['TotalCharges'],\n",
    "                                   errors='coerce').fillna(0)\n",
    "\n",
    "# paid 0 money to company"
   ]
  },
  {
   "cell_type": "markdown",
   "metadata": {},
   "source": [
    "<a id=\"\" ></a>\n",
    "\n",
    "<h2>  Label Encoding </h2> \n",
    "\n",
    "<a href=\"#top\" class=\"btn btn-primary btn-sm\" role=\"button\" aria-pressed=\"true\" style=\"color:white\" data-toggle=\"popover\" title=\"go to TOC\">Go to Top</a>"
   ]
  },
  {
   "cell_type": "code",
   "execution_count": 10,
   "metadata": {
    "ExecuteTime": {
     "end_time": "2020-12-16T21:16:06.662087Z",
     "start_time": "2020-12-16T21:16:06.626094Z"
    }
   },
   "outputs": [
    {
     "data": {
      "text/plain": [
       "Gender                                                                                    [Female, Male]\n",
       "Partner                                                                                        [Yes, No]\n",
       "Dependents                                                                                     [No, Yes]\n",
       "PhoneService                                                                                   [Yes, No]\n",
       "MultipleLines                                                                [Yes, No, No phone service]\n",
       "InternetService                                                                   [Fiber optic, DSL, No]\n",
       "OnlineSecurity                                                            [Yes, No internet service, No]\n",
       "OnlineBackup                                                              [Yes, No, No internet service]\n",
       "DeviceProtection                                                          [Yes, No, No internet service]\n",
       "TechSupport                                                               [Yes, No internet service, No]\n",
       "StreamingTV                                                               [No, Yes, No internet service]\n",
       "StreamingMovies                                                           [Yes, No, No internet service]\n",
       "Contract                                                            [Two year, Month-to-month, One year]\n",
       "PaperlessBilling                                                                               [Yes, No]\n",
       "PaymentMethod       [Credit card (automatic), Bank transfer (automatic), Mailed check, Electronic check]\n",
       "Churn                                                                                          [No, Yes]\n",
       "dtype: object"
      ]
     },
     "execution_count": 10,
     "metadata": {},
     "output_type": "execute_result"
    }
   ],
   "source": [
    "cols_obj = df.select_dtypes('object').columns.tolist()\n",
    "cols_obj2 = [i for i in cols_obj if i not in ['TotalCharges']]\n",
    "df[cols_obj2].apply(lambda x: pd.Series.unique(x))"
   ]
  },
  {
   "cell_type": "code",
   "execution_count": 11,
   "metadata": {
    "ExecuteTime": {
     "end_time": "2020-12-16T21:16:06.670850Z",
     "start_time": "2020-12-16T21:16:06.664595Z"
    }
   },
   "outputs": [
    {
     "data": {
      "text/plain": [
       "{'a': 0, 'b': 1}"
      ]
     },
     "execution_count": 11,
     "metadata": {},
     "output_type": "execute_result"
    }
   ],
   "source": [
    "dict(zip(['a','b'],range(len(['a','b']))))\n",
    "\n"
   ]
  },
  {
   "cell_type": "code",
   "execution_count": 12,
   "metadata": {
    "ExecuteTime": {
     "end_time": "2020-12-16T21:16:06.702410Z",
     "start_time": "2020-12-16T21:16:06.674220Z"
    }
   },
   "outputs": [
    {
     "data": {
      "text/plain": [
       "{'Gender': {'Female': 0, 'Male': 1},\n",
       " 'Partner': {'No': 0, 'Yes': 1},\n",
       " 'Dependents': {'No': 0, 'Yes': 1},\n",
       " 'PhoneService': {'No': 0, 'Yes': 1},\n",
       " 'MultipleLines': {'No': 0, 'No phone service': 1, 'Yes': 2},\n",
       " 'InternetService': {'DSL': 0, 'Fiber optic': 1, 'No': 2},\n",
       " 'OnlineSecurity': {'No': 0, 'No internet service': 1, 'Yes': 2},\n",
       " 'OnlineBackup': {'No': 0, 'No internet service': 1, 'Yes': 2},\n",
       " 'DeviceProtection': {'No': 0, 'No internet service': 1, 'Yes': 2},\n",
       " 'TechSupport': {'No': 0, 'No internet service': 1, 'Yes': 2},\n",
       " 'StreamingTV': {'No': 0, 'No internet service': 1, 'Yes': 2},\n",
       " 'StreamingMovies': {'No': 0, 'No internet service': 1, 'Yes': 2},\n",
       " 'Contract': {'Month-to-month': 0, 'One year': 1, 'Two year': 2},\n",
       " 'PaperlessBilling': {'No': 0, 'Yes': 1},\n",
       " 'PaymentMethod': {'Bank transfer (automatic)': 0,\n",
       "  'Credit card (automatic)': 1,\n",
       "  'Electronic check': 2,\n",
       "  'Mailed check': 3},\n",
       " 'Churn': {'No': 0, 'Yes': 1}}"
      ]
     },
     "execution_count": 12,
     "metadata": {},
     "output_type": "execute_result"
    }
   ],
   "source": [
    "s = df[cols_obj2].apply(lambda x: dict(zip(sorted(pd.Series.unique(x)),range(len(pd.Series.unique(x))))))\n",
    "s.index = cols_obj2\n",
    "s.to_dict()"
   ]
  },
  {
   "cell_type": "code",
   "execution_count": 13,
   "metadata": {
    "ExecuteTime": {
     "end_time": "2020-12-16T21:16:06.746582Z",
     "start_time": "2020-12-16T21:16:06.705899Z"
    }
   },
   "outputs": [],
   "source": [
    "label_encoding = {\n",
    "    'Gender': {'Female': 0, 'Male': 1},\n",
    "    'Partner': {'No': 0, 'Yes': 1},\n",
    "    'Dependents': {'No': 0, 'Yes': 1},\n",
    "    'PhoneService': {'No': 0, 'Yes': 1},\n",
    "    'MultipleLines': {'No': 0, 'No phone service': 1, 'Yes': 2},\n",
    "    'InternetService': {'DSL': 0, 'Fiber optic': 1, 'No': 2},\n",
    "    'OnlineSecurity': {'No': 0, 'No internet service': 1, 'Yes': 2},\n",
    "    'OnlineBackup': {'No': 0, 'No internet service': 1, 'Yes': 2},\n",
    "    'DeviceProtection': {'No': 0, 'No internet service': 1, 'Yes': 2},\n",
    "    'TechSupport': {'No': 0, 'No internet service': 1, 'Yes': 2},\n",
    "    'StreamingTV': {'No': 0, 'No internet service': 1, 'Yes': 2},\n",
    "    'StreamingMovies': {'No': 0, 'No internet service': 1, 'Yes': 2},\n",
    "    'Contract': {'Month-to-month': 0, 'One year': 1, 'Two year': 2},\n",
    "    'PaperlessBilling': {'No': 0, 'Yes': 1},\n",
    "    'PaymentMethod': \n",
    "        {'Bank transfer (automatic)': 1,\n",
    "         'Credit card (automatic)': 1,\n",
    "         'Electronic check': 0,\n",
    "         'Mailed check': 0},\n",
    "    'Churn': {'No': 0, 'Yes': 1}\n",
    "    }\n",
    "\n",
    "for col, dict_map in label_encoding.items():\n",
    "    df[col] = df[col].map(dict_map)"
   ]
  },
  {
   "cell_type": "code",
   "execution_count": 14,
   "metadata": {
    "ExecuteTime": {
     "end_time": "2020-12-16T21:16:06.766690Z",
     "start_time": "2020-12-16T21:16:06.749164Z"
    }
   },
   "outputs": [
    {
     "data": {
      "text/html": [
       "<div>\n",
       "<style scoped>\n",
       "    .dataframe tbody tr th:only-of-type {\n",
       "        vertical-align: middle;\n",
       "    }\n",
       "\n",
       "    .dataframe tbody tr th {\n",
       "        vertical-align: top;\n",
       "    }\n",
       "\n",
       "    .dataframe thead th {\n",
       "        text-align: right;\n",
       "    }\n",
       "</style>\n",
       "<table border=\"1\" class=\"dataframe\">\n",
       "  <thead>\n",
       "    <tr style=\"text-align: right;\">\n",
       "      <th></th>\n",
       "      <th>Gender</th>\n",
       "      <th>SeniorCitizen</th>\n",
       "      <th>Partner</th>\n",
       "      <th>Dependents</th>\n",
       "      <th>Tenure</th>\n",
       "      <th>PhoneService</th>\n",
       "      <th>MultipleLines</th>\n",
       "      <th>InternetService</th>\n",
       "      <th>OnlineSecurity</th>\n",
       "      <th>OnlineBackup</th>\n",
       "      <th>DeviceProtection</th>\n",
       "      <th>TechSupport</th>\n",
       "      <th>StreamingTV</th>\n",
       "      <th>StreamingMovies</th>\n",
       "      <th>Contract</th>\n",
       "      <th>PaperlessBilling</th>\n",
       "      <th>PaymentMethod</th>\n",
       "      <th>MonthlyCharges</th>\n",
       "      <th>TotalCharges</th>\n",
       "      <th>Churn</th>\n",
       "    </tr>\n",
       "  </thead>\n",
       "  <tbody>\n",
       "    <tr>\n",
       "      <th>0</th>\n",
       "      <td>0</td>\n",
       "      <td>0</td>\n",
       "      <td>1</td>\n",
       "      <td>0</td>\n",
       "      <td>36</td>\n",
       "      <td>1</td>\n",
       "      <td>2</td>\n",
       "      <td>1</td>\n",
       "      <td>2</td>\n",
       "      <td>2</td>\n",
       "      <td>2</td>\n",
       "      <td>2</td>\n",
       "      <td>0</td>\n",
       "      <td>2</td>\n",
       "      <td>2</td>\n",
       "      <td>1</td>\n",
       "      <td>1</td>\n",
       "      <td>106.05</td>\n",
       "      <td>3834.40</td>\n",
       "      <td>0</td>\n",
       "    </tr>\n",
       "    <tr>\n",
       "      <th>1</th>\n",
       "      <td>1</td>\n",
       "      <td>0</td>\n",
       "      <td>0</td>\n",
       "      <td>0</td>\n",
       "      <td>10</td>\n",
       "      <td>1</td>\n",
       "      <td>0</td>\n",
       "      <td>0</td>\n",
       "      <td>2</td>\n",
       "      <td>0</td>\n",
       "      <td>0</td>\n",
       "      <td>2</td>\n",
       "      <td>2</td>\n",
       "      <td>0</td>\n",
       "      <td>0</td>\n",
       "      <td>0</td>\n",
       "      <td>1</td>\n",
       "      <td>62.25</td>\n",
       "      <td>612.95</td>\n",
       "      <td>0</td>\n",
       "    </tr>\n",
       "    <tr>\n",
       "      <th>2</th>\n",
       "      <td>1</td>\n",
       "      <td>0</td>\n",
       "      <td>1</td>\n",
       "      <td>1</td>\n",
       "      <td>25</td>\n",
       "      <td>1</td>\n",
       "      <td>0</td>\n",
       "      <td>2</td>\n",
       "      <td>1</td>\n",
       "      <td>1</td>\n",
       "      <td>1</td>\n",
       "      <td>1</td>\n",
       "      <td>1</td>\n",
       "      <td>1</td>\n",
       "      <td>0</td>\n",
       "      <td>1</td>\n",
       "      <td>0</td>\n",
       "      <td>19.15</td>\n",
       "      <td>477.60</td>\n",
       "      <td>0</td>\n",
       "    </tr>\n",
       "    <tr>\n",
       "      <th>3</th>\n",
       "      <td>0</td>\n",
       "      <td>0</td>\n",
       "      <td>0</td>\n",
       "      <td>0</td>\n",
       "      <td>7</td>\n",
       "      <td>1</td>\n",
       "      <td>0</td>\n",
       "      <td>2</td>\n",
       "      <td>1</td>\n",
       "      <td>1</td>\n",
       "      <td>1</td>\n",
       "      <td>1</td>\n",
       "      <td>1</td>\n",
       "      <td>1</td>\n",
       "      <td>0</td>\n",
       "      <td>0</td>\n",
       "      <td>1</td>\n",
       "      <td>20.00</td>\n",
       "      <td>137.60</td>\n",
       "      <td>1</td>\n",
       "    </tr>\n",
       "    <tr>\n",
       "      <th>4</th>\n",
       "      <td>0</td>\n",
       "      <td>1</td>\n",
       "      <td>0</td>\n",
       "      <td>0</td>\n",
       "      <td>24</td>\n",
       "      <td>1</td>\n",
       "      <td>0</td>\n",
       "      <td>2</td>\n",
       "      <td>1</td>\n",
       "      <td>1</td>\n",
       "      <td>1</td>\n",
       "      <td>1</td>\n",
       "      <td>1</td>\n",
       "      <td>1</td>\n",
       "      <td>0</td>\n",
       "      <td>1</td>\n",
       "      <td>0</td>\n",
       "      <td>20.30</td>\n",
       "      <td>459.95</td>\n",
       "      <td>0</td>\n",
       "    </tr>\n",
       "  </tbody>\n",
       "</table>\n",
       "</div>"
      ],
      "text/plain": [
       "   Gender  SeniorCitizen  Partner  Dependents  Tenure  PhoneService  \\\n",
       "0       0              0        1           0      36             1   \n",
       "1       1              0        0           0      10             1   \n",
       "2       1              0        1           1      25             1   \n",
       "3       0              0        0           0       7             1   \n",
       "4       0              1        0           0      24             1   \n",
       "\n",
       "   MultipleLines  InternetService  OnlineSecurity  OnlineBackup  \\\n",
       "0              2                1               2             2   \n",
       "1              0                0               2             0   \n",
       "2              0                2               1             1   \n",
       "3              0                2               1             1   \n",
       "4              0                2               1             1   \n",
       "\n",
       "   DeviceProtection  TechSupport  StreamingTV  StreamingMovies  Contract  \\\n",
       "0                 2            2            0                2         2   \n",
       "1                 0            2            2                0         0   \n",
       "2                 1            1            1                1         0   \n",
       "3                 1            1            1                1         0   \n",
       "4                 1            1            1                1         0   \n",
       "\n",
       "   PaperlessBilling  PaymentMethod  MonthlyCharges  TotalCharges  Churn  \n",
       "0                 1              1          106.05       3834.40      0  \n",
       "1                 0              1           62.25        612.95      0  \n",
       "2                 1              0           19.15        477.60      0  \n",
       "3                 0              1           20.00        137.60      1  \n",
       "4                 1              0           20.30        459.95      0  "
      ]
     },
     "execution_count": 14,
     "metadata": {},
     "output_type": "execute_result"
    }
   ],
   "source": [
    "df.head()"
   ]
  },
  {
   "cell_type": "markdown",
   "metadata": {
    "ExecuteTime": {
     "end_time": "2020-12-16T18:05:27.072697Z",
     "start_time": "2020-12-16T18:05:27.063670Z"
    }
   },
   "source": [
    "<a id=\"\" ></a>\n",
    "\n",
    "<h2>  Create new features from EDA</h2> \n",
    "\n",
    "<a href=\"#top\" class=\"btn btn-primary btn-sm\" role=\"button\" aria-pressed=\"true\" style=\"color:white\" data-toggle=\"popover\" title=\"go to TOC\">Go to Top</a>"
   ]
  },
  {
   "cell_type": "code",
   "execution_count": 15,
   "metadata": {
    "ExecuteTime": {
     "end_time": "2020-12-16T21:16:06.810339Z",
     "start_time": "2020-12-16T21:16:06.778305Z"
    }
   },
   "outputs": [],
   "source": [
    "df.loc[:,'Contract_Month-to-month'] = np.where(df['Contract'] != 0, 1,0)\n",
    "\n",
    "cond = (df['SeniorCitizen']==0) & (df['Contract_Month-to-month']==0)\n",
    "df.loc[:,'NoSeniorCitizen_Contract_Month-to-month'] = np.where(cond, 1,0)\n",
    "\n",
    "cond = (df['PaymentMethod'] == 0) & (df['Contract_Month-to-month']==0)\n",
    "df.loc[:,'PaymentMethod0_Contract_Month-to-month0'] = np.where(cond, 1,0)\n",
    "\n",
    "cond = (df['InternetService'] != 1)\n",
    "df.loc[:,'InternetService_Fiber optic'] = np.where(cond, 1,0)\n",
    "\n",
    "cond = (df['StreamingTV'] != 1)\n",
    "df.loc[:,'StreamingTV_NoInternetService'] = np.where(cond, 1,0)\n",
    "\n",
    "df.loc[:,'No_OB_DP_TS'] = np.where((df['OnlineBackup']     != 0) |\\\n",
    "                                   (df['DeviceProtection'] != 0) |\\\n",
    "                                   (df['TechSupport']      != 0), 1,0)\n",
    "\n",
    "cols_service = ['PhoneService', 'InternetService', 'OnlineSecurity',\n",
    "                'OnlineBackup', 'DeviceProtection', 'TechSupport',\n",
    "                'StreamingTV', 'StreamingMovies']\n",
    "df['TotalServices'] = (df[cols_service]== 1).sum(axis=1)"
   ]
  },
  {
   "cell_type": "markdown",
   "metadata": {},
   "source": [
    "<a id=\"\" ></a>\n",
    "\n",
    "<h2>  Combination of features </h2> \n",
    "\n",
    "<a href=\"#top\" class=\"btn btn-primary btn-sm\" role=\"button\" aria-pressed=\"true\" style=\"color:white\" data-toggle=\"popover\" title=\"go to TOC\">Go to Top</a>"
   ]
  },
  {
   "cell_type": "code",
   "execution_count": 16,
   "metadata": {
    "ExecuteTime": {
     "end_time": "2020-12-16T21:16:06.828175Z",
     "start_time": "2020-12-16T21:16:06.815201Z"
    }
   },
   "outputs": [],
   "source": [
    "df['SenCit_Dependents']  = df['SeniorCitizen']  + df['Dependents']\n",
    "df['Partner_Dependents'] = df['Partner']        + df['Dependents']\n",
    "df['SenCit_Partner']     = df['SeniorCitizen']  + df['Partner']\n",
    "df['SenCit_Contract']    = df['SeniorCitizen']  + df['Contract']\n",
    "df['SenCit_TechSupport'] = df['SeniorCitizen']  + df['TechSupport']\n",
    "df['SenCit_PayMeth']     = df['SeniorCitizen']  + df['PaymentMethod']"
   ]
  },
  {
   "cell_type": "markdown",
   "metadata": {
    "ExecuteTime": {
     "end_time": "2020-12-16T18:10:54.576411Z",
     "start_time": "2020-12-16T18:10:54.571482Z"
    }
   },
   "source": [
    "<a id=\"\" ></a>\n",
    "\n",
    "<h2>  Aggregation Features </h2> \n",
    "\n",
    "<a href=\"#top\" class=\"btn btn-primary btn-sm\" role=\"button\" aria-pressed=\"true\" style=\"color:white\" data-toggle=\"popover\" title=\"go to TOC\">Go to Top</a>"
   ]
  },
  {
   "cell_type": "code",
   "execution_count": 17,
   "metadata": {
    "ExecuteTime": {
     "end_time": "2020-12-16T21:16:06.855905Z",
     "start_time": "2020-12-16T21:16:06.831392Z"
    }
   },
   "outputs": [],
   "source": [
    "dfx = (df.groupby('Contract')['TotalCharges'].agg(['mean'])\n",
    "         .rename({'mean':'Contract_mean_totCharges'},axis=1))\n",
    "df = pd.merge(df, dfx, on='Contract', how='left')\n",
    "\n",
    "df['Contract_totCharges_diff'] = (df['TotalCharges'] \n",
    "                                  - df['Contract_mean_totCharges'])\n",
    "\n",
    "dfx = (df.groupby('PaymentMethod')['MonthlyCharges'].agg(['mean'])\n",
    "         .rename({'mean':'PayMeth_mean_monthCharges'},axis=1))\n",
    "df = pd.merge(df, dfx, on='PaymentMethod', how='left')\n",
    "\n",
    "\n",
    "df['PayMeth_monthCharges_diff'] = (df['MonthlyCharges'] \n",
    "                                   - df['PayMeth_mean_monthCharges'])"
   ]
  },
  {
   "cell_type": "markdown",
   "metadata": {},
   "source": [
    "<a id=\"\" ></a>\n",
    "\n",
    "<h2>  Binning of Numerical Features</h2> \n",
    "\n",
    "<a href=\"#top\" class=\"btn btn-primary btn-sm\" role=\"button\" aria-pressed=\"true\" style=\"color:white\" data-toggle=\"popover\" title=\"go to TOC\">Go to Top</a>"
   ]
  },
  {
   "cell_type": "code",
   "execution_count": 18,
   "metadata": {
    "ExecuteTime": {
     "end_time": "2020-12-16T21:16:06.862646Z",
     "start_time": "2020-12-16T21:16:06.859581Z"
    }
   },
   "outputs": [],
   "source": [
    "cols_num = ['Tenure','MonthlyCharges','TotalCharges']"
   ]
  },
  {
   "cell_type": "code",
   "execution_count": 19,
   "metadata": {
    "ExecuteTime": {
     "end_time": "2020-12-16T21:16:06.869153Z",
     "start_time": "2020-12-16T21:16:06.865364Z"
    }
   },
   "outputs": [],
   "source": [
    "col = 'Tenure'\n",
    "# df[col].describe()"
   ]
  },
  {
   "cell_type": "code",
   "execution_count": 20,
   "metadata": {
    "ExecuteTime": {
     "end_time": "2020-12-16T21:16:06.893759Z",
     "start_time": "2020-12-16T21:16:06.876686Z"
    }
   },
   "outputs": [],
   "source": [
    "col = 'Tenure'\n",
    "bins = [12*i for i in range(6)] + [np.inf]\n",
    "labels = list(range(6))\n",
    "df[col+'_cat'] = pd.cut(df[col],bins=bins,labels=labels,\n",
    "                          include_lowest=True,right=False)"
   ]
  },
  {
   "cell_type": "code",
   "execution_count": 21,
   "metadata": {
    "ExecuteTime": {
     "end_time": "2020-12-16T21:16:07.217948Z",
     "start_time": "2020-12-16T21:16:06.903988Z"
    }
   },
   "outputs": [
    {
     "data": {
      "text/plain": [
       "count    5634.000000\n",
       "mean       64.578301\n",
       "std        30.087050\n",
       "min        18.250000\n",
       "25%        35.362500\n",
       "50%        70.250000\n",
       "75%        89.850000\n",
       "max       118.750000\n",
       "Name: MonthlyCharges, dtype: float64"
      ]
     },
     "metadata": {},
     "output_type": "display_data"
    },
    {
     "data": {
      "text/plain": [
       "<matplotlib.axes._subplots.AxesSubplot at 0x7fb4c40e2510>"
      ]
     },
     "execution_count": 21,
     "metadata": {},
     "output_type": "execute_result"
    },
    {
     "data": {
      "image/png": "[encoded data removed]",
      "text/plain": [
       "<Figure size 432x288 with 1 Axes>"
      ]
     },
     "metadata": {},
     "output_type": "display_data"
    }
   ],
   "source": [
    "col = 'MonthlyCharges'\n",
    "display(df[col].describe())\n",
    "sns.kdeplot(df[col])"
   ]
  },
  {
   "cell_type": "code",
   "execution_count": 22,
   "metadata": {
    "ExecuteTime": {
     "end_time": "2020-12-16T21:16:07.233030Z",
     "start_time": "2020-12-16T21:16:07.224909Z"
    }
   },
   "outputs": [],
   "source": [
    "col = 'MonthlyCharges'\n",
    "bins = [-np.inf] + [20*i for i in range(1,6)] + [np.inf]\n",
    "labels = list(range(6))\n",
    "df[col+'_cat'] = pd.cut(df[col],bins=bins,labels=labels,\n",
    "                          include_lowest=True,right=False)"
   ]
  },
  {
   "cell_type": "code",
   "execution_count": 23,
   "metadata": {
    "ExecuteTime": {
     "end_time": "2020-12-16T21:16:07.492504Z",
     "start_time": "2020-12-16T21:16:07.235270Z"
    }
   },
   "outputs": [
    {
     "data": {
      "text/plain": [
       "count    5634.000000\n",
       "mean     2272.147320\n",
       "std      2256.665497\n",
       "min         0.000000\n",
       "25%       386.675000\n",
       "50%      1397.475000\n",
       "75%      3775.050000\n",
       "max      8672.450000\n",
       "Name: TotalCharges, dtype: float64"
      ]
     },
     "metadata": {},
     "output_type": "display_data"
    },
    {
     "data": {
      "text/plain": [
       "<matplotlib.axes._subplots.AxesSubplot at 0x7fb4c047d850>"
      ]
     },
     "execution_count": 23,
     "metadata": {},
     "output_type": "execute_result"
    },
    {
     "data": {
      "image/png": "[encoded data removed]",
      "text/plain": [
       "<Figure size 432x288 with 1 Axes>"
      ]
     },
     "metadata": {},
     "output_type": "display_data"
    }
   ],
   "source": [
    "col = 'TotalCharges'\n",
    "display(df[col].describe())\n",
    "sns.kdeplot(df[col])"
   ]
  },
  {
   "cell_type": "code",
   "execution_count": 24,
   "metadata": {
    "ExecuteTime": {
     "end_time": "2020-12-16T21:16:07.504370Z",
     "start_time": "2020-12-16T21:16:07.497218Z"
    }
   },
   "outputs": [],
   "source": [
    "col = 'MonthlyCharges'\n",
    "bins = [-np.inf] + [1000*i for i in range(1,9)] + [np.inf]\n",
    "labels = list(range(9))\n",
    "df[col+'_cat'] = pd.cut(df[col],bins=bins,labels=labels,\n",
    "                          include_lowest=True,right=False)"
   ]
  },
  {
   "cell_type": "code",
   "execution_count": 25,
   "metadata": {
    "ExecuteTime": {
     "end_time": "2020-12-16T21:16:07.550605Z",
     "start_time": "2020-12-16T21:16:07.507196Z"
    }
   },
   "outputs": [
    {
     "data": {
      "text/html": [
       "<div>\n",
       "<style scoped>\n",
       "    .dataframe tbody tr th:only-of-type {\n",
       "        vertical-align: middle;\n",
       "    }\n",
       "\n",
       "    .dataframe tbody tr th {\n",
       "        vertical-align: top;\n",
       "    }\n",
       "\n",
       "    .dataframe thead th {\n",
       "        text-align: right;\n",
       "    }\n",
       "</style>\n",
       "<table border=\"1\" class=\"dataframe\">\n",
       "  <thead>\n",
       "    <tr style=\"text-align: right;\">\n",
       "      <th></th>\n",
       "      <th>Gender</th>\n",
       "      <th>SeniorCitizen</th>\n",
       "      <th>Partner</th>\n",
       "      <th>Dependents</th>\n",
       "      <th>Tenure</th>\n",
       "      <th>PhoneService</th>\n",
       "      <th>MultipleLines</th>\n",
       "      <th>InternetService</th>\n",
       "      <th>OnlineSecurity</th>\n",
       "      <th>OnlineBackup</th>\n",
       "      <th>DeviceProtection</th>\n",
       "      <th>TechSupport</th>\n",
       "      <th>StreamingTV</th>\n",
       "      <th>StreamingMovies</th>\n",
       "      <th>Contract</th>\n",
       "      <th>PaperlessBilling</th>\n",
       "      <th>PaymentMethod</th>\n",
       "      <th>MonthlyCharges</th>\n",
       "      <th>TotalCharges</th>\n",
       "      <th>Churn</th>\n",
       "      <th>Contract_Month-to-month</th>\n",
       "      <th>NoSeniorCitizen_Contract_Month-to-month</th>\n",
       "      <th>PaymentMethod0_Contract_Month-to-month0</th>\n",
       "      <th>InternetService_Fiber optic</th>\n",
       "      <th>StreamingTV_NoInternetService</th>\n",
       "      <th>No_OB_DP_TS</th>\n",
       "      <th>TotalServices</th>\n",
       "      <th>SenCit_Dependents</th>\n",
       "      <th>Partner_Dependents</th>\n",
       "      <th>SenCit_Partner</th>\n",
       "      <th>SenCit_Contract</th>\n",
       "      <th>SenCit_TechSupport</th>\n",
       "      <th>SenCit_PayMeth</th>\n",
       "      <th>Contract_mean_totCharges</th>\n",
       "      <th>Contract_totCharges_diff</th>\n",
       "      <th>PayMeth_mean_monthCharges</th>\n",
       "      <th>PayMeth_monthCharges_diff</th>\n",
       "      <th>Tenure_cat</th>\n",
       "      <th>MonthlyCharges_cat</th>\n",
       "    </tr>\n",
       "  </thead>\n",
       "  <tbody>\n",
       "    <tr>\n",
       "      <th>0</th>\n",
       "      <td>0</td>\n",
       "      <td>0</td>\n",
       "      <td>1</td>\n",
       "      <td>0</td>\n",
       "      <td>36</td>\n",
       "      <td>1</td>\n",
       "      <td>2</td>\n",
       "      <td>1</td>\n",
       "      <td>2</td>\n",
       "      <td>2</td>\n",
       "      <td>2</td>\n",
       "      <td>2</td>\n",
       "      <td>0</td>\n",
       "      <td>2</td>\n",
       "      <td>2</td>\n",
       "      <td>1</td>\n",
       "      <td>1</td>\n",
       "      <td>106.05</td>\n",
       "      <td>3834.40</td>\n",
       "      <td>0</td>\n",
       "      <td>1</td>\n",
       "      <td>0</td>\n",
       "      <td>0</td>\n",
       "      <td>0</td>\n",
       "      <td>1</td>\n",
       "      <td>1</td>\n",
       "      <td>2</td>\n",
       "      <td>0</td>\n",
       "      <td>1</td>\n",
       "      <td>1</td>\n",
       "      <td>2</td>\n",
       "      <td>2</td>\n",
       "      <td>1</td>\n",
       "      <td>3683.643192</td>\n",
       "      <td>150.756808</td>\n",
       "      <td>66.703657</td>\n",
       "      <td>39.346343</td>\n",
       "      <td>3</td>\n",
       "      <td>0</td>\n",
       "    </tr>\n",
       "    <tr>\n",
       "      <th>1</th>\n",
       "      <td>1</td>\n",
       "      <td>0</td>\n",
       "      <td>0</td>\n",
       "      <td>0</td>\n",
       "      <td>10</td>\n",
       "      <td>1</td>\n",
       "      <td>0</td>\n",
       "      <td>0</td>\n",
       "      <td>2</td>\n",
       "      <td>0</td>\n",
       "      <td>0</td>\n",
       "      <td>2</td>\n",
       "      <td>2</td>\n",
       "      <td>0</td>\n",
       "      <td>0</td>\n",
       "      <td>0</td>\n",
       "      <td>1</td>\n",
       "      <td>62.25</td>\n",
       "      <td>612.95</td>\n",
       "      <td>0</td>\n",
       "      <td>0</td>\n",
       "      <td>1</td>\n",
       "      <td>0</td>\n",
       "      <td>1</td>\n",
       "      <td>1</td>\n",
       "      <td>1</td>\n",
       "      <td>1</td>\n",
       "      <td>0</td>\n",
       "      <td>0</td>\n",
       "      <td>0</td>\n",
       "      <td>0</td>\n",
       "      <td>2</td>\n",
       "      <td>1</td>\n",
       "      <td>1370.923131</td>\n",
       "      <td>-757.973131</td>\n",
       "      <td>66.703657</td>\n",
       "      <td>-4.453657</td>\n",
       "      <td>0</td>\n",
       "      <td>0</td>\n",
       "    </tr>\n",
       "    <tr>\n",
       "      <th>2</th>\n",
       "      <td>1</td>\n",
       "      <td>0</td>\n",
       "      <td>1</td>\n",
       "      <td>1</td>\n",
       "      <td>25</td>\n",
       "      <td>1</td>\n",
       "      <td>0</td>\n",
       "      <td>2</td>\n",
       "      <td>1</td>\n",
       "      <td>1</td>\n",
       "      <td>1</td>\n",
       "      <td>1</td>\n",
       "      <td>1</td>\n",
       "      <td>1</td>\n",
       "      <td>0</td>\n",
       "      <td>1</td>\n",
       "      <td>0</td>\n",
       "      <td>19.15</td>\n",
       "      <td>477.60</td>\n",
       "      <td>0</td>\n",
       "      <td>0</td>\n",
       "      <td>1</td>\n",
       "      <td>1</td>\n",
       "      <td>1</td>\n",
       "      <td>0</td>\n",
       "      <td>1</td>\n",
       "      <td>7</td>\n",
       "      <td>1</td>\n",
       "      <td>2</td>\n",
       "      <td>1</td>\n",
       "      <td>0</td>\n",
       "      <td>1</td>\n",
       "      <td>0</td>\n",
       "      <td>1370.923131</td>\n",
       "      <td>-893.323131</td>\n",
       "      <td>62.961703</td>\n",
       "      <td>-43.811703</td>\n",
       "      <td>2</td>\n",
       "      <td>0</td>\n",
       "    </tr>\n",
       "    <tr>\n",
       "      <th>3</th>\n",
       "      <td>0</td>\n",
       "      <td>0</td>\n",
       "      <td>0</td>\n",
       "      <td>0</td>\n",
       "      <td>7</td>\n",
       "      <td>1</td>\n",
       "      <td>0</td>\n",
       "      <td>2</td>\n",
       "      <td>1</td>\n",
       "      <td>1</td>\n",
       "      <td>1</td>\n",
       "      <td>1</td>\n",
       "      <td>1</td>\n",
       "      <td>1</td>\n",
       "      <td>0</td>\n",
       "      <td>0</td>\n",
       "      <td>1</td>\n",
       "      <td>20.00</td>\n",
       "      <td>137.60</td>\n",
       "      <td>1</td>\n",
       "      <td>0</td>\n",
       "      <td>1</td>\n",
       "      <td>0</td>\n",
       "      <td>1</td>\n",
       "      <td>0</td>\n",
       "      <td>1</td>\n",
       "      <td>7</td>\n",
       "      <td>0</td>\n",
       "      <td>0</td>\n",
       "      <td>0</td>\n",
       "      <td>0</td>\n",
       "      <td>1</td>\n",
       "      <td>1</td>\n",
       "      <td>1370.923131</td>\n",
       "      <td>-1233.323131</td>\n",
       "      <td>66.703657</td>\n",
       "      <td>-46.703657</td>\n",
       "      <td>0</td>\n",
       "      <td>0</td>\n",
       "    </tr>\n",
       "    <tr>\n",
       "      <th>4</th>\n",
       "      <td>0</td>\n",
       "      <td>1</td>\n",
       "      <td>0</td>\n",
       "      <td>0</td>\n",
       "      <td>24</td>\n",
       "      <td>1</td>\n",
       "      <td>0</td>\n",
       "      <td>2</td>\n",
       "      <td>1</td>\n",
       "      <td>1</td>\n",
       "      <td>1</td>\n",
       "      <td>1</td>\n",
       "      <td>1</td>\n",
       "      <td>1</td>\n",
       "      <td>0</td>\n",
       "      <td>1</td>\n",
       "      <td>0</td>\n",
       "      <td>20.30</td>\n",
       "      <td>459.95</td>\n",
       "      <td>0</td>\n",
       "      <td>0</td>\n",
       "      <td>0</td>\n",
       "      <td>1</td>\n",
       "      <td>1</td>\n",
       "      <td>0</td>\n",
       "      <td>1</td>\n",
       "      <td>7</td>\n",
       "      <td>1</td>\n",
       "      <td>0</td>\n",
       "      <td>1</td>\n",
       "      <td>1</td>\n",
       "      <td>2</td>\n",
       "      <td>1</td>\n",
       "      <td>1370.923131</td>\n",
       "      <td>-910.973131</td>\n",
       "      <td>62.961703</td>\n",
       "      <td>-42.661703</td>\n",
       "      <td>2</td>\n",
       "      <td>0</td>\n",
       "    </tr>\n",
       "  </tbody>\n",
       "</table>\n",
       "</div>"
      ],
      "text/plain": [
       "   Gender  SeniorCitizen  Partner  Dependents  Tenure  PhoneService  \\\n",
       "0       0              0        1           0      36             1   \n",
       "1       1              0        0           0      10             1   \n",
       "2       1              0        1           1      25             1   \n",
       "3       0              0        0           0       7             1   \n",
       "4       0              1        0           0      24             1   \n",
       "\n",
       "   MultipleLines  InternetService  OnlineSecurity  OnlineBackup  \\\n",
       "0              2                1               2             2   \n",
       "1              0                0               2             0   \n",
       "2              0                2               1             1   \n",
       "3              0                2               1             1   \n",
       "4              0                2               1             1   \n",
       "\n",
       "   DeviceProtection  TechSupport  StreamingTV  StreamingMovies  Contract  \\\n",
       "0                 2            2            0                2         2   \n",
       "1                 0            2            2                0         0   \n",
       "2                 1            1            1                1         0   \n",
       "3                 1            1            1                1         0   \n",
       "4                 1            1            1                1         0   \n",
       "\n",
       "   PaperlessBilling  PaymentMethod  MonthlyCharges  TotalCharges  Churn  \\\n",
       "0                 1              1          106.05       3834.40      0   \n",
       "1                 0              1           62.25        612.95      0   \n",
       "2                 1              0           19.15        477.60      0   \n",
       "3                 0              1           20.00        137.60      1   \n",
       "4                 1              0           20.30        459.95      0   \n",
       "\n",
       "   Contract_Month-to-month  NoSeniorCitizen_Contract_Month-to-month  \\\n",
       "0                        1                                        0   \n",
       "1                        0                                        1   \n",
       "2                        0                                        1   \n",
       "3                        0                                        1   \n",
       "4                        0                                        0   \n",
       "\n",
       "   PaymentMethod0_Contract_Month-to-month0  InternetService_Fiber optic  \\\n",
       "0                                        0                            0   \n",
       "1                                        0                            1   \n",
       "2                                        1                            1   \n",
       "3                                        0                            1   \n",
       "4                                        1                            1   \n",
       "\n",
       "   StreamingTV_NoInternetService  No_OB_DP_TS  TotalServices  \\\n",
       "0                              1            1              2   \n",
       "1                              1            1              1   \n",
       "2                              0            1              7   \n",
       "3                              0            1              7   \n",
       "4                              0            1              7   \n",
       "\n",
       "   SenCit_Dependents  Partner_Dependents  SenCit_Partner  SenCit_Contract  \\\n",
       "0                  0                   1               1                2   \n",
       "1                  0                   0               0                0   \n",
       "2                  1                   2               1                0   \n",
       "3                  0                   0               0                0   \n",
       "4                  1                   0               1                1   \n",
       "\n",
       "   SenCit_TechSupport  SenCit_PayMeth  Contract_mean_totCharges  \\\n",
       "0                   2               1               3683.643192   \n",
       "1                   2               1               1370.923131   \n",
       "2                   1               0               1370.923131   \n",
       "3                   1               1               1370.923131   \n",
       "4                   2               1               1370.923131   \n",
       "\n",
       "   Contract_totCharges_diff  PayMeth_mean_monthCharges  \\\n",
       "0                150.756808                  66.703657   \n",
       "1               -757.973131                  66.703657   \n",
       "2               -893.323131                  62.961703   \n",
       "3              -1233.323131                  66.703657   \n",
       "4               -910.973131                  62.961703   \n",
       "\n",
       "   PayMeth_monthCharges_diff Tenure_cat MonthlyCharges_cat  \n",
       "0                  39.346343          3                  0  \n",
       "1                  -4.453657          0                  0  \n",
       "2                 -43.811703          2                  0  \n",
       "3                 -46.703657          0                  0  \n",
       "4                 -42.661703          2                  0  "
      ]
     },
     "execution_count": 25,
     "metadata": {},
     "output_type": "execute_result"
    }
   ],
   "source": [
    "df.head()"
   ]
  },
  {
   "cell_type": "markdown",
   "metadata": {},
   "source": [
    "<a id=\"\" ></a>\n",
    "\n",
    "<h1>  Save Clean Data </h1> \n",
    "\n",
    "<a href=\"#top\" class=\"btn btn-primary btn-sm\" role=\"button\" aria-pressed=\"true\" style=\"color:white\" data-toggle=\"popover\" title=\"go to TOC\">Go to Top</a>"
   ]
  },
  {
   "cell_type": "code",
   "execution_count": 26,
   "metadata": {
    "ExecuteTime": {
     "end_time": "2020-12-16T21:16:07.664208Z",
     "start_time": "2020-12-16T21:16:07.559403Z"
    }
   },
   "outputs": [],
   "source": [
    "df.to_csv(path_data_clean,index=False)"
   ]
  },
  {
   "cell_type": "code",
   "execution_count": 27,
   "metadata": {
    "ExecuteTime": {
     "end_time": "2020-12-16T21:16:07.797070Z",
     "start_time": "2020-12-16T21:16:07.666574Z"
    }
   },
   "outputs": [
    {
     "name": "stdout",
     "output_type": "stream",
     "text": [
      "900K\t../data/processed/train_cleaned.csv\r\n"
     ]
    }
   ],
   "source": [
    "!du -sh $path_data_clean"
   ]
  },
  {
   "cell_type": "code",
   "execution_count": null,
   "metadata": {},
   "outputs": [],
   "source": []
  }
 ],
 "metadata": {
  "kernelspec": {
   "display_name": "Python (dataSc)",
   "language": "python",
   "name": "datasc"
  },
  "language_info": {
   "codemirror_mode": {
    "name": "ipython",
    "version": 3
   },
   "file_extension": ".py",
   "mimetype": "text/x-python",
   "name": "python",
   "nbconvert_exporter": "python",
   "pygments_lexer": "ipython3",
   "version": "3.7.7"
  },
  "toc": {
   "base_numbering": 1,
   "nav_menu": {},
   "number_sections": true,
   "sideBar": true,
   "skip_h1_title": false,
   "title_cell": "Table of Contents",
   "title_sidebar": "Contents",
   "toc_cell": false,
   "toc_position": {},
   "toc_section_display": true,
   "toc_window_display": false
  }
 },
 "nbformat": 4,
 "nbformat_minor": 4
}
