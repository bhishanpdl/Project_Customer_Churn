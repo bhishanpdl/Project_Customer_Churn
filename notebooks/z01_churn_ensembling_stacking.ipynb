{
 "cells": [
  {
   "cell_type": "markdown",
   "metadata": {
    "toc": true
   },
   "source": [
    "<h1>Table of Contents<span class=\"tocSkip\"></span></h1>\n",
    "<div class=\"toc\"><ul class=\"toc-item\"><li><span><a href=\"#-Modelling-Customer-Churn:-Ensembling-of-models\" data-toc-modified-id=\"-Modelling-Customer-Churn:-Ensembling-of-models-1\"><span class=\"toc-item-num\">1&nbsp;&nbsp;</span> Modelling Customer Churn: Ensembling of models</a></span><ul class=\"toc-item\"><li><span><a href=\"#Colab\" data-toc-modified-id=\"Colab-1.1\"><span class=\"toc-item-num\">1.1&nbsp;&nbsp;</span>Colab</a></span></li></ul></li><li><span><a href=\"#-Useful-Scripts-\" data-toc-modified-id=\"-Useful-Scripts--2\"><span class=\"toc-item-num\">2&nbsp;&nbsp;</span> Useful Scripts </a></span></li><li><span><a href=\"#-Load-the-Data-\" data-toc-modified-id=\"-Load-the-Data--3\"><span class=\"toc-item-num\">3&nbsp;&nbsp;</span> Load the Data </a></span></li><li><span><a href=\"#Combining-All-predictions\" data-toc-modified-id=\"Combining-All-predictions-4\"><span class=\"toc-item-num\">4&nbsp;&nbsp;</span>Combining All predictions</a></span></li></ul></div>"
   ]
  },
  {
   "cell_type": "markdown",
   "metadata": {},
   "source": [
    "<div class=\"alert alert-block alert-success\">\n",
    "<b>Kernel Author:</b>  <br>\n",
    "<a href=\"https://bhishanpdl.github.io/\" , target=\"_blank\">Bhishan Poudel, Ph.D Astrophysics</a> .\n",
    "</div>"
   ]
  },
  {
   "cell_type": "markdown",
   "metadata": {},
   "source": [
    "<a id=\"data-desc\"></a>\n",
    "\n",
    "<h1> Modelling Customer Churn: Ensembling of models</h1>\n",
    "\n",
    "<a href=\"#top\" class=\"btn btn-primary btn-sm\" role=\"button\" aria-pressed=\"true\" style=\"color:white\" data-toggle=\"popover\" title=\"go to TOC\">Go to Top</a>\n",
    "\n",
    "References\n"
   ]
  },
  {
   "cell_type": "code",
   "execution_count": 1,
   "metadata": {
    "ExecuteTime": {
     "end_time": "2020-12-23T23:57:11.496035Z",
     "start_time": "2020-12-23T23:57:11.492162Z"
    }
   },
   "outputs": [],
   "source": [
    "import time\n",
    "\n",
    "time_start_notebook = time.time()"
   ]
  },
  {
   "cell_type": "markdown",
   "metadata": {},
   "source": [
    "## Colab"
   ]
  },
  {
   "cell_type": "code",
   "execution_count": 2,
   "metadata": {
    "ExecuteTime": {
     "end_time": "2020-12-23T23:57:49.712767Z",
     "start_time": "2020-12-23T23:57:49.707699Z"
    }
   },
   "outputs": [],
   "source": [
    "%%capture\n",
    "import sys\n",
    "ENV_COLAB = 'google.colab' in sys.modules\n",
    "\n",
    "if ENV_COLAB:\n",
    "    # usual imports\n",
    "    !pip install watermark\n",
    "    !pip install scikit-plot\n",
    "\n",
    "\n",
    "    print('Environment: Google Colab')"
   ]
  },
  {
   "cell_type": "code",
   "execution_count": 9,
   "metadata": {
    "ExecuteTime": {
     "end_time": "2020-12-24T00:08:18.303209Z",
     "start_time": "2020-12-24T00:08:18.287165Z"
    }
   },
   "outputs": [
    {
     "name": "stdout",
     "output_type": "stream",
     "text": [
      "The watermark extension is already loaded. To reload it, use:\n",
      "  %reload_ext watermark\n",
      "autopep8       1.5.2\n",
      "numpy          1.19.4\n",
      "imblearn       0.7.0\n",
      "joblib         0.17.0\n",
      "seaborn        0.11.0\n",
      "json           2.0.9\n",
      "plotly_express 0.4.1\n",
      "pandas         1.1.4\n",
      "\n"
     ]
    }
   ],
   "source": [
    "import numpy as np\n",
    "import pandas as pd\n",
    "import os,sys,time,glob\n",
    "import joblib\n",
    "from tqdm import tqdm_notebook as tqdm\n",
    "\n",
    "# visualization\n",
    "import matplotlib.pyplot as plt\n",
    "import seaborn as sns\n",
    "import plotly_express as px\n",
    "\n",
    "# machine learning\n",
    "import sklearn.metrics as skmetrics\n",
    "import scikitplot.metrics as skpmetrics\n",
    "\n",
    "\n",
    "# settings\n",
    "sns.set()\n",
    "SEED = 100\n",
    "pd.set_option('max_columns',100)\n",
    "pd.set_option('max_colwidth',200)\n",
    "pd.set_option('plotting.backend','matplotlib') # matplotlib, bokeh, altair, plotly\n",
    "\n",
    "%matplotlib inline\n",
    "%load_ext watermark\n",
    "%watermark -iv"
   ]
  },
  {
   "cell_type": "markdown",
   "metadata": {},
   "source": [
    "<a id=\"useful\" ></a>\n",
    "\n",
    "<h1> Useful Scripts </h1> \n",
    "\n",
    "<a href=\"#top\" class=\"btn btn-primary btn-sm\" role=\"button\" aria-pressed=\"true\" style=\"color:white\" data-toggle=\"popover\" title=\"go to TOC\">Go to Top</a>"
   ]
  },
  {
   "cell_type": "code",
   "execution_count": 4,
   "metadata": {
    "ExecuteTime": {
     "end_time": "2020-12-23T23:58:53.135025Z",
     "start_time": "2020-12-23T23:58:53.128796Z"
    }
   },
   "outputs": [],
   "source": [
    "def show_methods(obj, ncols=4,contains=None):\n",
    "    lst = [i for i in dir(obj) if i[0]!='_' ]\n",
    "    if contains is not None:\n",
    "        lst = [i for i in lst if contains in i]\n",
    "    df = pd.DataFrame(np.array_split(lst,ncols)).T.fillna('')\n",
    "    return df"
   ]
  },
  {
   "cell_type": "code",
   "execution_count": 6,
   "metadata": {
    "ExecuteTime": {
     "end_time": "2020-12-24T00:06:38.625054Z",
     "start_time": "2020-12-24T00:06:38.606653Z"
    }
   },
   "outputs": [],
   "source": [
    "def custom_loss(y_true, y_pred):\n",
    "    tn, fp, fn, tp = skmetrics.confusion_matrix(y_true,y_pred).ravel()\n",
    "    loss = 400*tp - 200*fn - 100*fp\n",
    "    return loss"
   ]
  },
  {
   "cell_type": "markdown",
   "metadata": {},
   "source": [
    "<a id=\"load-data\" ></a>\n",
    "\n",
    "<h1> Load the Data </h1> \n",
    "\n",
    "<a href=\"#top\" class=\"btn btn-primary btn-sm\" role=\"button\" aria-pressed=\"true\" style=\"color:white\" data-toggle=\"popover\" title=\"go to TOC\">Go to Top</a>"
   ]
  },
  {
   "cell_type": "code",
   "execution_count": 27,
   "metadata": {
    "ExecuteTime": {
     "end_time": "2020-12-24T00:22:21.594079Z",
     "start_time": "2020-12-24T00:22:21.591042Z"
    }
   },
   "outputs": [],
   "source": [
    "path_data_train = '../data/raw/train.csv'\n",
    "path_data_test = '../data/raw/test.csv'\n",
    "\n",
    "if ENV_COLAB:\n",
    "    path_data_train = 'https://raw.githubusercontent.com/bhishanpdl/Datasets/master/Projects/Telco_Customer_Churn/raw/train.csv'\n",
    "    path_data_test = 'https://raw.githubusercontent.com/bhishanpdl/Datasets/master/Projects/Telco_Customer_Churn/raw/test.csv'"
   ]
  },
  {
   "cell_type": "code",
   "execution_count": 29,
   "metadata": {
    "ExecuteTime": {
     "end_time": "2020-12-24T00:22:41.180657Z",
     "start_time": "2020-12-24T00:22:41.166525Z"
    }
   },
   "outputs": [
    {
     "data": {
      "text/html": [
       "<div>\n",
       "<style scoped>\n",
       "    .dataframe tbody tr th:only-of-type {\n",
       "        vertical-align: middle;\n",
       "    }\n",
       "\n",
       "    .dataframe tbody tr th {\n",
       "        vertical-align: top;\n",
       "    }\n",
       "\n",
       "    .dataframe thead th {\n",
       "        text-align: right;\n",
       "    }\n",
       "</style>\n",
       "<table border=\"1\" class=\"dataframe\">\n",
       "  <thead>\n",
       "    <tr style=\"text-align: right;\">\n",
       "      <th></th>\n",
       "      <th>Churn</th>\n",
       "    </tr>\n",
       "  </thead>\n",
       "  <tbody>\n",
       "    <tr>\n",
       "      <th>0</th>\n",
       "      <td>Yes</td>\n",
       "    </tr>\n",
       "    <tr>\n",
       "      <th>1</th>\n",
       "      <td>No</td>\n",
       "    </tr>\n",
       "    <tr>\n",
       "      <th>2</th>\n",
       "      <td>Yes</td>\n",
       "    </tr>\n",
       "    <tr>\n",
       "      <th>3</th>\n",
       "      <td>No</td>\n",
       "    </tr>\n",
       "    <tr>\n",
       "      <th>4</th>\n",
       "      <td>No</td>\n",
       "    </tr>\n",
       "  </tbody>\n",
       "</table>\n",
       "</div>"
      ],
      "text/plain": [
       "  Churn\n",
       "0   Yes\n",
       "1    No\n",
       "2   Yes\n",
       "3    No\n",
       "4    No"
      ]
     },
     "execution_count": 29,
     "metadata": {},
     "output_type": "execute_result"
    }
   ],
   "source": [
    "df_ytest = pd.read_csv(path_data_test,usecols=['Churn'])\n",
    "df_ytest.head()\n"
   ]
  },
  {
   "cell_type": "code",
   "execution_count": 31,
   "metadata": {
    "ExecuteTime": {
     "end_time": "2020-12-24T00:23:13.053802Z",
     "start_time": "2020-12-24T00:23:13.045412Z"
    }
   },
   "outputs": [
    {
     "data": {
      "text/plain": [
       "array([1, 0, 1, 0, 0])"
      ]
     },
     "execution_count": 31,
     "metadata": {},
     "output_type": "execute_result"
    }
   ],
   "source": [
    "ytest = df_ytest['Churn'].map({'Yes':1, 'No':0}).values\n",
    "ytest[:5]"
   ]
  },
  {
   "cell_type": "code",
   "execution_count": 8,
   "metadata": {
    "ExecuteTime": {
     "end_time": "2020-12-24T00:07:50.680326Z",
     "start_time": "2020-12-24T00:07:50.547373Z"
    }
   },
   "outputs": [
    {
     "name": "stdout",
     "output_type": "stream",
     "text": [
      "featuretools_lr.csv lrcv.csv            pycaret_lr.csv      pycaret_xgboost.csv\r\n",
      "lr.csv              pycaret_lda.csv     pycaret_nb.csv\r\n"
     ]
    }
   ],
   "source": [
    "!ls ../predictions"
   ]
  },
  {
   "cell_type": "code",
   "execution_count": 10,
   "metadata": {
    "ExecuteTime": {
     "end_time": "2020-12-24T00:08:44.478209Z",
     "start_time": "2020-12-24T00:08:44.464457Z"
    }
   },
   "outputs": [
    {
     "data": {
      "text/plain": [
       "['../predictions/lrcv.csv',\n",
       " '../predictions/featuretools_lr.csv',\n",
       " '../predictions/pycaret_nb.csv',\n",
       " '../predictions/pycaret_lr.csv',\n",
       " '../predictions/pycaret_lda.csv',\n",
       " '../predictions/pycaret_xgboost.csv',\n",
       " '../predictions/lr.csv']"
      ]
     },
     "execution_count": 10,
     "metadata": {},
     "output_type": "execute_result"
    }
   ],
   "source": [
    "path_preds = glob.glob('../predictions/*.csv')\n",
    "path_preds"
   ]
  },
  {
   "cell_type": "code",
   "execution_count": 12,
   "metadata": {
    "ExecuteTime": {
     "end_time": "2020-12-24T00:09:51.058804Z",
     "start_time": "2020-12-24T00:09:51.052374Z"
    }
   },
   "outputs": [
    {
     "data": {
      "text/plain": [
       "['lr',\n",
       " 'featuretools_lr',\n",
       " 'pycaret_nb',\n",
       " 'pycaret_lr',\n",
       " 'pycaret_lda',\n",
       " 'pycaret_xgboost',\n",
       " 'lr']"
      ]
     },
     "execution_count": 12,
     "metadata": {},
     "output_type": "execute_result"
    }
   ],
   "source": [
    "path_names = [i.split('/')[-1].rstrip('.csv') for i in path_preds]\n",
    "path_names"
   ]
  },
  {
   "cell_type": "code",
   "execution_count": 15,
   "metadata": {
    "ExecuteTime": {
     "end_time": "2020-12-24T00:13:10.705471Z",
     "start_time": "2020-12-24T00:13:10.658661Z"
    }
   },
   "outputs": [
    {
     "data": {
      "text/html": [
       "<div>\n",
       "<style scoped>\n",
       "    .dataframe tbody tr th:only-of-type {\n",
       "        vertical-align: middle;\n",
       "    }\n",
       "\n",
       "    .dataframe tbody tr th {\n",
       "        vertical-align: top;\n",
       "    }\n",
       "\n",
       "    .dataframe thead th {\n",
       "        text-align: right;\n",
       "    }\n",
       "</style>\n",
       "<table border=\"1\" class=\"dataframe\">\n",
       "  <thead>\n",
       "    <tr style=\"text-align: right;\">\n",
       "      <th></th>\n",
       "      <th>customerID</th>\n",
       "      <th>ypreds_lrcv</th>\n",
       "      <th>yprobs_lrcv</th>\n",
       "    </tr>\n",
       "  </thead>\n",
       "  <tbody>\n",
       "    <tr>\n",
       "      <th>0</th>\n",
       "      <td>1794-HBQTJ</td>\n",
       "      <td>1</td>\n",
       "      <td>0.713449</td>\n",
       "    </tr>\n",
       "    <tr>\n",
       "      <th>1</th>\n",
       "      <td>0356-OBMAC</td>\n",
       "      <td>0</td>\n",
       "      <td>0.210394</td>\n",
       "    </tr>\n",
       "    <tr>\n",
       "      <th>2</th>\n",
       "      <td>4077-CROMM</td>\n",
       "      <td>1</td>\n",
       "      <td>0.757991</td>\n",
       "    </tr>\n",
       "    <tr>\n",
       "      <th>3</th>\n",
       "      <td>5442-PPTJY</td>\n",
       "      <td>0</td>\n",
       "      <td>0.074839</td>\n",
       "    </tr>\n",
       "    <tr>\n",
       "      <th>4</th>\n",
       "      <td>2333-KWEWW</td>\n",
       "      <td>0</td>\n",
       "      <td>0.087670</td>\n",
       "    </tr>\n",
       "  </tbody>\n",
       "</table>\n",
       "</div>"
      ],
      "text/plain": [
       "   customerID  ypreds_lrcv  yprobs_lrcv\n",
       "0  1794-HBQTJ            1     0.713449\n",
       "1  0356-OBMAC            0     0.210394\n",
       "2  4077-CROMM            1     0.757991\n",
       "3  5442-PPTJY            0     0.074839\n",
       "4  2333-KWEWW            0     0.087670"
      ]
     },
     "execution_count": 15,
     "metadata": {},
     "output_type": "execute_result"
    }
   ],
   "source": [
    "dfs = [pd.read_csv(f) for f in path_preds]\n",
    "dfs[0].head()"
   ]
  },
  {
   "cell_type": "code",
   "execution_count": 16,
   "metadata": {
    "ExecuteTime": {
     "end_time": "2020-12-24T00:13:45.202238Z",
     "start_time": "2020-12-24T00:13:45.198337Z"
    }
   },
   "outputs": [],
   "source": [
    "df = dfs[0]"
   ]
  },
  {
   "cell_type": "code",
   "execution_count": 17,
   "metadata": {
    "ExecuteTime": {
     "end_time": "2020-12-24T00:14:19.760046Z",
     "start_time": "2020-12-24T00:14:19.703330Z"
    }
   },
   "outputs": [],
   "source": [
    "for dfx in dfs[1:]:\n",
    "    df = pd.merge(df,dfx,on='customerID')"
   ]
  },
  {
   "cell_type": "code",
   "execution_count": 18,
   "metadata": {
    "ExecuteTime": {
     "end_time": "2020-12-24T00:14:24.751487Z",
     "start_time": "2020-12-24T00:14:24.733244Z"
    }
   },
   "outputs": [
    {
     "data": {
      "text/html": [
       "<div>\n",
       "<style scoped>\n",
       "    .dataframe tbody tr th:only-of-type {\n",
       "        vertical-align: middle;\n",
       "    }\n",
       "\n",
       "    .dataframe tbody tr th {\n",
       "        vertical-align: top;\n",
       "    }\n",
       "\n",
       "    .dataframe thead th {\n",
       "        text-align: right;\n",
       "    }\n",
       "</style>\n",
       "<table border=\"1\" class=\"dataframe\">\n",
       "  <thead>\n",
       "    <tr style=\"text-align: right;\">\n",
       "      <th></th>\n",
       "      <th>customerID</th>\n",
       "      <th>ypreds_lrcv</th>\n",
       "      <th>yprobs_lrcv</th>\n",
       "      <th>ypreds_featuretools_lr</th>\n",
       "      <th>yprobs_featuretools_lr</th>\n",
       "      <th>ypreds_pycaret_nb</th>\n",
       "      <th>yprobs_pycaret_nb</th>\n",
       "      <th>ypreds_pycaret_lr</th>\n",
       "      <th>yprobs_pycaret_lr</th>\n",
       "      <th>ypreds_pycaret_lda</th>\n",
       "      <th>yprobs_pycaret_lda</th>\n",
       "      <th>ypreds_pycaret_xgboost</th>\n",
       "      <th>yprobs_pycaret_xgboost</th>\n",
       "      <th>ypreds_lr</th>\n",
       "      <th>yprobs_lr</th>\n",
       "    </tr>\n",
       "  </thead>\n",
       "  <tbody>\n",
       "    <tr>\n",
       "      <th>0</th>\n",
       "      <td>1794-HBQTJ</td>\n",
       "      <td>1</td>\n",
       "      <td>0.713449</td>\n",
       "      <td>0</td>\n",
       "      <td>0.445886</td>\n",
       "      <td>1</td>\n",
       "      <td>0.9967</td>\n",
       "      <td>1</td>\n",
       "      <td>0.5445</td>\n",
       "      <td>0</td>\n",
       "      <td>0.6444</td>\n",
       "      <td>1</td>\n",
       "      <td>0.5433</td>\n",
       "      <td>1</td>\n",
       "      <td>1.000000</td>\n",
       "    </tr>\n",
       "    <tr>\n",
       "      <th>1</th>\n",
       "      <td>0356-OBMAC</td>\n",
       "      <td>0</td>\n",
       "      <td>0.210394</td>\n",
       "      <td>0</td>\n",
       "      <td>0.078101</td>\n",
       "      <td>0</td>\n",
       "      <td>1.0000</td>\n",
       "      <td>0</td>\n",
       "      <td>0.7947</td>\n",
       "      <td>0</td>\n",
       "      <td>0.9264</td>\n",
       "      <td>0</td>\n",
       "      <td>0.7239</td>\n",
       "      <td>1</td>\n",
       "      <td>0.956693</td>\n",
       "    </tr>\n",
       "    <tr>\n",
       "      <th>2</th>\n",
       "      <td>4077-CROMM</td>\n",
       "      <td>1</td>\n",
       "      <td>0.757991</td>\n",
       "      <td>1</td>\n",
       "      <td>0.508567</td>\n",
       "      <td>1</td>\n",
       "      <td>0.7255</td>\n",
       "      <td>1</td>\n",
       "      <td>0.7195</td>\n",
       "      <td>1</td>\n",
       "      <td>0.6536</td>\n",
       "      <td>1</td>\n",
       "      <td>0.5501</td>\n",
       "      <td>1</td>\n",
       "      <td>1.000000</td>\n",
       "    </tr>\n",
       "    <tr>\n",
       "      <th>3</th>\n",
       "      <td>5442-PPTJY</td>\n",
       "      <td>0</td>\n",
       "      <td>0.074839</td>\n",
       "      <td>0</td>\n",
       "      <td>0.022152</td>\n",
       "      <td>0</td>\n",
       "      <td>1.0000</td>\n",
       "      <td>0</td>\n",
       "      <td>0.9508</td>\n",
       "      <td>0</td>\n",
       "      <td>0.9534</td>\n",
       "      <td>0</td>\n",
       "      <td>0.8111</td>\n",
       "      <td>1</td>\n",
       "      <td>1.000000</td>\n",
       "    </tr>\n",
       "    <tr>\n",
       "      <th>4</th>\n",
       "      <td>2333-KWEWW</td>\n",
       "      <td>0</td>\n",
       "      <td>0.087670</td>\n",
       "      <td>0</td>\n",
       "      <td>0.019473</td>\n",
       "      <td>0</td>\n",
       "      <td>1.0000</td>\n",
       "      <td>0</td>\n",
       "      <td>0.9625</td>\n",
       "      <td>0</td>\n",
       "      <td>0.9574</td>\n",
       "      <td>0</td>\n",
       "      <td>0.8104</td>\n",
       "      <td>1</td>\n",
       "      <td>1.000000</td>\n",
       "    </tr>\n",
       "  </tbody>\n",
       "</table>\n",
       "</div>"
      ],
      "text/plain": [
       "   customerID  ypreds_lrcv  yprobs_lrcv  ypreds_featuretools_lr  \\\n",
       "0  1794-HBQTJ            1     0.713449                       0   \n",
       "1  0356-OBMAC            0     0.210394                       0   \n",
       "2  4077-CROMM            1     0.757991                       1   \n",
       "3  5442-PPTJY            0     0.074839                       0   \n",
       "4  2333-KWEWW            0     0.087670                       0   \n",
       "\n",
       "   yprobs_featuretools_lr  ypreds_pycaret_nb  yprobs_pycaret_nb  \\\n",
       "0                0.445886                  1             0.9967   \n",
       "1                0.078101                  0             1.0000   \n",
       "2                0.508567                  1             0.7255   \n",
       "3                0.022152                  0             1.0000   \n",
       "4                0.019473                  0             1.0000   \n",
       "\n",
       "   ypreds_pycaret_lr  yprobs_pycaret_lr  ypreds_pycaret_lda  \\\n",
       "0                  1             0.5445                   0   \n",
       "1                  0             0.7947                   0   \n",
       "2                  1             0.7195                   1   \n",
       "3                  0             0.9508                   0   \n",
       "4                  0             0.9625                   0   \n",
       "\n",
       "   yprobs_pycaret_lda  ypreds_pycaret_xgboost  yprobs_pycaret_xgboost  \\\n",
       "0              0.6444                       1                  0.5433   \n",
       "1              0.9264                       0                  0.7239   \n",
       "2              0.6536                       1                  0.5501   \n",
       "3              0.9534                       0                  0.8111   \n",
       "4              0.9574                       0                  0.8104   \n",
       "\n",
       "   ypreds_lr  yprobs_lr  \n",
       "0          1   1.000000  \n",
       "1          1   0.956693  \n",
       "2          1   1.000000  \n",
       "3          1   1.000000  \n",
       "4          1   1.000000  "
      ]
     },
     "execution_count": 18,
     "metadata": {},
     "output_type": "execute_result"
    }
   ],
   "source": [
    "df.head()"
   ]
  },
  {
   "cell_type": "markdown",
   "metadata": {},
   "source": [
    "# Combining All predictions"
   ]
  },
  {
   "cell_type": "code",
   "execution_count": 20,
   "metadata": {
    "ExecuteTime": {
     "end_time": "2020-12-24T00:18:29.607694Z",
     "start_time": "2020-12-24T00:18:29.595436Z"
    }
   },
   "outputs": [
    {
     "data": {
      "text/html": [
       "<div>\n",
       "<style scoped>\n",
       "    .dataframe tbody tr th:only-of-type {\n",
       "        vertical-align: middle;\n",
       "    }\n",
       "\n",
       "    .dataframe tbody tr th {\n",
       "        vertical-align: top;\n",
       "    }\n",
       "\n",
       "    .dataframe thead th {\n",
       "        text-align: right;\n",
       "    }\n",
       "</style>\n",
       "<table border=\"1\" class=\"dataframe\">\n",
       "  <thead>\n",
       "    <tr style=\"text-align: right;\">\n",
       "      <th></th>\n",
       "      <th>ypreds_lrcv</th>\n",
       "      <th>ypreds_featuretools_lr</th>\n",
       "      <th>ypreds_pycaret_nb</th>\n",
       "      <th>ypreds_pycaret_lr</th>\n",
       "      <th>ypreds_pycaret_lda</th>\n",
       "      <th>ypreds_pycaret_xgboost</th>\n",
       "      <th>ypreds_lr</th>\n",
       "    </tr>\n",
       "  </thead>\n",
       "  <tbody>\n",
       "    <tr>\n",
       "      <th>0</th>\n",
       "      <td>1</td>\n",
       "      <td>0</td>\n",
       "      <td>1</td>\n",
       "      <td>1</td>\n",
       "      <td>0</td>\n",
       "      <td>1</td>\n",
       "      <td>1</td>\n",
       "    </tr>\n",
       "    <tr>\n",
       "      <th>1</th>\n",
       "      <td>0</td>\n",
       "      <td>0</td>\n",
       "      <td>0</td>\n",
       "      <td>0</td>\n",
       "      <td>0</td>\n",
       "      <td>0</td>\n",
       "      <td>1</td>\n",
       "    </tr>\n",
       "  </tbody>\n",
       "</table>\n",
       "</div>"
      ],
      "text/plain": [
       "   ypreds_lrcv  ypreds_featuretools_lr  ypreds_pycaret_nb  ypreds_pycaret_lr  \\\n",
       "0            1                       0                  1                  1   \n",
       "1            0                       0                  0                  0   \n",
       "\n",
       "   ypreds_pycaret_lda  ypreds_pycaret_xgboost  ypreds_lr  \n",
       "0                   0                       1          1  \n",
       "1                   0                       0          1  "
      ]
     },
     "execution_count": 20,
     "metadata": {},
     "output_type": "execute_result"
    }
   ],
   "source": [
    "df.filter(regex='ypreds_').head(2)"
   ]
  },
  {
   "cell_type": "code",
   "execution_count": 25,
   "metadata": {
    "ExecuteTime": {
     "end_time": "2020-12-24T00:20:18.169599Z",
     "start_time": "2020-12-24T00:20:18.161518Z"
    }
   },
   "outputs": [
    {
     "data": {
      "text/plain": [
       "0    1\n",
       "1    0\n",
       "2    1\n",
       "3    0\n",
       "4    0\n",
       "dtype: int8"
      ]
     },
     "execution_count": 25,
     "metadata": {},
     "output_type": "execute_result"
    }
   ],
   "source": [
    "ypreds = df.filter(regex='ypreds_').mean(axis=1).gt(0.5).astype(np.int8)\n",
    "ypreds[:5]"
   ]
  },
  {
   "cell_type": "code",
   "execution_count": 32,
   "metadata": {
    "ExecuteTime": {
     "end_time": "2020-12-24T00:24:08.553822Z",
     "start_time": "2020-12-24T00:24:08.542753Z"
    }
   },
   "outputs": [
    {
     "data": {
      "text/plain": [
       "array([[785, 250],\n",
       "       [ 88, 286]])"
      ]
     },
     "execution_count": 32,
     "metadata": {},
     "output_type": "execute_result"
    }
   ],
   "source": [
    "skmetrics.confusion_matrix(ytest,ypreds)"
   ]
  },
  {
   "cell_type": "code",
   "execution_count": 33,
   "metadata": {
    "ExecuteTime": {
     "end_time": "2020-12-24T00:25:34.820059Z",
     "start_time": "2020-12-24T00:25:34.812085Z"
    }
   },
   "outputs": [
    {
     "data": {
      "text/plain": [
       "71800"
      ]
     },
     "execution_count": 33,
     "metadata": {},
     "output_type": "execute_result"
    }
   ],
   "source": [
    "custom_loss(ytest, ypreds)"
   ]
  },
  {
   "cell_type": "code",
   "execution_count": null,
   "metadata": {},
   "outputs": [],
   "source": []
  }
 ],
 "metadata": {
  "kernelspec": {
   "display_name": "Python (dataSc)",
   "language": "python",
   "name": "datasc"
  },
  "language_info": {
   "codemirror_mode": {
    "name": "ipython",
    "version": 3
   },
   "file_extension": ".py",
   "mimetype": "text/x-python",
   "name": "python",
   "nbconvert_exporter": "python",
   "pygments_lexer": "ipython3",
   "version": "3.7.7"
  },
  "toc": {
   "base_numbering": 1,
   "nav_menu": {},
   "number_sections": true,
   "sideBar": true,
   "skip_h1_title": false,
   "title_cell": "Table of Contents",
   "title_sidebar": "Contents",
   "toc_cell": true,
   "toc_position": {},
   "toc_section_display": true,
   "toc_window_display": false
  }
 },
 "nbformat": 4,
 "nbformat_minor": 4
}
