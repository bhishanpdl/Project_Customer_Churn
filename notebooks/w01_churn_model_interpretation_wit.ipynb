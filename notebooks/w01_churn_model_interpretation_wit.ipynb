{
 "cells": [
  {
   "cell_type": "markdown",
   "metadata": {
    "toc": true
   },
   "source": [
    "<h1>Table of Contents<span class=\"tocSkip\"></span></h1>\n",
    "<div class=\"toc\"><ul class=\"toc-item\"><li><span><a href=\"#Introduction\" data-toc-modified-id=\"Introduction-1\"><span class=\"toc-item-num\">1&nbsp;&nbsp;</span>Introduction</a></span></li><li><span><a href=\"#Load-the-libraries\" data-toc-modified-id=\"Load-the-libraries-2\"><span class=\"toc-item-num\">2&nbsp;&nbsp;</span>Load the libraries</a></span></li><li><span><a href=\"#Load-the-libraries\" data-toc-modified-id=\"Load-the-libraries-3\"><span class=\"toc-item-num\">3&nbsp;&nbsp;</span>Load the libraries</a></span></li><li><span><a href=\"#Useful-Functions\" data-toc-modified-id=\"Useful-Functions-4\"><span class=\"toc-item-num\">4&nbsp;&nbsp;</span>Useful Functions</a></span></li><li><span><a href=\"#--Load-the-Data\" data-toc-modified-id=\"--Load-the-Data-5\"><span class=\"toc-item-num\">5&nbsp;&nbsp;</span>  Load the Data</a></span></li><li><span><a href=\"#-Data-Processing--\" data-toc-modified-id=\"-Data-Processing---6\"><span class=\"toc-item-num\">6&nbsp;&nbsp;</span> Data Processing  </a></span></li><li><span><a href=\"#-Oversampling:-SMOTE-\" data-toc-modified-id=\"-Oversampling:-SMOTE--7\"><span class=\"toc-item-num\">7&nbsp;&nbsp;</span> Oversampling: SMOTE </a></span></li><li><span><a href=\"#Scaling-Numerical-Features-(Yeo-Johnson)\" data-toc-modified-id=\"Scaling-Numerical-Features-(Yeo-Johnson)-8\"><span class=\"toc-item-num\">8&nbsp;&nbsp;</span>Scaling Numerical Features (Yeo-Johnson)</a></span></li><li><span><a href=\"#--Modelling-\" data-toc-modified-id=\"--Modelling--9\"><span class=\"toc-item-num\">9&nbsp;&nbsp;</span>  Modelling </a></span></li><li><span><a href=\"#Using-What-if-tool\" data-toc-modified-id=\"Using-What-if-tool-10\"><span class=\"toc-item-num\">10&nbsp;&nbsp;</span>Using What if tool</a></span></li></ul></div>"
   ]
  },
  {
   "cell_type": "markdown",
   "metadata": {},
   "source": [
    "<div class=\"alert alert-block alert-success\">\n",
    "<b>Kernel Author:</b>  <br>\n",
    "<a href=\"https://bhishanpdl.github.io/\" , target=\"_blank\">Bhishan Poudel,  Data Scientist, Ph.D Astrophysics</a> .\n",
    "</div>"
   ]
  },
  {
   "cell_type": "markdown",
   "metadata": {},
   "source": [
    "# Introduction\n",
    "What If Tool (WIT) is developed by Google for model explanation.\n",
    "Here, we use the tool for xgboost model interpretation."
   ]
  },
  {
   "cell_type": "markdown",
   "metadata": {},
   "source": [
    "# Load the libraries"
   ]
  },
  {
   "cell_type": "code",
   "execution_count": 1,
   "metadata": {
    "ExecuteTime": {
     "end_time": "2020-12-20T02:39:17.577922Z",
     "start_time": "2020-12-20T02:39:17.574635Z"
    }
   },
   "outputs": [],
   "source": [
    "import time\n",
    "time_start_notebook = time.time()"
   ]
  },
  {
   "cell_type": "code",
   "execution_count": 2,
   "metadata": {
    "ExecuteTime": {
     "end_time": "2020-12-20T02:39:17.592358Z",
     "start_time": "2020-12-20T02:39:17.584089Z"
    }
   },
   "outputs": [],
   "source": [
    "%%capture\n",
    "import os\n",
    "import sys\n",
    "ENV_COLAB = 'google.colab' in sys.modules\n",
    "\n",
    "if ENV_COLAB:\n",
    "    ## install modules\n",
    "    !pip install watermark\n",
    "    !pip install --upgrade witwidget\n",
    "\n",
    "    # if we update existing module, we need to restart colab\n",
    "    !pip install -U scikit-learn\n",
    "\n",
    "    ## print\n",
    "    print('Environment: Google Colaboratory.')\n",
    "TREE_METHOD = 'gpu_hist' if ENV_COLAB else 'auto'"
   ]
  },
  {
   "cell_type": "markdown",
   "metadata": {},
   "source": [
    "# Load the libraries"
   ]
  },
  {
   "cell_type": "code",
   "execution_count": 3,
   "metadata": {
    "ExecuteTime": {
     "end_time": "2020-12-20T02:39:21.017885Z",
     "start_time": "2020-12-20T02:39:17.597234Z"
    }
   },
   "outputs": [
    {
     "name": "stdout",
     "output_type": "stream",
     "text": [
      "Bhishan Poudel 2020-12-19 \n",
      "\n",
      "CPython 3.7.9\n",
      "IPython 7.18.1\n",
      "\n",
      "compiler   : Clang 10.0.0 \n",
      "system     : Darwin\n",
      "release    : 19.6.0\n",
      "machine    : x86_64\n",
      "processor  : i386\n",
      "CPU cores  : 4\n",
      "interpreter: 64bit\n",
      "\n",
      "pandas    1.1.2\n",
      "numpy     1.18.5\n",
      "json      2.0.9\n",
      "xgboost   1.2.0\n",
      "sklearn   0.23.2\n",
      "autopep8  1.5.4\n",
      "watermark 2.0.2\n",
      "\n"
     ]
    }
   ],
   "source": [
    "import numpy as np\n",
    "import pandas as pd\n",
    "import xgboost\n",
    "import sklearn\n",
    "from sklearn import metrics as skmetrics\n",
    "\n",
    "# model eval\n",
    "import witwidget\n",
    "from witwidget.notebook.visualization import WitConfigBuilder\n",
    "from witwidget.notebook.visualization import WitWidget\n",
    "\n",
    "SEED = 100\n",
    "\n",
    "# versions\n",
    "import watermark\n",
    "%load_ext watermark\n",
    "%watermark -a \"Bhishan Poudel\" -d -v -m\n",
    "print()\n",
    "%watermark -iv"
   ]
  },
  {
   "cell_type": "markdown",
   "metadata": {},
   "source": [
    "# Useful Functions"
   ]
  },
  {
   "cell_type": "code",
   "execution_count": 4,
   "metadata": {
    "ExecuteTime": {
     "end_time": "2020-12-20T02:39:21.039245Z",
     "start_time": "2020-12-20T02:39:21.023211Z"
    }
   },
   "outputs": [],
   "source": [
    "def show_methods(obj, ncols=4,contains=None):\n",
    "    lst = [i for i in dir(obj) if i[0]!='_' ]\n",
    "    if contains is not None:\n",
    "        lst = [i for i in lst if contains in i]\n",
    "    df = pd.DataFrame(np.array_split(lst,ncols)).T.fillna('')\n",
    "    return df\n",
    "\n",
    "def adjustedR2(rsquared,nrows,ncols):\n",
    "    return rsquared- (ncols-1)/(nrows-ncols) * (1-rsquared)\n",
    "\n",
    "def print_regr_eval(ytest,ypreds,ncols):\n",
    "    rmse = np.sqrt(skmetrics.mean_squared_error(ytest,ypreds))\n",
    "    r2 = skmetrics.r2_score(ytest,ypreds)\n",
    "    ar2 = adjustedR2(r2,len(ytest),ncols)\n",
    "    evs = skmetrics.explained_variance_score(ytest, ypreds)\n",
    "\n",
    "    print(f\"\"\"\n",
    "             RMSE : {rmse:,.2f}\n",
    "Explained Variance: {evs:.6f}\n",
    "         R-Squared: {r2:,.6f}\n",
    "Adjusted R-squared: {ar2:,.6f}\n",
    "\n",
    "\"\"\")"
   ]
  },
  {
   "cell_type": "markdown",
   "metadata": {},
   "source": [
    "<a id=\"\" ></a>\n",
    "\n",
    "<h1>  Load the Data</h1> \n",
    "\n",
    "<a href=\"#top\" class=\"btn btn-primary btn-sm\" role=\"button\" aria-pressed=\"true\" style=\"color:white\" data-toggle=\"popover\" title=\"go to TOC\">Go to Top</a>"
   ]
  },
  {
   "cell_type": "code",
   "execution_count": 5,
   "metadata": {
    "ExecuteTime": {
     "end_time": "2020-12-20T02:39:21.056081Z",
     "start_time": "2020-12-20T02:39:21.047366Z"
    }
   },
   "outputs": [],
   "source": [
    "path_data_train = '../data/raw/train.csv'\n",
    "path_data_test = '../data/raw/test.csv'\n",
    "\n",
    "if ENV_COLAB:\n",
    "    path_data_train = 'https://raw.githubusercontent.com/bhishanpdl/Datasets/master/Projects/Telco_Customer_Churn/raw/train.csv'\n",
    "    path_data_test = 'https://raw.githubusercontent.com/bhishanpdl/Datasets/master/Projects/Telco_Customer_Churn/raw/test.csv.csv'"
   ]
  },
  {
   "cell_type": "code",
   "execution_count": 6,
   "metadata": {
    "ExecuteTime": {
     "end_time": "2020-12-20T02:39:21.156632Z",
     "start_time": "2020-12-20T02:39:21.068600Z"
    }
   },
   "outputs": [
    {
     "name": "stdout",
     "output_type": "stream",
     "text": [
      "(5634, 21)\n",
      "(1409, 21)\n"
     ]
    },
    {
     "data": {
      "text/html": [
       "<div>\n",
       "<style scoped>\n",
       "    .dataframe tbody tr th:only-of-type {\n",
       "        vertical-align: middle;\n",
       "    }\n",
       "\n",
       "    .dataframe tbody tr th {\n",
       "        vertical-align: top;\n",
       "    }\n",
       "\n",
       "    .dataframe thead th {\n",
       "        text-align: right;\n",
       "    }\n",
       "</style>\n",
       "<table border=\"1\" class=\"dataframe\">\n",
       "  <thead>\n",
       "    <tr style=\"text-align: right;\">\n",
       "      <th></th>\n",
       "      <th>customerID</th>\n",
       "      <th>gender</th>\n",
       "      <th>SeniorCitizen</th>\n",
       "      <th>Partner</th>\n",
       "      <th>Dependents</th>\n",
       "      <th>tenure</th>\n",
       "      <th>PhoneService</th>\n",
       "      <th>MultipleLines</th>\n",
       "      <th>InternetService</th>\n",
       "      <th>OnlineSecurity</th>\n",
       "      <th>...</th>\n",
       "      <th>DeviceProtection</th>\n",
       "      <th>TechSupport</th>\n",
       "      <th>StreamingTV</th>\n",
       "      <th>StreamingMovies</th>\n",
       "      <th>Contract</th>\n",
       "      <th>PaperlessBilling</th>\n",
       "      <th>PaymentMethod</th>\n",
       "      <th>MonthlyCharges</th>\n",
       "      <th>TotalCharges</th>\n",
       "      <th>Churn</th>\n",
       "    </tr>\n",
       "  </thead>\n",
       "  <tbody>\n",
       "    <tr>\n",
       "      <th>0</th>\n",
       "      <td>1621-YNCJH</td>\n",
       "      <td>Female</td>\n",
       "      <td>0</td>\n",
       "      <td>Yes</td>\n",
       "      <td>No</td>\n",
       "      <td>36</td>\n",
       "      <td>Yes</td>\n",
       "      <td>Yes</td>\n",
       "      <td>Fiber optic</td>\n",
       "      <td>Yes</td>\n",
       "      <td>...</td>\n",
       "      <td>Yes</td>\n",
       "      <td>Yes</td>\n",
       "      <td>No</td>\n",
       "      <td>Yes</td>\n",
       "      <td>Two year</td>\n",
       "      <td>Yes</td>\n",
       "      <td>Credit card (automatic)</td>\n",
       "      <td>106.05</td>\n",
       "      <td>3834.4</td>\n",
       "      <td>No</td>\n",
       "    </tr>\n",
       "    <tr>\n",
       "      <th>1</th>\n",
       "      <td>7143-BQIBA</td>\n",
       "      <td>Male</td>\n",
       "      <td>0</td>\n",
       "      <td>No</td>\n",
       "      <td>No</td>\n",
       "      <td>10</td>\n",
       "      <td>Yes</td>\n",
       "      <td>No</td>\n",
       "      <td>DSL</td>\n",
       "      <td>Yes</td>\n",
       "      <td>...</td>\n",
       "      <td>No</td>\n",
       "      <td>Yes</td>\n",
       "      <td>Yes</td>\n",
       "      <td>No</td>\n",
       "      <td>Month-to-month</td>\n",
       "      <td>No</td>\n",
       "      <td>Bank transfer (automatic)</td>\n",
       "      <td>62.25</td>\n",
       "      <td>612.95</td>\n",
       "      <td>No</td>\n",
       "    </tr>\n",
       "    <tr>\n",
       "      <th>5632</th>\n",
       "      <td>0862-PRCBS</td>\n",
       "      <td>Female</td>\n",
       "      <td>0</td>\n",
       "      <td>Yes</td>\n",
       "      <td>Yes</td>\n",
       "      <td>68</td>\n",
       "      <td>Yes</td>\n",
       "      <td>Yes</td>\n",
       "      <td>Fiber optic</td>\n",
       "      <td>No</td>\n",
       "      <td>...</td>\n",
       "      <td>No</td>\n",
       "      <td>Yes</td>\n",
       "      <td>Yes</td>\n",
       "      <td>Yes</td>\n",
       "      <td>Two year</td>\n",
       "      <td>Yes</td>\n",
       "      <td>Credit card (automatic)</td>\n",
       "      <td>103.75</td>\n",
       "      <td>7039.45</td>\n",
       "      <td>No</td>\n",
       "    </tr>\n",
       "    <tr>\n",
       "      <th>5633</th>\n",
       "      <td>4656-CAURT</td>\n",
       "      <td>Male</td>\n",
       "      <td>0</td>\n",
       "      <td>No</td>\n",
       "      <td>No</td>\n",
       "      <td>69</td>\n",
       "      <td>Yes</td>\n",
       "      <td>Yes</td>\n",
       "      <td>No</td>\n",
       "      <td>No internet service</td>\n",
       "      <td>...</td>\n",
       "      <td>No internet service</td>\n",
       "      <td>No internet service</td>\n",
       "      <td>No internet service</td>\n",
       "      <td>No internet service</td>\n",
       "      <td>Two year</td>\n",
       "      <td>No</td>\n",
       "      <td>Bank transfer (automatic)</td>\n",
       "      <td>23.95</td>\n",
       "      <td>1713.1</td>\n",
       "      <td>No</td>\n",
       "    </tr>\n",
       "  </tbody>\n",
       "</table>\n",
       "<p>4 rows × 21 columns</p>\n",
       "</div>"
      ],
      "text/plain": [
       "      customerID  gender  SeniorCitizen Partner Dependents  tenure  \\\n",
       "0     1621-YNCJH  Female              0     Yes         No      36   \n",
       "1     7143-BQIBA    Male              0      No         No      10   \n",
       "5632  0862-PRCBS  Female              0     Yes        Yes      68   \n",
       "5633  4656-CAURT    Male              0      No         No      69   \n",
       "\n",
       "     PhoneService MultipleLines InternetService       OnlineSecurity  ...  \\\n",
       "0             Yes           Yes     Fiber optic                  Yes  ...   \n",
       "1             Yes            No             DSL                  Yes  ...   \n",
       "5632          Yes           Yes     Fiber optic                   No  ...   \n",
       "5633          Yes           Yes              No  No internet service  ...   \n",
       "\n",
       "         DeviceProtection          TechSupport          StreamingTV  \\\n",
       "0                     Yes                  Yes                   No   \n",
       "1                      No                  Yes                  Yes   \n",
       "5632                   No                  Yes                  Yes   \n",
       "5633  No internet service  No internet service  No internet service   \n",
       "\n",
       "          StreamingMovies        Contract PaperlessBilling  \\\n",
       "0                     Yes        Two year              Yes   \n",
       "1                      No  Month-to-month               No   \n",
       "5632                  Yes        Two year              Yes   \n",
       "5633  No internet service        Two year               No   \n",
       "\n",
       "                  PaymentMethod MonthlyCharges  TotalCharges Churn  \n",
       "0       Credit card (automatic)         106.05        3834.4    No  \n",
       "1     Bank transfer (automatic)          62.25        612.95    No  \n",
       "5632    Credit card (automatic)         103.75       7039.45    No  \n",
       "5633  Bank transfer (automatic)          23.95        1713.1    No  \n",
       "\n",
       "[4 rows x 21 columns]"
      ]
     },
     "execution_count": 6,
     "metadata": {},
     "output_type": "execute_result"
    }
   ],
   "source": [
    "df_train = pd.read_csv(path_data_train)\n",
    "df_test = pd.read_csv(path_data_test)\n",
    "\n",
    "print(df_train.shape)\n",
    "print(df_test.shape)\n",
    "df_train.head(2).append(df_train.tail(2))"
   ]
  },
  {
   "cell_type": "code",
   "execution_count": 7,
   "metadata": {
    "ExecuteTime": {
     "end_time": "2020-12-20T02:39:21.166412Z",
     "start_time": "2020-12-20T02:39:21.158856Z"
    }
   },
   "outputs": [],
   "source": [
    "target_name = 'Churn'"
   ]
  },
  {
   "cell_type": "markdown",
   "metadata": {},
   "source": [
    "<a id=\"eda\" ></a>\n",
    "\n",
    "<h1> Data Processing  </h1> \n",
    "\n",
    "<a href=\"#top\" class=\"btn btn-primary btn-sm\" role=\"button\" aria-pressed=\"true\" style=\"color:white\" data-toggle=\"popover\" title=\"go to TOC\">Go to Top</a>"
   ]
  },
  {
   "cell_type": "code",
   "execution_count": 8,
   "metadata": {
    "ExecuteTime": {
     "end_time": "2020-12-20T02:39:21.176316Z",
     "start_time": "2020-12-20T02:39:21.171846Z"
    }
   },
   "outputs": [],
   "source": [
    "from sklearn.preprocessing import OneHotEncoder"
   ]
  },
  {
   "cell_type": "code",
   "execution_count": 9,
   "metadata": {
    "ExecuteTime": {
     "end_time": "2020-12-20T02:39:21.197003Z",
     "start_time": "2020-12-20T02:39:21.179714Z"
    }
   },
   "outputs": [],
   "source": [
    "def clean_data(dfx):\n",
    "    dfx = dfx.copy()\n",
    "\n",
    "    # from eda we see that gender has no effect\n",
    "    cols_drop = ['customerID','gender']\n",
    "    dfx = dfx.drop(cols_drop,axis=1)\n",
    "\n",
    "    # replace values\n",
    "    dic_replace = [\n",
    "        {'SeniorCitizen': {0:'No', 1:'Yes'}},\n",
    "        {'MultipleLines': {'No phone service':'N/A'}},\n",
    "        {'SeniorCitizen': {'No':'Not_SenCit', 'Yes':'SeniorCitizen'}},\n",
    "        {'Partner': {'No':'No_Partner', 'Yes':'Partner'}},\n",
    "        {'Dependents': {'No':'No_Dependents', 'Yes':'Dependents'}},\n",
    "        {'PaperlessBilling': {'No':'No_PaperlessBill', 'Yes':'PaperlessBill'}},\n",
    "        {'PhoneService': {'No':'No_PhoneService', 'Yes':'PhoneService'}},\n",
    "        {'MultipleLines': {'No':'No_MultiLines', 'Yes':'MultiLines', 'N/A': 'No_PhoneService'}},\n",
    "        {'InternetService': {'No':'No_internet_service'}},\n",
    "        {'OnlineSecurity': {'No':'No_OnlineSecurity', 'Yes':'OnlineSecurity'}},\n",
    "        {'OnlineBackup': {'No':'No_OnlineBackup', 'Yes':'OnlineBackup'}},\n",
    "        {'DeviceProtection': {'No':'No_DeviceProtection', 'Yes':'DeviceProtection'}},\n",
    "        {'TechSupport': {'No':'No_TechSupport', 'Yes':'TechSupport'}},\n",
    "        {'StreamingTV': {'No':'No_StreamingTV', 'Yes':'StreamingTV'}},\n",
    "        {'StreamingMovies': {'No':'No_StreamingMov', 'Yes':'StreamingMov'}}\n",
    "    ]\n",
    "    for dic in dic_replace:\n",
    "        dfx = dfx.replace(dic)\n",
    "\n",
    "    # impute \n",
    "    dfx['TotalCharges'] = pd.to_numeric(dfx['TotalCharges'],errors='coerce').fillna(0)\n",
    "\n",
    "    # sum of features\n",
    "    dfx['SenCit_Dependents']  = dfx['SeniorCitizen'] + '_' + dfx['Dependents']\n",
    "    dfx['Partner_Dependents'] = dfx['Partner']       + '_' + dfx['Dependents']\n",
    "    dfx['SenCit_Partner']     = dfx['SeniorCitizen'] + '_' + dfx['Partner']\n",
    "    dfx['SenCit_Contract']    = dfx['SeniorCitizen'] + '_' + dfx['Contract']\n",
    "    dfx['SenCit_TechSupport'] = dfx['SeniorCitizen'] + '_' + dfx['TechSupport']\n",
    "    dfx['SenCit_PayMeth']     = dfx['SeniorCitizen'] + '_' + dfx['PaymentMethod']\n",
    "\n",
    "    # aggration features\n",
    "    temp = (dfx.groupby('Contract')['TotalCharges'].agg(['mean'])\n",
    "             .rename({'mean':'Contract_mean_totCharges'},axis=1))\n",
    "    dfx = pd.merge(dfx, temp, on='Contract', how='left')\n",
    "\n",
    "    dfx['Contract_totCharges_diff'] = (dfx['TotalCharges'] \n",
    "                                      - dfx['Contract_mean_totCharges'])\n",
    "\n",
    "    temp = (dfx.groupby('PaymentMethod')['MonthlyCharges'].agg(['mean'])\n",
    "             .rename({'mean':'PayMeth_mean_monthCharges'},axis=1))\n",
    "    dfx = pd.merge(dfx, temp, on='PaymentMethod', how='left')\n",
    "\n",
    "    dfx['PayMeth_monthCharges_diff'] = (dfx['MonthlyCharges'] \n",
    "                                       - dfx['PayMeth_mean_monthCharges'])\n",
    "\n",
    "    multiLines_dict = {'No_PhoneService':0, 'No_MultiLines':1, 'MultiLines':2}\n",
    "    dfx['MultipleLines_Ordinal'] = dfx['MultipleLines'].map(multiLines_dict)\n",
    "\n",
    "    # Ordinal encoding of 'InternetService'\n",
    "    intServ_dict = {'No_internet_service':0, 'DSL':1, 'Fiber_optic':2}\n",
    "    dfx['InternetService_Ordinal'] = dfx['InternetService'].map(intServ_dict)\n",
    "\n",
    "    # Ordinal encoding of 'Contract'\n",
    "    contract_dict = {'Month-to-month':0, 'One_year':1, 'Two_year':2}\n",
    "    dfx['Contract_Ordinal'] = dfx['Contract'].map(contract_dict)\n",
    "\n",
    "    # Drop unnecessary columns that have been encoded\n",
    "    ordinal_drop_cols = ['MultipleLines', 'InternetService', 'Contract']\n",
    "    dfx.drop(ordinal_drop_cols, axis=1, inplace=True)\n",
    "\n",
    "    # Apply one-hot encoder to the relevant columns\n",
    "    cols_ohe = ['SeniorCitizen', 'Partner', 'Dependents', \n",
    "               'PaperlessBilling', 'PhoneService', 'OnlineSecurity', \n",
    "               'OnlineBackup', 'DeviceProtection', 'TechSupport',\n",
    "               'StreamingTV', 'StreamingMovies', 'PaymentMethod',\n",
    "               'SenCit_Dependents', 'Partner_Dependents', 'SenCit_Partner',\n",
    "               'SenCit_Contract', 'SenCit_TechSupport', 'SenCit_PayMeth']\n",
    "\n",
    "    enc_ohe = OneHotEncoder(handle_unknown='ignore', sparse=False)\n",
    "    df_ohe = pd.DataFrame(enc_ohe.fit_transform(dfx[cols_ohe]))\n",
    "\n",
    "    # Replace default column names with more descriptive ones\n",
    "    df_ohe.columns = enc_ohe.get_feature_names(cols_ohe)\n",
    "\n",
    "    # One-hot encoding removed index; put it back\n",
    "    df_ohe.index = dfx.index\n",
    "\n",
    "    # Remove categorical columns (will replace with one-hot encoding)\n",
    "    dfx.drop(cols_ohe, axis=1, inplace=True)\n",
    "\n",
    "    # Add one-hot encoded columns to numerical features\n",
    "    dfx = pd.concat([dfx, df_ohe], axis=1)\n",
    "    \n",
    "    # remove nans\n",
    "    cols_drop = ['InternetService_Ordinal','Contract_Ordinal']\n",
    "    dfx = dfx.drop(cols_drop, axis=1)\n",
    "    \n",
    "    # remove white spaces from column names\n",
    "    dfx = dfx.rename(columns=lambda x: x.strip())\n",
    "    \n",
    "    return dfx"
   ]
  },
  {
   "cell_type": "code",
   "execution_count": 10,
   "metadata": {
    "ExecuteTime": {
     "end_time": "2020-12-20T02:39:21.400715Z",
     "start_time": "2020-12-20T02:39:21.199325Z"
    }
   },
   "outputs": [],
   "source": [
    "df_train = clean_data(df_train)\n",
    "df_test  = clean_data(df_test)"
   ]
  },
  {
   "cell_type": "code",
   "execution_count": 11,
   "metadata": {
    "ExecuteTime": {
     "end_time": "2020-12-20T02:39:21.416093Z",
     "start_time": "2020-12-20T02:39:21.405772Z"
    }
   },
   "outputs": [],
   "source": [
    "df_Xtrain  = df_train.drop(target_name,axis=1)\n",
    "ser_ytrain = df_train[target_name].map({'No':0, 'Yes':1})\n",
    "\n",
    "df_Xtest   = df_test.drop(target_name,axis=1)\n",
    "ser_ytest  = df_test[target_name].map({'No':0, 'Yes':1})\n",
    "\n",
    "ytest = np.array(ser_ytest).flatten()"
   ]
  },
  {
   "cell_type": "markdown",
   "metadata": {},
   "source": [
    "<a id=\"\" ></a>\n",
    "\n",
    "<h1> Oversampling: SMOTE </h1> \n",
    "\n",
    "<a href=\"#top\" class=\"btn btn-primary btn-sm\" role=\"button\" aria-pressed=\"true\" style=\"color:white\" data-toggle=\"popover\" title=\"go to TOC\">Go to Top</a>"
   ]
  },
  {
   "cell_type": "code",
   "execution_count": 12,
   "metadata": {
    "ExecuteTime": {
     "end_time": "2020-12-20T02:39:21.572211Z",
     "start_time": "2020-12-20T02:39:21.419461Z"
    }
   },
   "outputs": [
    {
     "data": {
      "text/plain": [
       "'0.23.2'"
      ]
     },
     "execution_count": 12,
     "metadata": {},
     "output_type": "execute_result"
    }
   ],
   "source": [
    "from imblearn.over_sampling import SMOTE # smote needs sklearn 0.23.1\n",
    "import sklearn\n",
    "sklearn.__version__"
   ]
  },
  {
   "cell_type": "code",
   "execution_count": 13,
   "metadata": {
    "ExecuteTime": {
     "end_time": "2020-12-20T02:39:21.640568Z",
     "start_time": "2020-12-20T02:39:21.576630Z"
    }
   },
   "outputs": [],
   "source": [
    "smote = SMOTE(sampling_strategy=0.5, random_state=SEED)\n",
    "\n",
    "df_Xtrain_smote, ser_ytrain_smote = smote.fit_resample(df_Xtrain,ser_ytrain)"
   ]
  },
  {
   "cell_type": "markdown",
   "metadata": {},
   "source": [
    "# Scaling Numerical Features (Yeo-Johnson)\n",
    "- Instead of Standard scaling use power transformer (yeo-johnson) for \n",
    "  not-uniform distribution\n",
    "  \n",
    " ```python\n",
    "sklearn.preprocessing.PowerTransformer(\n",
    "    method='yeo-johnson', *, standardize=True, copy=True)\n",
    "```"
   ]
  },
  {
   "cell_type": "code",
   "execution_count": 14,
   "metadata": {
    "ExecuteTime": {
     "end_time": "2020-12-20T02:39:21.650543Z",
     "start_time": "2020-12-20T02:39:21.643183Z"
    }
   },
   "outputs": [],
   "source": [
    "from sklearn.compose import ColumnTransformer\n",
    "from sklearn.preprocessing import StandardScaler\n",
    "from sklearn.preprocessing import PowerTransformer"
   ]
  },
  {
   "cell_type": "code",
   "execution_count": 15,
   "metadata": {
    "ExecuteTime": {
     "end_time": "2020-12-20T02:39:21.714566Z",
     "start_time": "2020-12-20T02:39:21.653858Z"
    }
   },
   "outputs": [],
   "source": [
    "# Define the columns we wish to transform\n",
    "cols_scale = ['tenure', 'MonthlyCharges', 'TotalCharges',\n",
    "              'Contract_totCharges_diff',\n",
    "              'PayMeth_monthCharges_diff']\n",
    "\n",
    "# Scale the relevant columns\n",
    "transformer = ColumnTransformer([('yeo_johnson', PowerTransformer(), cols_scale)], \n",
    "                                remainder='passthrough')\n",
    "transformer.fit(df_Xtrain)\n",
    "\n",
    "df_Xtrain_scaled = pd.DataFrame(transformer.transform(df_Xtrain))\n",
    "df_Xtest_scaled = pd.DataFrame(transformer.transform(df_Xtest))\n",
    "\n",
    "#features\n",
    "df_Xtrain_scaled.columns = df_Xtrain.columns\n",
    "df_Xtest_scaled.columns = df_Xtest.columns"
   ]
  },
  {
   "cell_type": "code",
   "execution_count": 16,
   "metadata": {
    "ExecuteTime": {
     "end_time": "2020-12-20T02:39:21.724977Z",
     "start_time": "2020-12-20T02:39:21.716606Z"
    }
   },
   "outputs": [
    {
     "data": {
      "text/plain": [
       "(0, 0)"
      ]
     },
     "execution_count": 16,
     "metadata": {},
     "output_type": "execute_result"
    }
   ],
   "source": [
    "df_Xtrain_scaled.isna().sum().sum(), df_Xtest_scaled.isna().sum().sum()"
   ]
  },
  {
   "cell_type": "code",
   "execution_count": 17,
   "metadata": {
    "ExecuteTime": {
     "end_time": "2020-12-20T02:39:21.810827Z",
     "start_time": "2020-12-20T02:39:21.727253Z"
    }
   },
   "outputs": [],
   "source": [
    "# Scale the relevant columns\n",
    "transformer = ColumnTransformer([('yeo_johnson', PowerTransformer(), cols_scale)], \n",
    "                                remainder='passthrough')\n",
    "transformer.fit(df_Xtrain_smote)\n",
    "\n",
    "df_Xtrain_smote_scaled = pd.DataFrame(transformer.transform(df_Xtrain_smote))\n",
    "df_Xtest_scaled = pd.DataFrame(transformer.transform(df_Xtest)) # Xtest is NEVER oversampled.\n",
    "\n",
    "#features\n",
    "df_Xtrain_smote_scaled.columns = df_Xtrain.columns\n",
    "df_Xtest_scaled.columns = df_Xtest.columns"
   ]
  },
  {
   "cell_type": "markdown",
   "metadata": {},
   "source": [
    "<a id=\"\" ></a>\n",
    "\n",
    "<h1>  Modelling </h1> \n",
    "\n",
    "<a href=\"#top\" class=\"btn btn-primary btn-sm\" role=\"button\" aria-pressed=\"true\" style=\"color:white\" data-toggle=\"popover\" title=\"go to TOC\">Go to Top</a>"
   ]
  },
  {
   "cell_type": "code",
   "execution_count": 18,
   "metadata": {
    "ExecuteTime": {
     "end_time": "2020-12-20T02:39:21.816701Z",
     "start_time": "2020-12-20T02:39:21.812950Z"
    }
   },
   "outputs": [],
   "source": [
    "from sklearn.linear_model import LogisticRegression"
   ]
  },
  {
   "cell_type": "code",
   "execution_count": 32,
   "metadata": {
    "ExecuteTime": {
     "end_time": "2020-12-20T03:12:22.100384Z",
     "start_time": "2020-12-20T03:12:21.616494Z"
    }
   },
   "outputs": [
    {
     "data": {
      "text/plain": [
       "array([[384, 651],\n",
       "       [ 55, 319]])"
      ]
     },
     "execution_count": 32,
     "metadata": {},
     "output_type": "execute_result"
    }
   ],
   "source": [
    "params_fixed = {'dual': False, \n",
    "                'random_state': SEED,\n",
    "                'n_jobs': 1\n",
    "               }\n",
    "\n",
    "params_best = {'C': 0.42679058013626753, 'max_iter': 1000,\n",
    "               'penalty': 'l2', 'solver': 'lbfgs'}\n",
    "# params_best = grid.best_params_\n",
    "\n",
    "params = params_fixed\n",
    "params.update(params_best)\n",
    "\n",
    "model = LogisticRegression(**params)\n",
    "model.fit(df_Xtrain_smote_scaled, ser_ytrain_smote)\n",
    "ypreds = model.predict(df_Xtest)\n",
    "skmetrics.confusion_matrix(np.array(ser_ytest), ypreds)"
   ]
  },
  {
   "cell_type": "code",
   "execution_count": 33,
   "metadata": {
    "ExecuteTime": {
     "end_time": "2020-12-20T03:12:22.870039Z",
     "start_time": "2020-12-20T03:12:22.857565Z"
    }
   },
   "outputs": [
    {
     "data": {
      "text/plain": [
       "array([[874, 161],\n",
       "       [135, 239]])"
      ]
     },
     "execution_count": 33,
     "metadata": {},
     "output_type": "execute_result"
    }
   ],
   "source": [
    "ypreds_scaled = model.predict(df_Xtest_scaled)\n",
    "skmetrics.confusion_matrix(np.array(ser_ytest), ypreds_scaled)"
   ]
  },
  {
   "cell_type": "code",
   "execution_count": 30,
   "metadata": {
    "ExecuteTime": {
     "end_time": "2020-12-20T03:06:20.889634Z",
     "start_time": "2020-12-20T03:06:20.817892Z"
    }
   },
   "outputs": [
    {
     "data": {
      "text/html": [
       "<div>\n",
       "<style scoped>\n",
       "    .dataframe tbody tr th:only-of-type {\n",
       "        vertical-align: middle;\n",
       "    }\n",
       "\n",
       "    .dataframe tbody tr th {\n",
       "        vertical-align: top;\n",
       "    }\n",
       "\n",
       "    .dataframe thead th {\n",
       "        text-align: right;\n",
       "    }\n",
       "</style>\n",
       "<table border=\"1\" class=\"dataframe\">\n",
       "  <thead>\n",
       "    <tr style=\"text-align: right;\">\n",
       "      <th>ypreds</th>\n",
       "      <th>0</th>\n",
       "      <th>1</th>\n",
       "      <th>All</th>\n",
       "    </tr>\n",
       "    <tr>\n",
       "      <th>ytest</th>\n",
       "      <th></th>\n",
       "      <th></th>\n",
       "      <th></th>\n",
       "    </tr>\n",
       "  </thead>\n",
       "  <tbody>\n",
       "    <tr>\n",
       "      <th>0</th>\n",
       "      <td>384</td>\n",
       "      <td>651</td>\n",
       "      <td>1035</td>\n",
       "    </tr>\n",
       "    <tr>\n",
       "      <th>1</th>\n",
       "      <td>55</td>\n",
       "      <td>319</td>\n",
       "      <td>374</td>\n",
       "    </tr>\n",
       "    <tr>\n",
       "      <th>All</th>\n",
       "      <td>439</td>\n",
       "      <td>970</td>\n",
       "      <td>1409</td>\n",
       "    </tr>\n",
       "  </tbody>\n",
       "</table>\n",
       "</div>"
      ],
      "text/plain": [
       "ypreds    0    1   All\n",
       "ytest                 \n",
       "0       384  651  1035\n",
       "1        55  319   374\n",
       "All     439  970  1409"
      ]
     },
     "execution_count": 30,
     "metadata": {},
     "output_type": "execute_result"
    }
   ],
   "source": [
    "df_preds = pd.DataFrame({'ytest': ytest, 'ypreds': ypreds})\n",
    "\n",
    "pd.crosstab(df_preds['ytest'],df_preds['ypreds'],margins=True)"
   ]
  },
  {
   "cell_type": "code",
   "execution_count": 47,
   "metadata": {
    "ExecuteTime": {
     "end_time": "2020-12-20T03:19:15.025561Z",
     "start_time": "2020-12-20T03:19:15.007902Z"
    }
   },
   "outputs": [],
   "source": [
    "features = df_Xtrain_smote.columns.difference([target_name]).tolist()\n",
    "features_all = features + [target_name]"
   ]
  },
  {
   "cell_type": "markdown",
   "metadata": {},
   "source": [
    "# Using What if tool"
   ]
  },
  {
   "cell_type": "code",
   "execution_count": 48,
   "metadata": {
    "ExecuteTime": {
     "end_time": "2020-12-20T03:19:17.845341Z",
     "start_time": "2020-12-20T03:19:17.841092Z"
    }
   },
   "outputs": [],
   "source": [
    "import witwidget\n",
    "from witwidget.notebook.visualization import WitConfigBuilder\n",
    "from witwidget.notebook.visualization import WitWidget"
   ]
  },
  {
   "cell_type": "code",
   "execution_count": 49,
   "metadata": {
    "ExecuteTime": {
     "end_time": "2020-12-20T03:19:18.483364Z",
     "start_time": "2020-12-20T03:19:18.476391Z"
    }
   },
   "outputs": [],
   "source": [
    "def custom_predict_fn(lst):\n",
    "    testing_data = pd.DataFrame(lst, columns=features)\n",
    "    return model.predict_proba(testing_data)"
   ]
  },
  {
   "cell_type": "code",
   "execution_count": 50,
   "metadata": {
    "ExecuteTime": {
     "end_time": "2020-12-20T03:19:19.161639Z",
     "start_time": "2020-12-20T03:19:19.158858Z"
    }
   },
   "outputs": [],
   "source": [
    "# arr_examples.shape, df_Xtest.shape"
   ]
  },
  {
   "cell_type": "code",
   "execution_count": 51,
   "metadata": {
    "ExecuteTime": {
     "end_time": "2020-12-20T03:19:23.037458Z",
     "start_time": "2020-12-20T03:19:20.161101Z"
    }
   },
   "outputs": [
    {
     "data": {
      "text/html": [
       "<style>.container { width:100% !important; }</style>"
      ],
      "text/plain": [
       "<IPython.core.display.HTML object>"
      ]
     },
     "metadata": {},
     "output_type": "display_data"
    },
    {
     "data": {
      "application/vnd.jupyter.widget-view+json": {
       "model_id": "a47ac415f7f74f9a8dc435014b08010e",
       "version_major": 2,
       "version_minor": 0
      },
      "text/plain": [
       "WitWidget(config={'model_type': 'classification', 'label_vocab': [], 'feature_names': ['Contract_mean_totCharg…"
      ]
     },
     "metadata": {},
     "output_type": "display_data"
    }
   ],
   "source": [
    "N = 100\n",
    "N = len(df_Xtest)\n",
    "HEIGHT = 1000\n",
    "\n",
    "arr_examples = np.c_[df_Xtest.to_numpy(), ytest][:N]\n",
    "lst_examples = arr_examples.tolist()\n",
    "\n",
    "config_builder = WitConfigBuilder(lst_examples, features_all)\n",
    "\n",
    "config_builder.set_target_feature(target_name)\n",
    "config_builder.set_custom_predict_fn(custom_predict_fn)\n",
    "config_builder.set_model_type('classification')\n",
    "\n",
    "WitWidget(config_builder, height=HEIGHT)"
   ]
  },
  {
   "cell_type": "code",
   "execution_count": null,
   "metadata": {},
   "outputs": [],
   "source": []
  }
 ],
 "metadata": {
  "kernelspec": {
   "display_name": "Python37(ray)",
   "language": "python",
   "name": "ray"
  },
  "language_info": {
   "codemirror_mode": {
    "name": "ipython",
    "version": 3
   },
   "file_extension": ".py",
   "mimetype": "text/x-python",
   "name": "python",
   "nbconvert_exporter": "python",
   "pygments_lexer": "ipython3",
   "version": "3.7.9"
  },
  "toc": {
   "base_numbering": 1,
   "nav_menu": {},
   "number_sections": true,
   "sideBar": true,
   "skip_h1_title": false,
   "title_cell": "Table of Contents",
   "title_sidebar": "Contents",
   "toc_cell": true,
   "toc_position": {},
   "toc_section_display": true,
   "toc_window_display": true
  },
  "varInspector": {
   "cols": {
    "lenName": 16,
    "lenType": 16,
    "lenVar": 40
   },
   "kernels_config": {
    "python": {
     "delete_cmd_postfix": "",
     "delete_cmd_prefix": "del ",
     "library": "var_list.py",
     "varRefreshCmd": "print(var_dic_list())"
    },
    "r": {
     "delete_cmd_postfix": ") ",
     "delete_cmd_prefix": "rm(",
     "library": "var_list.r",
     "varRefreshCmd": "cat(var_dic_list()) "
    }
   },
   "types_to_exclude": [
    "module",
    "function",
    "builtin_function_or_method",
    "instance",
    "_Feature"
   ],
   "window_display": false
  }
 },
 "nbformat": 4,
 "nbformat_minor": 4
}
